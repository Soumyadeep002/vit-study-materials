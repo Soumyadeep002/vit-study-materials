{
 "cells": [
  {
   "cell_type": "code",
   "execution_count": 1,
   "metadata": {},
   "outputs": [
    {
     "name": "stdout",
     "output_type": "stream",
     "text": [
      "5\n",
      "7\n",
      "11\n"
     ]
    }
   ],
   "source": [
    "a = 5\n",
    "b = 11\n",
    "\n",
    "if a < b and a > 1:\n",
    "    for i in range(a, b+1):\n",
    "        for x in range(2, i//2+1):\n",
    "            if i % x == 0:\n",
    "                break\n",
    "        else:\n",
    "            print(i, end=\"\\n\")\n",
    "\n"
   ]
  },
  {
   "cell_type": "code",
   "execution_count": 2,
   "metadata": {},
   "outputs": [
    {
     "name": "stdout",
     "output_type": "stream",
     "text": [
      "palindrome number\n"
     ]
    }
   ],
   "source": [
    "num = 1234321\n",
    "temp = num\n",
    "reverse = 0\n",
    "while temp>0:\n",
    "    digit = temp % 10\n",
    "    temp = temp//10\n",
    "    reverse = reverse*10 + digit\n",
    "else:\n",
    "    if num == reverse:\n",
    "        print(\"palindrome number\")\n",
    "    else:\n",
    "        print(\"Not a palindrome number\")"
   ]
  },
  {
   "cell_type": "code",
   "execution_count": 3,
   "metadata": {},
   "outputs": [
    {
     "name": "stdout",
     "output_type": "stream",
     "text": [
      "It is a amstong number\n"
     ]
    }
   ],
   "source": [
    "num = 153\n",
    "temp = num\n",
    "summ = 0\n",
    "\n",
    "while temp>0:\n",
    "    digit = temp%10\n",
    "    temp = temp//10\n",
    "    summ = summ + digit**3\n",
    "else:\n",
    "    if summ == num:\n",
    "        print(\"It is a amstong number\")\n",
    "    else:\n",
    "        print(\"It is not a amstong number\")\n",
    "  "
   ]
  },
  {
   "cell_type": "code",
   "execution_count": 4,
   "metadata": {},
   "outputs": [
    {
     "name": "stdout",
     "output_type": "stream",
     "text": [
      "Perfect Number\n"
     ]
    }
   ],
   "source": [
    "num = 6\n",
    "summ = 0\n",
    "for i in range(1,num//2+1):\n",
    "    if num%i == 0:\n",
    "        summ = summ + i\n",
    "else:\n",
    "    if summ == num:\n",
    "        print(\"Perfect Number\")\n",
    "    else:\n",
    "        print(\"Not Perfect Number\")\n",
    "\n"
   ]
  },
  {
   "cell_type": "code",
   "execution_count": 5,
   "metadata": {},
   "outputs": [
    {
     "name": "stdout",
     "output_type": "stream",
     "text": [
      "Factorial of 5 is 120\n"
     ]
    }
   ],
   "source": [
    "num = 5\n",
    "prod = 1\n",
    "for i in range(1, num+1):\n",
    "    prod = prod * i\n",
    "else: \n",
    "    print(f'Factorial of {num} is {prod}')"
   ]
  },
  {
   "cell_type": "code",
   "execution_count": 6,
   "metadata": {},
   "outputs": [
    {
     "name": "stdout",
     "output_type": "stream",
     "text": [
      "*\n",
      "**\n",
      "***\n",
      "****\n",
      "*****\n"
     ]
    }
   ],
   "source": [
    "num = 5\n",
    "for i in range(1, num+1):\n",
    "    print(\"*\"*i)"
   ]
  },
  {
   "cell_type": "code",
   "execution_count": 7,
   "metadata": {},
   "outputs": [
    {
     "name": "stdout",
     "output_type": "stream",
     "text": [
      "*\n",
      "**\n",
      "***\n",
      "****\n",
      "*****\n"
     ]
    }
   ],
   "source": [
    "for i in range(1, num+1):\n",
    "    for j in range(1, i+1):\n",
    "        print(\"*\", end=\"\")\n",
    "    print(\"\")"
   ]
  },
  {
   "cell_type": "code",
   "execution_count": 8,
   "metadata": {},
   "outputs": [
    {
     "data": {
      "text/plain": [
       "'adeep'"
      ]
     },
     "execution_count": 8,
     "metadata": {},
     "output_type": "execute_result"
    }
   ],
   "source": [
    "s = \"soumyadeep\"\n",
    "s[-5:]"
   ]
  },
  {
   "cell_type": "code",
   "execution_count": 9,
   "metadata": {},
   "outputs": [
    {
     "data": {
      "text/plain": [
       "'aym'"
      ]
     },
     "execution_count": 9,
     "metadata": {},
     "output_type": "execute_result"
    }
   ],
   "source": [
    "s[5:2:-1]"
   ]
  },
  {
   "cell_type": "code",
   "execution_count": 10,
   "metadata": {},
   "outputs": [
    {
     "name": "stdout",
     "output_type": "stream",
     "text": [
      "Missile is sold to contry Nono by West.\n"
     ]
    }
   ],
   "source": [
    "txt = '{2} is sold to contry {1} by {0}.'\n",
    "print(txt.format('West', 'Nono', 'Missile'))"
   ]
  },
  {
   "cell_type": "code",
   "execution_count": 11,
   "metadata": {},
   "outputs": [
    {
     "data": {
      "text/plain": [
       "'Soumyadeep'"
      ]
     },
     "execution_count": 11,
     "metadata": {},
     "output_type": "execute_result"
    }
   ],
   "source": [
    "s.swapcase().swapcase().capitalize().swapcase().title()"
   ]
  },
  {
   "cell_type": "code",
   "execution_count": 12,
   "metadata": {},
   "outputs": [
    {
     "data": {
      "text/plain": [
       "['cherry', 'orange', 'kiwi']"
      ]
     },
     "execution_count": 12,
     "metadata": {},
     "output_type": "execute_result"
    }
   ],
   "source": [
    "myFruits = [\"apple\", \"banana\", \"cherry\", \"orange\", \"kiwi\", \"melon\", \"mango\"]\n",
    "myFruits[2:5]"
   ]
  },
  {
   "cell_type": "code",
   "execution_count": 13,
   "metadata": {},
   "outputs": [
    {
     "data": {
      "text/plain": [
       "['apple', 'banana', 'cherry', 'orange']"
      ]
     },
     "execution_count": 13,
     "metadata": {},
     "output_type": "execute_result"
    }
   ],
   "source": [
    "myFruits[:4]"
   ]
  },
  {
   "cell_type": "code",
   "execution_count": 14,
   "metadata": {},
   "outputs": [
    {
     "data": {
      "text/plain": [
       "['orange', 'kiwi', 'melon', 'mango']"
      ]
     },
     "execution_count": 14,
     "metadata": {},
     "output_type": "execute_result"
    }
   ],
   "source": [
    "myFruits[3:]"
   ]
  },
  {
   "cell_type": "code",
   "execution_count": 15,
   "metadata": {},
   "outputs": [
    {
     "data": {
      "text/plain": [
       "['orange', 'kiwi', 'melon']"
      ]
     },
     "execution_count": 15,
     "metadata": {},
     "output_type": "execute_result"
    }
   ],
   "source": [
    "myFruits[-4:-1]"
   ]
  },
  {
   "cell_type": "code",
   "execution_count": 16,
   "metadata": {},
   "outputs": [],
   "source": [
    "tp = tuple({1,5,4})\n",
    "tpl = tuple(sorted(tp))"
   ]
  },
  {
   "cell_type": "code",
   "execution_count": 17,
   "metadata": {},
   "outputs": [
    {
     "data": {
      "text/plain": [
       "(1, 4, 5)"
      ]
     },
     "execution_count": 17,
     "metadata": {},
     "output_type": "execute_result"
    }
   ],
   "source": [
    "tuple(set(sorted(tpl*3)))"
   ]
  },
  {
   "cell_type": "code",
   "execution_count": 18,
   "metadata": {},
   "outputs": [
    {
     "name": "stdout",
     "output_type": "stream",
     "text": [
      "True\n"
     ]
    }
   ],
   "source": [
    "myfruits = {\"apple\", \"banana\", \"cherry\"}\n",
    "print(\"banana\" in myfruits)"
   ]
  },
  {
   "cell_type": "code",
   "execution_count": 19,
   "metadata": {},
   "outputs": [],
   "source": [
    "myfruits.add('soumya')"
   ]
  },
  {
   "cell_type": "code",
   "execution_count": 20,
   "metadata": {},
   "outputs": [
    {
     "data": {
      "text/plain": [
       "{'apple', 'banana', 'cherry', 'soumya'}"
      ]
     },
     "execution_count": 20,
     "metadata": {},
     "output_type": "execute_result"
    }
   ],
   "source": [
    "myfruits"
   ]
  },
  {
   "cell_type": "code",
   "execution_count": 21,
   "metadata": {},
   "outputs": [],
   "source": [
    "myfruits.discard('soumya')"
   ]
  },
  {
   "cell_type": "code",
   "execution_count": 22,
   "metadata": {},
   "outputs": [
    {
     "name": "stdout",
     "output_type": "stream",
     "text": [
      "a soumya\n",
      "b mayuk\n",
      "c arnab\n"
     ]
    }
   ],
   "source": [
    "name = {\n",
    "    'a': 'soumya',\n",
    "    'b':'mayuk',\n",
    "    'c': 'arnab'\n",
    "}\n",
    "\n",
    "for i, j in name.items():\n",
    "    print(i, j)"
   ]
  },
  {
   "cell_type": "code",
   "execution_count": 23,
   "metadata": {},
   "outputs": [
    {
     "name": "stdout",
     "output_type": "stream",
     "text": [
      "{'a': 'soumya', 'b': 'mayuk', 'c': 'arnab', ('b', 'c'): ['Arnab', 'Mayuk']}\n"
     ]
    }
   ],
   "source": [
    "name[\"b\", \"c\"] = [\"Arnab\", \"Mayuk\"]\n",
    "print(name)"
   ]
  },
  {
   "cell_type": "code",
   "execution_count": 24,
   "metadata": {},
   "outputs": [
    {
     "data": {
      "text/plain": [
       "['a', 'b', 'c', ('b', 'c')]"
      ]
     },
     "execution_count": 24,
     "metadata": {},
     "output_type": "execute_result"
    }
   ],
   "source": [
    "[i for i in name.keys()]"
   ]
  },
  {
   "cell_type": "code",
   "execution_count": 25,
   "metadata": {},
   "outputs": [
    {
     "data": {
      "text/plain": [
       "dict_keys(['a', 'b', 'c'])"
      ]
     },
     "execution_count": 25,
     "metadata": {},
     "output_type": "execute_result"
    }
   ],
   "source": [
    "name.pop(('b', 'c'))\n",
    "name.keys()"
   ]
  },
  {
   "cell_type": "code",
   "execution_count": 26,
   "metadata": {},
   "outputs": [
    {
     "data": {
      "text/plain": [
       "dict_keys(['a', 'b'])"
      ]
     },
     "execution_count": 26,
     "metadata": {},
     "output_type": "execute_result"
    }
   ],
   "source": [
    "name.popitem()\n",
    "name.keys()"
   ]
  },
  {
   "cell_type": "code",
   "execution_count": 27,
   "metadata": {},
   "outputs": [
    {
     "data": {
      "text/plain": [
       "[[1, 2, 3, 4], [5, 6, 7, 8], [9, 10, 11, 12], [13, 14, 15, 16]]"
      ]
     },
     "execution_count": 27,
     "metadata": {},
     "output_type": "execute_result"
    }
   ],
   "source": [
    "mat = [[i for i in range(j, j+4, 1)] for j in range(1, 14, 4)]\n",
    "mat"
   ]
  },
  {
   "cell_type": "code",
   "execution_count": 28,
   "metadata": {},
   "outputs": [
    {
     "data": {
      "text/plain": [
       "[[125, 120, 115, 110, 105, 100],\n",
       " [105, 100, 95, 90, 85, 80],\n",
       " [85, 80, 75, 70, 65, 60],\n",
       " [65, 60, 55, 50, 45, 40],\n",
       " [45, 40, 35, 30, 25, 20],\n",
       " [25, 20, 15, 10, 5, 0]]"
      ]
     },
     "execution_count": 28,
     "metadata": {},
     "output_type": "execute_result"
    }
   ],
   "source": [
    "[[i for i in range(j, j-25-1, -5)] for j in range(125, 24, -20)]"
   ]
  },
  {
   "cell_type": "code",
   "execution_count": 29,
   "metadata": {},
   "outputs": [
    {
     "data": {
      "text/plain": [
       "[121, 131, 141, 313, 212]"
      ]
     },
     "execution_count": 29,
     "metadata": {},
     "output_type": "execute_result"
    }
   ],
   "source": [
    "# def checkPal(s):\n",
    "#     if str(s) == str(s)[::-1]:\n",
    "#         return True\n",
    "lst = [121, 122,131,141,315,313,212]\n",
    "list(filter(lambda s: str(s) == str(s)[::-1], lst))"
   ]
  },
  {
   "cell_type": "code",
   "execution_count": 30,
   "metadata": {},
   "outputs": [],
   "source": [
    "import numpy as np"
   ]
  },
  {
   "cell_type": "code",
   "execution_count": 31,
   "metadata": {},
   "outputs": [
    {
     "data": {
      "text/plain": [
       "array([12, 13, 14])"
      ]
     },
     "execution_count": 31,
     "metadata": {},
     "output_type": "execute_result"
    }
   ],
   "source": [
    "arr = np.array([12,13,14])\n",
    "arr"
   ]
  },
  {
   "cell_type": "code",
   "execution_count": 32,
   "metadata": {},
   "outputs": [
    {
     "data": {
      "text/plain": [
       "array([ 1,  2,  3,  4,  5,  6,  7,  8,  9, 10])"
      ]
     },
     "execution_count": 32,
     "metadata": {},
     "output_type": "execute_result"
    }
   ],
   "source": [
    "arr = np.arange(1, 11, 1)\n",
    "arr"
   ]
  },
  {
   "cell_type": "code",
   "execution_count": 33,
   "metadata": {},
   "outputs": [
    {
     "data": {
      "text/plain": [
       "array([ 1.        ,  1.64285714,  2.28571429,  2.92857143,  3.57142857,\n",
       "        4.21428571,  4.85714286,  5.5       ,  6.14285714,  6.78571429,\n",
       "        7.42857143,  8.07142857,  8.71428571,  9.35714286, 10.        ])"
      ]
     },
     "execution_count": 33,
     "metadata": {},
     "output_type": "execute_result"
    }
   ],
   "source": [
    "arr2 = np.linspace(1, 10, 15)\n",
    "arr2"
   ]
  },
  {
   "cell_type": "code",
   "execution_count": 34,
   "metadata": {},
   "outputs": [
    {
     "data": {
      "text/plain": [
       "array([[0., 0., 0., 0.],\n",
       "       [0., 0., 0., 0.],\n",
       "       [0., 0., 0., 0.],\n",
       "       [0., 0., 0., 0.]])"
      ]
     },
     "execution_count": 34,
     "metadata": {},
     "output_type": "execute_result"
    }
   ],
   "source": [
    "zero1 = np.zeros((4,4))\n",
    "zero1"
   ]
  },
  {
   "cell_type": "code",
   "execution_count": 35,
   "metadata": {},
   "outputs": [
    {
     "data": {
      "text/plain": [
       "array([[1., 1., 1., 1., 1.],\n",
       "       [1., 1., 1., 1., 1.]])"
      ]
     },
     "execution_count": 35,
     "metadata": {},
     "output_type": "execute_result"
    }
   ],
   "source": [
    "one1 = np.ones((2,5))\n",
    "one1"
   ]
  },
  {
   "cell_type": "code",
   "execution_count": 36,
   "metadata": {},
   "outputs": [
    {
     "data": {
      "text/plain": [
       "array([[0., 0., 0., 0.],\n",
       "       [0., 0., 0., 0.],\n",
       "       [0., 0., 0., 0.],\n",
       "       [0., 0., 0., 0.]])"
      ]
     },
     "execution_count": 36,
     "metadata": {},
     "output_type": "execute_result"
    }
   ],
   "source": [
    "np.empty((4,4))"
   ]
  },
  {
   "cell_type": "code",
   "execution_count": 37,
   "metadata": {},
   "outputs": [
    {
     "data": {
      "text/plain": [
       "array([[0.08130696, 0.64555369, 0.498562  , 0.71953933],\n",
       "       [0.01225449, 0.20581982, 0.97331058, 0.82528504],\n",
       "       [0.76575348, 0.044163  , 0.95398238, 0.11491023],\n",
       "       [0.52697272, 0.64439756, 0.62918437, 0.60586352]])"
      ]
     },
     "execution_count": 37,
     "metadata": {},
     "output_type": "execute_result"
    }
   ],
   "source": [
    "np.random.random((4,4))"
   ]
  },
  {
   "cell_type": "code",
   "execution_count": 38,
   "metadata": {},
   "outputs": [
    {
     "data": {
      "text/plain": [
       "array([[1., 1.],\n",
       "       [1., 1.],\n",
       "       [1., 1.],\n",
       "       [1., 1.],\n",
       "       [1., 1.]])"
      ]
     },
     "execution_count": 38,
     "metadata": {},
     "output_type": "execute_result"
    }
   ],
   "source": [
    "one1.reshape(5,2)"
   ]
  },
  {
   "cell_type": "code",
   "execution_count": 39,
   "metadata": {},
   "outputs": [
    {
     "data": {
      "text/plain": [
       "dtype('float64')"
      ]
     },
     "execution_count": 39,
     "metadata": {},
     "output_type": "execute_result"
    }
   ],
   "source": [
    "one1.dtype"
   ]
  },
  {
   "cell_type": "code",
   "execution_count": 40,
   "metadata": {},
   "outputs": [],
   "source": [
    "import matplotlib.pyplot as plt\n",
    "import pandas as pd"
   ]
  },
  {
   "cell_type": "code",
   "execution_count": 41,
   "metadata": {},
   "outputs": [
    {
     "data": {
      "text/plain": [
       "[<matplotlib.lines.Line2D at 0x1726ba6da90>]"
      ]
     },
     "execution_count": 41,
     "metadata": {},
     "output_type": "execute_result"
    },
    {
     "data": {
      "image/png": "[encoded data removed]",
      "text/plain": [
       "<Figure size 640x480 with 1 Axes>"
      ]
     },
     "metadata": {},
     "output_type": "display_data"
    }
   ],
   "source": [
    "x =  np.linspace(-5, 5, 100)\n",
    "y1 = x**3+x**2+ 10\n",
    "y2 = 3*x**2 + 6*x\n",
    "y3 = x - 10\n",
    "\n",
    "fig, axs = plt.subplots()\n",
    "axs.plot(x, y1, '-b')\n",
    "axs.plot(x, y2, '--g')\n",
    "axs.plot(x, y3, 'r')"
   ]
  },
  {
   "cell_type": "code",
   "execution_count": 42,
   "metadata": {},
   "outputs": [
    {
     "data": {
      "text/plain": [
       "<matplotlib.collections.PolyCollection at 0x1726db1dd60>"
      ]
     },
     "execution_count": 42,
     "metadata": {},
     "output_type": "execute_result"
    },
    {
     "data": {
      "image/png": "[encoded data removed]",
      "text/plain": [
       "<Figure size 640x480 with 1 Axes>"
      ]
     },
     "metadata": {},
     "output_type": "display_data"
    }
   ],
   "source": [
    "x = np.linspace(-5, 8, 1000)\n",
    "f = np.sin(2*np.pi + x)\n",
    "g = np.cos(2*np.pi - x)\n",
    "\n",
    "fig, ax = plt.subplots()\n",
    "ax.plot(x, f,'--b', lw=2)\n",
    "ax.plot(x, g, 'g', lw=2)\n",
    "ax.fill_between(x,f,g, where=(f>g), color= 'red', alpha=0.3)\n",
    "ax.fill_between(x,f,g, where=(f<g), color= 'blue', alpha=0.3)"
   ]
  },
  {
   "cell_type": "code",
   "execution_count": 43,
   "metadata": {},
   "outputs": [],
   "source": [
    "from scipy.integrate import quad"
   ]
  },
  {
   "cell_type": "code",
   "execution_count": 44,
   "metadata": {},
   "outputs": [
    {
     "name": "stdout",
     "output_type": "stream",
     "text": [
      "Value: 0.8862269117895689\n",
      "Error: 1.318014947623546e-08\n"
     ]
    }
   ],
   "source": [
    "fx = lambda x: np.exp(-x**2)\n",
    "\n",
    "val, err = quad(fx, 0, 4)\n",
    "print(f'Value: {val}')\n",
    "print(f'Error: {err}')"
   ]
  },
  {
   "cell_type": "code",
   "execution_count": 45,
   "metadata": {},
   "outputs": [
    {
     "name": "stdout",
     "output_type": "stream",
     "text": [
      "Value: 5.333333333333333\n",
      "Error: 1.1034865012825346e-13\n"
     ]
    }
   ],
   "source": [
    "from scipy.integrate import dblquad\n",
    "\n",
    "fxy = lambda y, x: x**2 + y\n",
    "ly = lambda x: 0\n",
    "uy = lambda x: x\n",
    "\n",
    "# val, err = dblquad(fxy, 0, 2, 0, 5)\n",
    "val, err = dblquad(fxy, 0, 2, ly, uy)\n",
    "\n",
    "print(f'Value: {val}')\n",
    "print(f'Error: {err}')\n"
   ]
  },
  {
   "cell_type": "code",
   "execution_count": 46,
   "metadata": {},
   "outputs": [
    {
     "name": "stdout",
     "output_type": "stream",
     "text": [
      "-16.88\n"
     ]
    }
   ],
   "source": [
    "from scipy.integrate import tplquad\n",
    "\n",
    "fxyz = lambda z,y,x: x**2 + y + z**3\n",
    "\n",
    "lz = lambda x,y: x+y\n",
    "uz = lambda x,y: x*y\n",
    "\n",
    "ly = lambda x: 0\n",
    "uy = lambda x: x \n",
    "\n",
    "val, err = tplquad(fxyz, 0,2,ly,uy,lz,uz)\n",
    "print(val)"
   ]
  },
  {
   "cell_type": "code",
   "execution_count": 47,
   "metadata": {},
   "outputs": [],
   "source": [
    "from scipy.interpolate import interp1d\n",
    "\n",
    "x = np.linspace(-3, 3, 500)\n",
    "y = 2*x**2 + 3*x- 5 + 1.5*np.random.randn(500)\n",
    "\n",
    "l1 = interp1d(x,y, kind='cubic')"
   ]
  },
  {
   "cell_type": "code",
   "execution_count": 48,
   "metadata": {},
   "outputs": [
    {
     "data": {
      "text/plain": [
       "[<matplotlib.lines.Line2D at 0x172806550d0>]"
      ]
     },
     "execution_count": 48,
     "metadata": {},
     "output_type": "execute_result"
    },
    {
     "data": {
      "image/png": "[encoded data removed]",
      "text/plain": [
       "<Figure size 640x480 with 1 Axes>"
      ]
     },
     "metadata": {},
     "output_type": "display_data"
    }
   ],
   "source": [
    "plt.plot(x, l1(x), '-k')"
   ]
  },
  {
   "cell_type": "code",
   "execution_count": 49,
   "metadata": {},
   "outputs": [
    {
     "name": "stdout",
     "output_type": "stream",
     "text": [
      "0.534849730861244\n"
     ]
    }
   ],
   "source": [
    "x = np.array([0, 0.2, 0.4, 0.6, 0.8, 1, 1.2, 1.4]) \n",
    "y = np.array([0, 0.2, 0.3, 0.5, 0.6, 0.7, 0.8, 0.9]) \n",
    "\n",
    "ipl = interp1d(x, y, kind='cubic')\n",
    "\n",
    "print(ipl(0.65))"
   ]
  },
  {
   "cell_type": "code",
   "execution_count": 50,
   "metadata": {},
   "outputs": [
    {
     "name": "stdout",
     "output_type": "stream",
     "text": [
      "-15.51357621782539\n"
     ]
    }
   ],
   "source": [
    "fxyz = lambda y,z,x: x* np.cos(y-z)\n",
    "\n",
    "val, err = tplquad(fxyz, 1,5,2,3,-1,1)\n",
    "print(val)"
   ]
  },
  {
   "cell_type": "code",
   "execution_count": 51,
   "metadata": {},
   "outputs": [
    {
     "data": {
      "text/plain": [
       "array([ 0.73699284, -0.36209615,  0.41821791,  0.88369932, -0.79100712,\n",
       "        2.09426045,  0.63579398,  0.59791155, -0.89717079, -0.93936166,\n",
       "        2.12287646, -0.1835823 , -0.46430913, -1.00427456,  1.445877  ,\n",
       "       -1.22976594, -0.5715417 ,  0.13090724,  0.27525999, -1.23578096,\n",
       "        0.35844672,  0.99151377,  0.75605346,  1.22775063, -0.92884352,\n",
       "        0.14498752,  0.11864885,  1.44176646, -1.52673826, -1.85340372,\n",
       "        1.47772655,  2.13298177,  0.89276349,  0.9748565 ,  0.21295355,\n",
       "       -0.3163253 ,  0.29577244,  0.65694546,  0.40482919, -1.40684268,\n",
       "       -0.39110309, -0.57923334, -0.86629789,  0.38742999, -0.65631568,\n",
       "        0.37296568,  0.88048063,  0.25080875, -0.14483196, -0.77025057,\n",
       "       -0.54264201, -1.64251107, -0.18162688, -0.29508265, -0.56118199,\n",
       "       -0.36600033,  1.16805819, -0.63950376, -3.2317255 , -1.66121982,\n",
       "       -0.4875697 , -1.86546648,  0.50119071,  0.83050628,  1.70422798,\n",
       "        0.0887887 ,  0.53237171,  1.59232009, -0.20240173, -0.32629269,\n",
       "       -0.89668602, -0.14276038,  0.05518354,  1.28193562, -0.72190947,\n",
       "       -0.57241389, -1.33231903, -1.29751516,  1.6211562 ,  1.31406836,\n",
       "        0.55857844,  1.89132732,  1.04775859, -0.87869177,  1.20451113,\n",
       "        0.48203847,  0.7059472 ,  0.93726324,  1.45395706,  1.27945631,\n",
       "       -0.09835804,  1.95511165,  0.75802931, -1.00197717, -1.39862948,\n",
       "        0.80890076,  0.04770594,  0.27340579,  0.5057593 , -0.48381022])"
      ]
     },
     "execution_count": 51,
     "metadata": {},
     "output_type": "execute_result"
    }
   ],
   "source": [
    "np.random.normal(size = 100)"
   ]
  },
  {
   "cell_type": "code",
   "execution_count": 52,
   "metadata": {},
   "outputs": [],
   "source": [
    "A = [[i for i in range(j, j+43, 7)] for j in range(10, 23, 2)  if j!= 16]"
   ]
  },
  {
   "cell_type": "code",
   "execution_count": 78,
   "metadata": {},
   "outputs": [
    {
     "data": {
      "text/plain": [
       "array([[10, 17, 24, 31, 38, 45, 52],\n",
       "       [12, 19, 26, 33, 40, 47, 54],\n",
       "       [14, 21, 28, 35, 42, 49, 56],\n",
       "       [18, 25, 32, 39, 46, 53, 60],\n",
       "       [20, 27, 34, 41, 48, 55, 62],\n",
       "       [22, 29, 36, 43, 50, 57, 64]])"
      ]
     },
     "execution_count": 78,
     "metadata": {},
     "output_type": "execute_result"
    }
   ],
   "source": [
    "A = np.array(A)\n",
    "A"
   ]
  },
  {
   "cell_type": "code",
   "execution_count": 83,
   "metadata": {},
   "outputs": [
    {
     "data": {
      "text/plain": [
       "array([[19, 33],\n",
       "       [25, 39],\n",
       "       [29, 43]])"
      ]
     },
     "execution_count": 83,
     "metadata": {},
     "output_type": "execute_result"
    }
   ],
   "source": [
    "A[1::2, 1:4:2]"
   ]
  },
  {
   "cell_type": "code",
   "execution_count": 87,
   "metadata": {},
   "outputs": [
    {
     "data": {
      "text/plain": [
       "array([[48, 34, 20],\n",
       "       [42, 28, 14],\n",
       "       [38, 24, 10]])"
      ]
     },
     "execution_count": 87,
     "metadata": {},
     "output_type": "execute_result"
    }
   ],
   "source": [
    "A[4::-2, 4::-2]"
   ]
  },
  {
   "cell_type": "code",
   "execution_count": 94,
   "metadata": {},
   "outputs": [],
   "source": [
    "B3 = []\n",
    "B3.append(A[0,1])\n",
    "B3.append(A[1,2])\n",
    "B3.append(A[2,3])"
   ]
  },
  {
   "cell_type": "code",
   "execution_count": 95,
   "metadata": {},
   "outputs": [
    {
     "data": {
      "text/plain": [
       "array([17, 26, 35])"
      ]
     },
     "execution_count": 95,
     "metadata": {},
     "output_type": "execute_result"
    }
   ],
   "source": [
    "np.array(B3)"
   ]
  },
  {
   "cell_type": "code",
   "execution_count": 100,
   "metadata": {},
   "outputs": [
    {
     "data": {
      "text/plain": [
       "(array([1, 3, 4]), array([4, 6, 0]))"
      ]
     },
     "execution_count": 100,
     "metadata": {},
     "output_type": "execute_result"
    }
   ],
   "source": [
    "np.where(A%20 == 0)"
   ]
  },
  {
   "cell_type": "code",
   "execution_count": 102,
   "metadata": {},
   "outputs": [
    {
     "data": {
      "text/plain": [
       "numpy.ndarray"
      ]
     },
     "execution_count": 102,
     "metadata": {},
     "output_type": "execute_result"
    }
   ],
   "source": [
    "type(np.array({1,2,3}))"
   ]
  },
  {
   "cell_type": "code",
   "execution_count": null,
   "metadata": {},
   "outputs": [],
   "source": []
  }
 ],
 "metadata": {
  "kernelspec": {
   "display_name": ".venv",
   "language": "python",
   "name": "python3"
  },
  "language_info": {
   "codemirror_mode": {
    "name": "ipython",
    "version": 3
   },
   "file_extension": ".py",
   "mimetype": "text/x-python",
   "name": "python",
   "nbconvert_exporter": "python",
   "pygments_lexer": "ipython3",
   "version": "3.12.8"
  }
 },
 "nbformat": 4,
 "nbformat_minor": 2
}
