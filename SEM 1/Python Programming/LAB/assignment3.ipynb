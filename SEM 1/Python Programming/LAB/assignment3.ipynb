{
 "cells": [
  {
   "cell_type": "markdown",
   "metadata": {},
   "source": [
    "<h1 style=\"text-align:center;font-size:45px\"><strong>Assignment 3 - Functions</strong></h1>\n",
    "<h1 style=\"text-align:center;font-size:30px\"><strong>Python Programming Lab</strong></h1>\n",
    "<div style=\"text-align:center; font-size:25px\">\n",
    "    <strong>Name:</strong> Soumyadeep Ganguly<br>\n",
    "    <strong>Reg No.:</strong> 24MDT0082\n",
    "<div>\n",
    "\n"
   ]
  },
  {
   "cell_type": "markdown",
   "metadata": {},
   "source": [
    "## **Exercise 1.** Write a Python function named ConvertToArray(str) which takes a string of numbers separated by commas and colon."
   ]
  },
  {
   "cell_type": "code",
   "execution_count": 36,
   "metadata": {},
   "outputs": [],
   "source": [
    "def ConvertToArray(s):\n",
    "    lst = []\n",
    "    temp = []\n",
    "    for i in s.split(\";\"):\n",
    "        for j in i.split(\",\"):\n",
    "            try:\n",
    "                temp.append(float(j))\n",
    "            except ValueError:\n",
    "                    pass\n",
    "        lst.append(temp)\n",
    "        temp = []\n",
    "    return lst"
   ]
  },
  {
   "cell_type": "code",
   "execution_count": 37,
   "metadata": {},
   "outputs": [
    {
     "name": "stdout",
     "output_type": "stream",
     "text": [
      "[[1.0, 2.0, 3.0, 4.0], [5.0, 6.0, 7.0]]\n"
     ]
    }
   ],
   "source": [
    "s = \"1,2,3,4;5,6,7,d\"\n",
    "print(ConvertToArray(s))"
   ]
  },
  {
   "cell_type": "markdown",
   "metadata": {},
   "source": [
    "## **Exercise 2.** Write a function named ArraySize(array) which accepts a list of numbers and returns its dimension (i.e.,number of rows and columns)."
   ]
  },
  {
   "cell_type": "code",
   "execution_count": 106,
   "metadata": {},
   "outputs": [],
   "source": [
    "def ArraySize(arr):\n",
    "    r,c = 0, 0\n",
    "    length = []\n",
    "    if type(arr[0]) != list:\n",
    "        r = 1\n",
    "        c = len(arr)\n",
    "    else:\n",
    "        for i in arr:\n",
    "            length.append(len(i))\n",
    "        else:\n",
    "            r = len(arr)\n",
    "            c = max(length)\n",
    "\n",
    "    return r,c\n",
    "    "
   ]
  },
  {
   "cell_type": "code",
   "execution_count": 107,
   "metadata": {},
   "outputs": [
    {
     "name": "stdout",
     "output_type": "stream",
     "text": [
      "(3, 4)\n"
     ]
    }
   ],
   "source": [
    "c=[[1,2,4,5],[1,2,3], [4,5,6,7]]\n",
    "print(ArraySize(c))"
   ]
  },
  {
   "cell_type": "markdown",
   "metadata": {},
   "source": [
    "## **Exercise 3.** Write a function named NonZeroEntries(array) which accepts an array and returns True if all the entries in that array are non-zero else returns False."
   ]
  },
  {
   "cell_type": "code",
   "execution_count": 58,
   "metadata": {},
   "outputs": [],
   "source": [
    "def NonZeroEntries(arr):\n",
    "    for i in arr:\n",
    "        if i == 0 or i == \"0\":\n",
    "            b =  False\n",
    "            break\n",
    "    else:\n",
    "        b = True\n",
    "    \n",
    "    return b"
   ]
  },
  {
   "cell_type": "code",
   "execution_count": 108,
   "metadata": {},
   "outputs": [
    {
     "data": {
      "text/plain": [
       "True"
      ]
     },
     "execution_count": 108,
     "metadata": {},
     "output_type": "execute_result"
    }
   ],
   "source": [
    "arr = \"sd43493836\"\n",
    "NonZeroEntries(arr)"
   ]
  },
  {
   "cell_type": "code",
   "execution_count": 109,
   "metadata": {},
   "outputs": [
    {
     "data": {
      "text/plain": [
       "False"
      ]
     },
     "execution_count": 109,
     "metadata": {},
     "output_type": "execute_result"
    }
   ],
   "source": [
    "arr = \"fdjflk0043kdf0300\"\n",
    "NonZeroEntries(arr)"
   ]
  },
  {
   "cell_type": "markdown",
   "metadata": {},
   "source": [
    "## **Exercise 4.** Write a function ArrayOperations(array1,array2,operation) where the operation is either add, subtract, dotproduct and dotdivide Then the function should perform the operations of addition, subtraction, and element-wise multiplication, division respectively on the arrays array1 and array2."
   ]
  },
  {
   "cell_type": "code",
   "execution_count": 18,
   "metadata": {},
   "outputs": [],
   "source": [
    "def add(arr1, arr2):\n",
    "    pr = []\n",
    "    temp = []\n",
    "    for i in range(len(arr1)):\n",
    "        for j in range(len(arr1[i])):\n",
    "            temp.append(arr1[i][j]+arr2[i][j])\n",
    "        pr.append(temp)\n",
    "        temp = []\n",
    "    \n",
    "    return pr\n",
    "\n",
    "def subtract(arr1, arr2):\n",
    "    pr = []\n",
    "    temp = []\n",
    "    for i in range(len(arr1)):\n",
    "        for j in range(len(arr1[i])):\n",
    "            temp.append(arr1[i][j] - arr2[i][j])\n",
    "        pr.append(temp)\n",
    "        temp = []\n",
    "    \n",
    "    return pr\n",
    "\n",
    "\n",
    "\n",
    "def dotproduct(arr1, arr2):\n",
    "    pr = []\n",
    "    temp = []\n",
    "    for i in range(len(arr1)):\n",
    "        for j in range(len(arr1[i])):\n",
    "            temp.append(arr1[i][j]*arr2[i][j])\n",
    "        pr.append(temp)\n",
    "        temp = []\n",
    "    \n",
    "    return pr\n",
    "    \n",
    "\n",
    "def dotdevide(arr1, arr2):\n",
    "    pr = []\n",
    "    temp = []\n",
    "    for i in range(len(arr1)):\n",
    "        for j in range(len(arr1[i])):\n",
    "            temp.append(arr1[i][j]/arr2[i][j])\n",
    "        pr.append(temp)\n",
    "        temp = []\n",
    "    return pr\n",
    "\n",
    "        \n",
    "    \n",
    "def ArrayOperations(arr1, arr2, operation):\n",
    "    if len(arr1) == len(arr2):\n",
    "        match operation:\n",
    "            case \"add\":\n",
    "                return add(arr1, arr2)\n",
    "            case \"sub\":\n",
    "                return subtract(arr1, arr2)\n",
    "            case \"pro\":\n",
    "                return dotproduct(arr1, arr2)\n",
    "            case \"div\":\n",
    "                return dotdevide(arr1, arr2)\n",
    "            case _:\n",
    "                return \"Enter a valid operation\"\n",
    "    else:\n",
    "        return \"Enter matrix with equal dimension\""
   ]
  },
  {
   "cell_type": "code",
   "execution_count": 17,
   "metadata": {},
   "outputs": [
    {
     "name": "stdout",
     "output_type": "stream",
     "text": [
      "Element wise addition of array1 and array2 is: [[3, 3], [7, 7]]\n",
      "Element wise substraction of array1 and array2 is: [[-1, 1], [-1, 1]]\n",
      "Element wise product of array1 and array2 is: [[2, 2], [12, 12]]\n",
      "Element wise division of array1 and array2 is: [[0.5, 2.0], [0.75, 1.3333333333333333]]\n"
     ]
    }
   ],
   "source": [
    "arr1 = [[1,2], [3,4]]\n",
    "arr2 = [[2,1], [4,3]]\n",
    "\n",
    "print(f'Element wise addition of array1 and array2 is: {ArrayOperations(arr1, arr2, 'add')}')\n",
    "print(f'Element wise substraction of array1 and array2 is: {ArrayOperations(arr1, arr2, 'sub')}')\n",
    "print(f'Element wise product of array1 and array2 is: {ArrayOperations(arr1, arr2, 'pro')}')\n",
    "print(f'Element wise division of array1 and array2 is: {ArrayOperations(arr1, arr2, 'div')}')"
   ]
  },
  {
   "cell_type": "markdown",
   "metadata": {},
   "source": [
    "## **Exercise 5.** Extend the above function’s functionality to accept variable number of arrays and perform the given operation on all of them."
   ]
  },
  {
   "cell_type": "code",
   "execution_count": 44,
   "metadata": {},
   "outputs": [],
   "source": [
    "def add2(*args):\n",
    "    summ = 0\n",
    "    pr = []\n",
    "    temp = []\n",
    "    for i in range(len(args[0])):\n",
    "        for j in range(len(args[0][i])):\n",
    "            for arg in args:\n",
    "                summ += arg[i][j]\n",
    "            temp.append(summ)\n",
    "            summ = 0\n",
    "        pr.append(temp)\n",
    "        temp = []\n",
    "    return pr\n",
    "\n",
    "def subtract2(*args):\n",
    "    subb = 0\n",
    "    pr = []\n",
    "    temp = []\n",
    "    for i in range(len(args[0])):\n",
    "        for j in range(len(args[0][i])):\n",
    "            for arg in args:\n",
    "                subb -= arg[i][j]\n",
    "            temp.append(subb)\n",
    "            subb = 0\n",
    "        pr.append(temp)\n",
    "        temp = []\n",
    "    return pr\n",
    "\n",
    "\n",
    "\n",
    "def dotproduct2(*args):\n",
    "    product = 1\n",
    "    pr = []\n",
    "    temp = []\n",
    "    for i in range(len(args[0])):\n",
    "        for j in range(len(args[0][i])):\n",
    "            for arg in args:\n",
    "                product *= arg[i][j]\n",
    "            temp.append(product)\n",
    "            product = 1\n",
    "        pr.append(temp)\n",
    "        temp = []\n",
    "    return pr\n",
    "    \n",
    "\n",
    "def dotdevide2(*args):\n",
    "    division = 1\n",
    "    pr = []\n",
    "    temp = []\n",
    "    for i in range(len(args[0])):\n",
    "        for j in range(len(args[0][i])):\n",
    "            for arg in args:\n",
    "                division /= arg[i][j]\n",
    "            temp.append(division)\n",
    "            division = 1\n",
    "        pr.append(temp)\n",
    "        temp = []\n",
    "    return pr\n",
    "\n",
    "        \n",
    "    \n",
    "def ArrayOperations2(*arrs, operation):\n",
    "        match operation:\n",
    "            case \"add\":\n",
    "                return add2(*arrs)\n",
    "            case \"sub\":\n",
    "                return subtract2(*arrs)\n",
    "            case \"pro\":\n",
    "                return dotproduct2(*arrs)\n",
    "            case \"div\":\n",
    "                return dotdevide2(*arrs)\n",
    "            case _:\n",
    "                return \"Enter a valid operation\"\n",
    "    "
   ]
  },
  {
   "cell_type": "code",
   "execution_count": 47,
   "metadata": {},
   "outputs": [
    {
     "data": {
      "text/plain": [
       "[[9, 11], [17, 19]]"
      ]
     },
     "execution_count": 47,
     "metadata": {},
     "output_type": "execute_result"
    }
   ],
   "source": [
    "ArrayOperations2([[1,2], [3,4]], [[2,1], [4,3]], [[3,4],[5,6]], [[3,4],[5,6]], operation = 'add')"
   ]
  },
  {
   "cell_type": "code",
   "execution_count": 46,
   "metadata": {},
   "outputs": [
    {
     "data": {
      "text/plain": [
       "[[-9, -11], [-17, -19]]"
      ]
     },
     "execution_count": 46,
     "metadata": {},
     "output_type": "execute_result"
    }
   ],
   "source": [
    "ArrayOperations2([[1,2], [3,4]], [[2,1], [4,3]], [[3,4],[5,6]], [[3,4],[5,6]], operation = 'sub')"
   ]
  },
  {
   "cell_type": "code",
   "execution_count": 42,
   "metadata": {},
   "outputs": [
    {
     "data": {
      "text/plain": [
       "[[18, 32], [300, 432]]"
      ]
     },
     "execution_count": 42,
     "metadata": {},
     "output_type": "execute_result"
    }
   ],
   "source": [
    "ArrayOperations2([[1,2], [3,4]], [[2,1], [4,3]], [[3,4],[5,6]], [[3,4],[5,6]], operation = 'pro')"
   ]
  },
  {
   "cell_type": "code",
   "execution_count": 45,
   "metadata": {},
   "outputs": [
    {
     "data": {
      "text/plain": [
       "[[0.05555555555555555, 0.03125], [0.003333333333333333, 0.0023148148148148147]]"
      ]
     },
     "execution_count": 45,
     "metadata": {},
     "output_type": "execute_result"
    }
   ],
   "source": [
    "ArrayOperations2([[1,2], [3,4]], [[2,1], [4,3]], [[3,4],[5,6]], [[3,4],[5,6]], operation = 'div')"
   ]
  }
 ],
 "metadata": {
  "kernelspec": {
   "display_name": "Python 3",
   "language": "python",
   "name": "python3"
  },
  "language_info": {
   "codemirror_mode": {
    "name": "ipython",
    "version": 3
   },
   "file_extension": ".py",
   "mimetype": "text/x-python",
   "name": "python",
   "nbconvert_exporter": "python",
   "pygments_lexer": "ipython3",
   "version": "3.12.7"
  }
 },
 "nbformat": 4,
 "nbformat_minor": 2
}
