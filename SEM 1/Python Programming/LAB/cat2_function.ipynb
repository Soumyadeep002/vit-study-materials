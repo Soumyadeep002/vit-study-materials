{
 "cells": [
  {
   "cell_type": "code",
   "execution_count": 1,
   "metadata": {},
   "outputs": [],
   "source": [
    "def decorator1(func):\n",
    "    def inner():\n",
    "        print(\"#\"*20)\n",
    "        func()\n",
    "        print(\"#\"*20)\n",
    "    return inner\n",
    "\n",
    "def decorator2(func):\n",
    "    def inner():\n",
    "        print(\"%\"*20)\n",
    "        func()\n",
    "        print(\"%\"*20)\n",
    "    return inner\n",
    "\n",
    "@decorator2\n",
    "@decorator1\n",
    "def msg():\n",
    "    print(\"Hello User\")\n"
   ]
  },
  {
   "cell_type": "code",
   "execution_count": 2,
   "metadata": {},
   "outputs": [
    {
     "name": "stdout",
     "output_type": "stream",
     "text": [
      "%%%%%%%%%%%%%%%%%%%%\n",
      "####################\n",
      "Hello User\n",
      "####################\n",
      "%%%%%%%%%%%%%%%%%%%%\n"
     ]
    }
   ],
   "source": [
    "msg()"
   ]
  },
  {
   "cell_type": "code",
   "execution_count": 3,
   "metadata": {},
   "outputs": [
    {
     "name": "stdout",
     "output_type": "stream",
     "text": [
      "!\n",
      " \n",
      "o\n",
      "l\n",
      "l\n",
      "e\n",
      "H\n",
      " \n"
     ]
    }
   ],
   "source": [
    "def rev_str ( mystr ) :\n",
    "    length = len ( mystr )\n",
    "    for i in range ( length-1 , -1 , -1) :\n",
    "        yield mystr [ i ]\n",
    "\n",
    "for ch in rev_str (\" Hello !\") :\n",
    "    print( ch )"
   ]
  },
  {
   "cell_type": "code",
   "execution_count": 4,
   "metadata": {},
   "outputs": [],
   "source": [
    "def pythogorian_triplet(n):\n",
    "    mainls = []\n",
    "    temp = []\n",
    "    if n > 0:\n",
    "        for z in range(n):\n",
    "            for y in range(n):\n",
    "                for x in range(n):\n",
    "                    if z**2 == (x**2) + (y**2):\n",
    "                        temp.append(x)\n",
    "                        temp.append(y)\n",
    "                        temp.append(z)\n",
    "                        mainls.append(temp)\n",
    "                    temp = []\n",
    "        yield mainls\n",
    "        \n",
    "\n"
   ]
  },
  {
   "cell_type": "code",
   "execution_count": 5,
   "metadata": {},
   "outputs": [
    {
     "data": {
      "text/plain": [
       "299"
      ]
     },
     "execution_count": 5,
     "metadata": {},
     "output_type": "execute_result"
    }
   ],
   "source": [
    "lst = list(pythogorian_triplet(100))\n",
    "len(lst[0])"
   ]
  },
  {
   "cell_type": "code",
   "execution_count": 6,
   "metadata": {},
   "outputs": [
    {
     "data": {
      "text/plain": [
       "[[[0, 0, 0],\n",
       "  [1, 0, 1],\n",
       "  [0, 1, 1],\n",
       "  [2, 0, 2],\n",
       "  [0, 2, 2],\n",
       "  [3, 0, 3],\n",
       "  [0, 3, 3],\n",
       "  [4, 0, 4],\n",
       "  [0, 4, 4],\n",
       "  [5, 0, 5],\n",
       "  [4, 3, 5],\n",
       "  [3, 4, 5],\n",
       "  [0, 5, 5],\n",
       "  [6, 0, 6],\n",
       "  [0, 6, 6],\n",
       "  [7, 0, 7],\n",
       "  [0, 7, 7],\n",
       "  [8, 0, 8],\n",
       "  [0, 8, 8],\n",
       "  [9, 0, 9],\n",
       "  [0, 9, 9],\n",
       "  [10, 0, 10],\n",
       "  [8, 6, 10],\n",
       "  [6, 8, 10],\n",
       "  [0, 10, 10],\n",
       "  [11, 0, 11],\n",
       "  [0, 11, 11],\n",
       "  [12, 0, 12],\n",
       "  [0, 12, 12],\n",
       "  [13, 0, 13],\n",
       "  [12, 5, 13],\n",
       "  [5, 12, 13],\n",
       "  [0, 13, 13],\n",
       "  [14, 0, 14],\n",
       "  [0, 14, 14],\n",
       "  [15, 0, 15],\n",
       "  [12, 9, 15],\n",
       "  [9, 12, 15],\n",
       "  [0, 15, 15],\n",
       "  [16, 0, 16],\n",
       "  [0, 16, 16],\n",
       "  [17, 0, 17],\n",
       "  [15, 8, 17],\n",
       "  [8, 15, 17],\n",
       "  [0, 17, 17],\n",
       "  [18, 0, 18],\n",
       "  [0, 18, 18],\n",
       "  [19, 0, 19],\n",
       "  [0, 19, 19],\n",
       "  [20, 0, 20],\n",
       "  [16, 12, 20],\n",
       "  [12, 16, 20],\n",
       "  [0, 20, 20],\n",
       "  [21, 0, 21],\n",
       "  [0, 21, 21],\n",
       "  [22, 0, 22],\n",
       "  [0, 22, 22],\n",
       "  [23, 0, 23],\n",
       "  [0, 23, 23],\n",
       "  [24, 0, 24],\n",
       "  [0, 24, 24],\n",
       "  [25, 0, 25],\n",
       "  [24, 7, 25],\n",
       "  [20, 15, 25],\n",
       "  [15, 20, 25],\n",
       "  [7, 24, 25],\n",
       "  [0, 25, 25],\n",
       "  [26, 0, 26],\n",
       "  [24, 10, 26],\n",
       "  [10, 24, 26],\n",
       "  [0, 26, 26],\n",
       "  [27, 0, 27],\n",
       "  [0, 27, 27],\n",
       "  [28, 0, 28],\n",
       "  [0, 28, 28],\n",
       "  [29, 0, 29],\n",
       "  [21, 20, 29],\n",
       "  [20, 21, 29],\n",
       "  [0, 29, 29],\n",
       "  [30, 0, 30],\n",
       "  [24, 18, 30],\n",
       "  [18, 24, 30],\n",
       "  [0, 30, 30],\n",
       "  [31, 0, 31],\n",
       "  [0, 31, 31],\n",
       "  [32, 0, 32],\n",
       "  [0, 32, 32],\n",
       "  [33, 0, 33],\n",
       "  [0, 33, 33],\n",
       "  [34, 0, 34],\n",
       "  [30, 16, 34],\n",
       "  [16, 30, 34],\n",
       "  [0, 34, 34],\n",
       "  [35, 0, 35],\n",
       "  [28, 21, 35],\n",
       "  [21, 28, 35],\n",
       "  [0, 35, 35],\n",
       "  [36, 0, 36],\n",
       "  [0, 36, 36],\n",
       "  [37, 0, 37],\n",
       "  [35, 12, 37],\n",
       "  [12, 35, 37],\n",
       "  [0, 37, 37],\n",
       "  [38, 0, 38],\n",
       "  [0, 38, 38],\n",
       "  [39, 0, 39],\n",
       "  [36, 15, 39],\n",
       "  [15, 36, 39],\n",
       "  [0, 39, 39],\n",
       "  [40, 0, 40],\n",
       "  [32, 24, 40],\n",
       "  [24, 32, 40],\n",
       "  [0, 40, 40],\n",
       "  [41, 0, 41],\n",
       "  [40, 9, 41],\n",
       "  [9, 40, 41],\n",
       "  [0, 41, 41],\n",
       "  [42, 0, 42],\n",
       "  [0, 42, 42],\n",
       "  [43, 0, 43],\n",
       "  [0, 43, 43],\n",
       "  [44, 0, 44],\n",
       "  [0, 44, 44],\n",
       "  [45, 0, 45],\n",
       "  [36, 27, 45],\n",
       "  [27, 36, 45],\n",
       "  [0, 45, 45],\n",
       "  [46, 0, 46],\n",
       "  [0, 46, 46],\n",
       "  [47, 0, 47],\n",
       "  [0, 47, 47],\n",
       "  [48, 0, 48],\n",
       "  [0, 48, 48],\n",
       "  [49, 0, 49],\n",
       "  [0, 49, 49],\n",
       "  [50, 0, 50],\n",
       "  [48, 14, 50],\n",
       "  [40, 30, 50],\n",
       "  [30, 40, 50],\n",
       "  [14, 48, 50],\n",
       "  [0, 50, 50],\n",
       "  [51, 0, 51],\n",
       "  [45, 24, 51],\n",
       "  [24, 45, 51],\n",
       "  [0, 51, 51],\n",
       "  [52, 0, 52],\n",
       "  [48, 20, 52],\n",
       "  [20, 48, 52],\n",
       "  [0, 52, 52],\n",
       "  [53, 0, 53],\n",
       "  [45, 28, 53],\n",
       "  [28, 45, 53],\n",
       "  [0, 53, 53],\n",
       "  [54, 0, 54],\n",
       "  [0, 54, 54],\n",
       "  [55, 0, 55],\n",
       "  [44, 33, 55],\n",
       "  [33, 44, 55],\n",
       "  [0, 55, 55],\n",
       "  [56, 0, 56],\n",
       "  [0, 56, 56],\n",
       "  [57, 0, 57],\n",
       "  [0, 57, 57],\n",
       "  [58, 0, 58],\n",
       "  [42, 40, 58],\n",
       "  [40, 42, 58],\n",
       "  [0, 58, 58],\n",
       "  [59, 0, 59],\n",
       "  [0, 59, 59],\n",
       "  [60, 0, 60],\n",
       "  [48, 36, 60],\n",
       "  [36, 48, 60],\n",
       "  [0, 60, 60],\n",
       "  [61, 0, 61],\n",
       "  [60, 11, 61],\n",
       "  [11, 60, 61],\n",
       "  [0, 61, 61],\n",
       "  [62, 0, 62],\n",
       "  [0, 62, 62],\n",
       "  [63, 0, 63],\n",
       "  [0, 63, 63],\n",
       "  [64, 0, 64],\n",
       "  [0, 64, 64],\n",
       "  [65, 0, 65],\n",
       "  [63, 16, 65],\n",
       "  [60, 25, 65],\n",
       "  [56, 33, 65],\n",
       "  [52, 39, 65],\n",
       "  [39, 52, 65],\n",
       "  [33, 56, 65],\n",
       "  [25, 60, 65],\n",
       "  [16, 63, 65],\n",
       "  [0, 65, 65],\n",
       "  [66, 0, 66],\n",
       "  [0, 66, 66],\n",
       "  [67, 0, 67],\n",
       "  [0, 67, 67],\n",
       "  [68, 0, 68],\n",
       "  [60, 32, 68],\n",
       "  [32, 60, 68],\n",
       "  [0, 68, 68],\n",
       "  [69, 0, 69],\n",
       "  [0, 69, 69],\n",
       "  [70, 0, 70],\n",
       "  [56, 42, 70],\n",
       "  [42, 56, 70],\n",
       "  [0, 70, 70],\n",
       "  [71, 0, 71],\n",
       "  [0, 71, 71],\n",
       "  [72, 0, 72],\n",
       "  [0, 72, 72],\n",
       "  [73, 0, 73],\n",
       "  [55, 48, 73],\n",
       "  [48, 55, 73],\n",
       "  [0, 73, 73],\n",
       "  [74, 0, 74],\n",
       "  [70, 24, 74],\n",
       "  [24, 70, 74],\n",
       "  [0, 74, 74],\n",
       "  [75, 0, 75],\n",
       "  [72, 21, 75],\n",
       "  [60, 45, 75],\n",
       "  [45, 60, 75],\n",
       "  [21, 72, 75],\n",
       "  [0, 75, 75],\n",
       "  [76, 0, 76],\n",
       "  [0, 76, 76],\n",
       "  [77, 0, 77],\n",
       "  [0, 77, 77],\n",
       "  [78, 0, 78],\n",
       "  [72, 30, 78],\n",
       "  [30, 72, 78],\n",
       "  [0, 78, 78],\n",
       "  [79, 0, 79],\n",
       "  [0, 79, 79],\n",
       "  [80, 0, 80],\n",
       "  [64, 48, 80],\n",
       "  [48, 64, 80],\n",
       "  [0, 80, 80],\n",
       "  [81, 0, 81],\n",
       "  [0, 81, 81],\n",
       "  [82, 0, 82],\n",
       "  [80, 18, 82],\n",
       "  [18, 80, 82],\n",
       "  [0, 82, 82],\n",
       "  [83, 0, 83],\n",
       "  [0, 83, 83],\n",
       "  [84, 0, 84],\n",
       "  [0, 84, 84],\n",
       "  [85, 0, 85],\n",
       "  [84, 13, 85],\n",
       "  [77, 36, 85],\n",
       "  [75, 40, 85],\n",
       "  [68, 51, 85],\n",
       "  [51, 68, 85],\n",
       "  [40, 75, 85],\n",
       "  [36, 77, 85],\n",
       "  [13, 84, 85],\n",
       "  [0, 85, 85],\n",
       "  [86, 0, 86],\n",
       "  [0, 86, 86],\n",
       "  [87, 0, 87],\n",
       "  [63, 60, 87],\n",
       "  [60, 63, 87],\n",
       "  [0, 87, 87],\n",
       "  [88, 0, 88],\n",
       "  [0, 88, 88],\n",
       "  [89, 0, 89],\n",
       "  [80, 39, 89],\n",
       "  [39, 80, 89],\n",
       "  [0, 89, 89],\n",
       "  [90, 0, 90],\n",
       "  [72, 54, 90],\n",
       "  [54, 72, 90],\n",
       "  [0, 90, 90],\n",
       "  [91, 0, 91],\n",
       "  [84, 35, 91],\n",
       "  [35, 84, 91],\n",
       "  [0, 91, 91],\n",
       "  [92, 0, 92],\n",
       "  [0, 92, 92],\n",
       "  [93, 0, 93],\n",
       "  [0, 93, 93],\n",
       "  [94, 0, 94],\n",
       "  [0, 94, 94],\n",
       "  [95, 0, 95],\n",
       "  [76, 57, 95],\n",
       "  [57, 76, 95],\n",
       "  [0, 95, 95],\n",
       "  [96, 0, 96],\n",
       "  [0, 96, 96],\n",
       "  [97, 0, 97],\n",
       "  [72, 65, 97],\n",
       "  [65, 72, 97],\n",
       "  [0, 97, 97],\n",
       "  [98, 0, 98],\n",
       "  [0, 98, 98],\n",
       "  [99, 0, 99],\n",
       "  [0, 99, 99]]]"
      ]
     },
     "execution_count": 6,
     "metadata": {},
     "output_type": "execute_result"
    }
   ],
   "source": [
    "lst"
   ]
  },
  {
   "cell_type": "code",
   "execution_count": 7,
   "metadata": {},
   "outputs": [],
   "source": [
    "temp = []\n",
    "temp.append(\"dsf\")\n",
    "temp.append(\"dsf1\")\n",
    "temp.append(\"dsf2\")"
   ]
  },
  {
   "cell_type": "code",
   "execution_count": 8,
   "metadata": {},
   "outputs": [
    {
     "data": {
      "text/plain": [
       "['dsf', 'dsf1', 'dsf2']"
      ]
     },
     "execution_count": 8,
     "metadata": {},
     "output_type": "execute_result"
    }
   ],
   "source": [
    "temp"
   ]
  },
  {
   "cell_type": "code",
   "execution_count": 9,
   "metadata": {},
   "outputs": [
    {
     "data": {
      "text/plain": [
       "False"
      ]
     },
     "execution_count": 9,
     "metadata": {},
     "output_type": "execute_result"
    }
   ],
   "source": [
    "0**2 == 1**2 + 1**2"
   ]
  },
  {
   "cell_type": "code",
   "execution_count": 10,
   "metadata": {},
   "outputs": [
    {
     "data": {
      "text/plain": [
       "[0, 1, 4, 9, 16, 25, 36, 49, 64, 81]"
      ]
     },
     "execution_count": 10,
     "metadata": {},
     "output_type": "execute_result"
    }
   ],
   "source": [
    "gen = (x**2 for x in range(10))\n",
    "list(gen)"
   ]
  },
  {
   "cell_type": "code",
   "execution_count": 11,
   "metadata": {},
   "outputs": [],
   "source": [
    "my_lst = [-2, -1, 0, 1, 2]\n",
    "\n",
    "opt = map(lambda x: (2*x)**2 - 4*x + 2, my_lst)"
   ]
  },
  {
   "cell_type": "code",
   "execution_count": 12,
   "metadata": {},
   "outputs": [
    {
     "data": {
      "text/plain": [
       "[26, 10, 2, 2, 10]"
      ]
     },
     "execution_count": 12,
     "metadata": {},
     "output_type": "execute_result"
    }
   ],
   "source": [
    "list(opt)"
   ]
  },
  {
   "cell_type": "code",
   "execution_count": 13,
   "metadata": {},
   "outputs": [
    {
     "data": {
      "text/plain": [
       "'Soumyadeep has donate you a amount of 200 for current stream. His message for you: Very Good'"
      ]
     },
     "execution_count": 13,
     "metadata": {},
     "output_type": "execute_result"
    }
   ],
   "source": [
    "def donate(amount=5, name=\"Anonumous\", msg=\"\"):\n",
    "    return f'{name} has donate you a amount of {amount} for current stream. His message for you: {msg}'\n",
    "\n",
    "donate(amount=200, msg=\"Very Good\", name=\"Soumyadeep\")"
   ]
  },
  {
   "cell_type": "code",
   "execution_count": 14,
   "metadata": {},
   "outputs": [],
   "source": [
    "lst = [1,2,2,3,3,1,4,4,5,6,6,6,6,1]\n",
    "\n",
    "def remove_duplicates(lst):\n",
    "    if len(lst) == 0:\n",
    "        return []\n",
    "    \n",
    "    fst = lst[0]\n",
    "    rest = lst[1:]\n",
    "\n",
    "    result = remove_duplicates(rest)\n",
    "    \n",
    "    if fst not in result:\n",
    "        result.insert(0, fst)\n",
    "\n",
    "    return result\n",
    "\n"
   ]
  },
  {
   "cell_type": "code",
   "execution_count": 15,
   "metadata": {},
   "outputs": [
    {
     "data": {
      "text/plain": [
       "[2, 3, 4, 5, 6, 1]"
      ]
     },
     "execution_count": 15,
     "metadata": {},
     "output_type": "execute_result"
    }
   ],
   "source": [
    "remove_duplicates(lst)"
   ]
  },
  {
   "cell_type": "code",
   "execution_count": 16,
   "metadata": {},
   "outputs": [],
   "source": [
    "import numpy as np"
   ]
  },
  {
   "cell_type": "code",
   "execution_count": 17,
   "metadata": {},
   "outputs": [],
   "source": [
    "arr =np.full((3,4), 6, dtype='float')"
   ]
  },
  {
   "cell_type": "code",
   "execution_count": 18,
   "metadata": {},
   "outputs": [
    {
     "data": {
      "text/plain": [
       "array([[6., 6., 6., 6.],\n",
       "       [6., 6., 6., 6.],\n",
       "       [6., 6., 6., 6.]])"
      ]
     },
     "execution_count": 18,
     "metadata": {},
     "output_type": "execute_result"
    }
   ],
   "source": [
    "arr"
   ]
  },
  {
   "cell_type": "code",
   "execution_count": 19,
   "metadata": {},
   "outputs": [],
   "source": [
    "arr = np.array([3, 3+4j, 'soumyadeep'])\n",
    "arr2 = np.array(['dsf', 'soumyadeep'])\n",
    "arr3 = np.array([3, 4, 5])"
   ]
  },
  {
   "cell_type": "code",
   "execution_count": 20,
   "metadata": {},
   "outputs": [
    {
     "data": {
      "text/plain": [
       "dtype('int64')"
      ]
     },
     "execution_count": 20,
     "metadata": {},
     "output_type": "execute_result"
    }
   ],
   "source": [
    "arr3.dtype"
   ]
  },
  {
   "cell_type": "code",
   "execution_count": 21,
   "metadata": {},
   "outputs": [],
   "source": [
    "a = np.random.random((10,5))"
   ]
  },
  {
   "cell_type": "code",
   "execution_count": 22,
   "metadata": {},
   "outputs": [
    {
     "data": {
      "text/plain": [
       "array([[0.73137868, 0.82924709, 0.26071404, 0.46781548, 0.70478026],\n",
       "       [0.42416021, 0.35234202, 0.05454172, 0.27446964, 0.19076951],\n",
       "       [0.40038375, 0.54434518, 0.82268177, 0.21320269, 0.60388992],\n",
       "       [0.29727603, 0.36417998, 0.1199818 , 0.41728835, 0.2650305 ],\n",
       "       [0.10080422, 0.46350356, 0.77762503, 0.18531689, 0.81667134],\n",
       "       [0.51230671, 0.19750248, 0.1980717 , 0.98312236, 0.55143241],\n",
       "       [0.70254209, 0.27859   , 0.31447684, 0.59339208, 0.62782153],\n",
       "       [0.12067339, 0.5766552 , 0.50067161, 0.93395877, 0.57894932],\n",
       "       [0.19270957, 0.02619994, 0.5453263 , 0.72585475, 0.62718082],\n",
       "       [0.36805273, 0.89375808, 0.05346631, 0.09235823, 0.37793087]])"
      ]
     },
     "execution_count": 22,
     "metadata": {},
     "output_type": "execute_result"
    }
   ],
   "source": [
    "a"
   ]
  },
  {
   "cell_type": "code",
   "execution_count": 23,
   "metadata": {},
   "outputs": [
    {
     "data": {
      "text/plain": [
       "array([[1, 2, 3, 4, 5],\n",
       "       [6, 7, 8, 9, 0]])"
      ]
     },
     "execution_count": 23,
     "metadata": {},
     "output_type": "execute_result"
    }
   ],
   "source": [
    "arr =np.array([[1,2,3,4,5], [6,7,8,9,0]])\n",
    "arr"
   ]
  },
  {
   "cell_type": "code",
   "execution_count": 24,
   "metadata": {},
   "outputs": [
    {
     "name": "stdout",
     "output_type": "stream",
     "text": [
      "8\n"
     ]
    }
   ],
   "source": [
    "print(arr[1,2])"
   ]
  },
  {
   "cell_type": "code",
   "execution_count": 25,
   "metadata": {},
   "outputs": [],
   "source": [
    "arr2 = np.array([[[1, 2, 3], [4, 5, 6]], [[7, 8, 9], [10, 11, 12]]])"
   ]
  },
  {
   "cell_type": "code",
   "execution_count": 26,
   "metadata": {},
   "outputs": [
    {
     "name": "stdout",
     "output_type": "stream",
     "text": [
      "[[6 7 8 9 0]\n",
      " [1 2 3 4 5]]\n"
     ]
    }
   ],
   "source": [
    "print(arr[::-1])"
   ]
  },
  {
   "cell_type": "code",
   "execution_count": 27,
   "metadata": {},
   "outputs": [],
   "source": [
    "arr = np.random.rand(5,4)"
   ]
  },
  {
   "cell_type": "code",
   "execution_count": 28,
   "metadata": {},
   "outputs": [
    {
     "data": {
      "text/plain": [
       "array([[0.47058749, 0.25557452, 0.08890913, 0.13889562],\n",
       "       [0.48951559, 0.44993077, 0.8339316 , 0.2690641 ],\n",
       "       [0.03509251, 0.77874512, 0.27674845, 0.91431265],\n",
       "       [0.03287412, 0.83263085, 0.6005617 , 0.52021563],\n",
       "       [0.92778507, 0.7008952 , 0.69645925, 0.10334692]])"
      ]
     },
     "execution_count": 28,
     "metadata": {},
     "output_type": "execute_result"
    }
   ],
   "source": [
    "arr"
   ]
  },
  {
   "cell_type": "code",
   "execution_count": 29,
   "metadata": {},
   "outputs": [
    {
     "name": "stdout",
     "output_type": "stream",
     "text": [
      "[[0.48951559 0.44993077 0.8339316  0.2690641 ]\n",
      " [0.03509251 0.77874512 0.27674845 0.91431265]\n",
      " [0.03287412 0.83263085 0.6005617  0.52021563]\n",
      " [0.92778507 0.7008952  0.69645925 0.10334692]]\n"
     ]
    }
   ],
   "source": [
    "print(arr[1:5])"
   ]
  },
  {
   "cell_type": "code",
   "execution_count": 30,
   "metadata": {},
   "outputs": [],
   "source": [
    "arr = np.array([[1,2,3,4,5], [6,7,8,9,10]])"
   ]
  },
  {
   "cell_type": "code",
   "execution_count": 31,
   "metadata": {},
   "outputs": [],
   "source": [
    "a = np.random.randint(0,100, (4,5))"
   ]
  },
  {
   "cell_type": "code",
   "execution_count": 32,
   "metadata": {},
   "outputs": [
    {
     "data": {
      "text/plain": [
       "array([[71, 72, 35, 97, 13],\n",
       "       [29,  4, 67, 42, 37],\n",
       "       [44,  1, 25, 30, 42],\n",
       "       [35, 10, 16, 26, 48]], dtype=int32)"
      ]
     },
     "execution_count": 32,
     "metadata": {},
     "output_type": "execute_result"
    }
   ],
   "source": [
    "a"
   ]
  },
  {
   "cell_type": "code",
   "execution_count": 33,
   "metadata": {},
   "outputs": [],
   "source": [
    "a = np.array([[0,1,2,3,4,5], [10,11,12,13,14,15],[20,21,22,23,24,25], [30,31,32,33,34,35],[40,41,42,43,44,45], [50,51,52,53,54,55]])"
   ]
  },
  {
   "cell_type": "code",
   "execution_count": 34,
   "metadata": {},
   "outputs": [
    {
     "name": "stdout",
     "output_type": "stream",
     "text": [
      "[ 2 12 22 32 42 52]\n"
     ]
    }
   ],
   "source": [
    "print(a[:,2])"
   ]
  },
  {
   "cell_type": "code",
   "execution_count": 35,
   "metadata": {},
   "outputs": [
    {
     "data": {
      "text/plain": [
       "array([-1.65062919+0.j        , -0.1746854 +1.54686889j,\n",
       "       -0.1746854 -1.54686889j])"
      ]
     },
     "execution_count": 35,
     "metadata": {},
     "output_type": "execute_result"
    }
   ],
   "source": [
    "np.roots([1,2,3,4])"
   ]
  },
  {
   "cell_type": "code",
   "execution_count": 36,
   "metadata": {},
   "outputs": [
    {
     "data": {
      "text/plain": [
       "array([[-1.15972772,  0.27387765,  0.42345999]])"
      ]
     },
     "execution_count": 36,
     "metadata": {},
     "output_type": "execute_result"
    }
   ],
   "source": [
    "a = np.random.randn(1,3)\n",
    "a"
   ]
  },
  {
   "cell_type": "code",
   "execution_count": 37,
   "metadata": {},
   "outputs": [
    {
     "data": {
      "text/plain": [
       "array([-1.15972772,  0.27387765,  0.42345999])"
      ]
     },
     "execution_count": 37,
     "metadata": {},
     "output_type": "execute_result"
    }
   ],
   "source": [
    "a_flat = a.flatten()\n",
    "a_flat\n"
   ]
  },
  {
   "cell_type": "code",
   "execution_count": 38,
   "metadata": {},
   "outputs": [],
   "source": [
    "import matplotlib.pyplot as plt\n"
   ]
  },
  {
   "cell_type": "code",
   "execution_count": 39,
   "metadata": {},
   "outputs": [
    {
     "data": {
      "image/png": "[encoded data removed]",
      "text/plain": [
       "<Figure size 800x300 with 1 Axes>"
      ]
     },
     "metadata": {},
     "output_type": "display_data"
    }
   ],
   "source": [
    "x = np.random.randn(10).flatten()\n",
    "fig,ax = plt.subplots(figsize=(8,3))\n",
    "xaxisdata= np.arange(x.size)\n",
    "ax.bar(xaxisdata,x, color=['yellow', 'red', 'green', 'pink', 'blue', 'orange', 'purple', 'black'])\n",
    "ax.set_xticks(xaxisdata, xaxisdata+1)\n",
    "ax.set_title('Bar Chart')\n",
    "plt.show()"
   ]
  },
  {
   "cell_type": "code",
   "execution_count": 40,
   "metadata": {},
   "outputs": [
    {
     "data": {
      "text/plain": [
       "array([ 1,  2,  3,  4,  5,  6,  7,  8,  9, 10])"
      ]
     },
     "execution_count": 40,
     "metadata": {},
     "output_type": "execute_result"
    }
   ],
   "source": [
    "xaxisdata+1"
   ]
  },
  {
   "cell_type": "code",
   "execution_count": 41,
   "metadata": {},
   "outputs": [],
   "source": [
    "x= np.linspace(1,10, 100)\n",
    "y1 = 2*x**2 + 4*x + 5\n",
    "y2 = 2*x**3 + 5*x**2+ 4*x + 5"
   ]
  },
  {
   "cell_type": "code",
   "execution_count": 42,
   "metadata": {},
   "outputs": [
    {
     "data": {
      "text/plain": [
       "<matplotlib.legend.Legend at 0x2aa1b939970>"
      ]
     },
     "execution_count": 42,
     "metadata": {},
     "output_type": "execute_result"
    },
    {
     "data": {
      "image/png": "[encoded data removed]",
      "text/plain": [
       "<Figure size 800x500 with 1 Axes>"
      ]
     },
     "metadata": {},
     "output_type": "display_data"
    }
   ],
   "source": [
    "fig, ax = plt.subplots(figsize=(8,5))\n",
    "ax.plot(x, y1, ls='--', color='green', label='dasdsad 1' )\n",
    "ax.plot(x, y2, ls='-.', color='red', label='dasdsad 2')\n",
    "ax.legend()"
   ]
  },
  {
   "cell_type": "code",
   "execution_count": 43,
   "metadata": {},
   "outputs": [
    {
     "data": {
      "text/plain": [
       "3.141592653589793"
      ]
     },
     "execution_count": 43,
     "metadata": {},
     "output_type": "execute_result"
    }
   ],
   "source": [
    "np.pi"
   ]
  },
  {
   "cell_type": "code",
   "execution_count": 44,
   "metadata": {},
   "outputs": [
    {
     "data": {
      "text/plain": [
       "array([8, 9, 6, 2], dtype=int32)"
      ]
     },
     "execution_count": 44,
     "metadata": {},
     "output_type": "execute_result"
    }
   ],
   "source": [
    "np.random.randint(1,10, 4)"
   ]
  },
  {
   "cell_type": "code",
   "execution_count": 45,
   "metadata": {},
   "outputs": [],
   "source": [
    "ls =[1,2,2,3,4]\n",
    "arr = np.array(ls)"
   ]
  },
  {
   "cell_type": "code",
   "execution_count": 46,
   "metadata": {},
   "outputs": [
    {
     "name": "stdout",
     "output_type": "stream",
     "text": [
      "[]\n"
     ]
    }
   ],
   "source": [
    "def two_element_combinations(S):\n",
    "    combinations = []\n",
    "    # Loop through each element in the list\n",
    "    for i in range(len(S)):\n",
    "        # Loop through the subsequent elements in the list\n",
    "        for j in range(i + 1, len(S)):\n",
    "            if S[j] != S[i]:\n",
    "                combinations.append((S[i], S[j]))\n",
    "    return combinations\n",
    "\n",
    "# Test the function with the given example\n",
    "S = [4, 4, 4]\n",
    "result = two_element_combinations(S)\n",
    "print(result)"
   ]
  },
  {
   "cell_type": "code",
   "execution_count": 47,
   "metadata": {},
   "outputs": [
    {
     "data": {
      "text/plain": [
       "array([[15, 25, 35, 55, 65, 75],\n",
       "       [16, 26, 36, 56, 66, 76],\n",
       "       [18, 28, 38, 58, 68, 78],\n",
       "       [19, 29, 39, 59, 69, 79],\n",
       "       [20, 30, 40, 60, 70, 80],\n",
       "       [21, 31, 41, 61, 71, 81]])"
      ]
     },
     "execution_count": 47,
     "metadata": {},
     "output_type": "execute_result"
    }
   ],
   "source": [
    "A = np.array([[j for j in range(i, 82,10) if j != i+30] for i in range(15,22) if i != 17 ])\n",
    "A"
   ]
  },
  {
   "cell_type": "code",
   "execution_count": 48,
   "metadata": {},
   "outputs": [],
   "source": [
    "a = np.array([[j for j in range(i, i+11, 2)] for i in range(10, 60, 10)])"
   ]
  },
  {
   "cell_type": "code",
   "execution_count": 49,
   "metadata": {},
   "outputs": [
    {
     "data": {
      "text/plain": [
       "array([[10, 12, 14, 16, 18, 20],\n",
       "       [20, 22, 24, 26, 28, 30],\n",
       "       [30, 32, 34, 36, 38, 40],\n",
       "       [40, 42, 44, 46, 48, 50],\n",
       "       [50, 52, 54, 56, 58, 60]])"
      ]
     },
     "execution_count": 49,
     "metadata": {},
     "output_type": "execute_result"
    }
   ],
   "source": [
    "a"
   ]
  },
  {
   "cell_type": "code",
   "execution_count": 88,
   "metadata": {},
   "outputs": [
    {
     "data": {
      "text/plain": [
       "array([[42, 46, 50],\n",
       "       [22, 26, 30]])"
      ]
     },
     "execution_count": 88,
     "metadata": {},
     "output_type": "execute_result"
    }
   ],
   "source": [
    "a[3::-2, 5::-2][::, ::-1]"
   ]
  },
  {
   "cell_type": "code",
   "execution_count": 50,
   "metadata": {},
   "outputs": [
    {
     "data": {
      "text/plain": [
       "array([[10, 12],\n",
       "       [20, 22]])"
      ]
     },
     "execution_count": 50,
     "metadata": {},
     "output_type": "execute_result"
    }
   ],
   "source": [
    "a1 = a[:2,:2]\n",
    "a1"
   ]
  },
  {
   "cell_type": "code",
   "execution_count": 51,
   "metadata": {},
   "outputs": [
    {
     "data": {
      "text/plain": [
       "array([[[10, 12, 14, 16],\n",
       "        [20, 22, 24, 26]],\n",
       "\n",
       "       [[30, 32, 34, 36],\n",
       "        [40, 42, 44, 46]]])"
      ]
     },
     "execution_count": 51,
     "metadata": {},
     "output_type": "execute_result"
    }
   ],
   "source": [
    "a2 = a[:4, :4]\n",
    "a2.reshape(2,2,4)"
   ]
  },
  {
   "cell_type": "code",
   "execution_count": 52,
   "metadata": {},
   "outputs": [
    {
     "data": {
      "text/plain": [
       "array([[20, 24, 28],\n",
       "       [40, 44, 48]])"
      ]
     },
     "execution_count": 52,
     "metadata": {},
     "output_type": "execute_result"
    }
   ],
   "source": [
    "a[1::2, ::2]"
   ]
  },
  {
   "cell_type": "code",
   "execution_count": 53,
   "metadata": {},
   "outputs": [
    {
     "data": {
      "text/plain": [
       "array([[10, 20],\n",
       "       [30, 40],\n",
       "       [50, 60]])"
      ]
     },
     "execution_count": 53,
     "metadata": {},
     "output_type": "execute_result"
    }
   ],
   "source": [
    "a[::2,::5]"
   ]
  },
  {
   "cell_type": "code",
   "execution_count": 54,
   "metadata": {},
   "outputs": [
    {
     "data": {
      "text/plain": [
       "array([[40, 42, 44, 46, 48, 50],\n",
       "       [50, 52, 54, 56, 58, 60]])"
      ]
     },
     "execution_count": 54,
     "metadata": {},
     "output_type": "execute_result"
    }
   ],
   "source": [
    "a[3::]"
   ]
  },
  {
   "cell_type": "code",
   "execution_count": 55,
   "metadata": {},
   "outputs": [
    {
     "data": {
      "text/plain": [
       "array([[22, 26, 30],\n",
       "       [32, 36, 40],\n",
       "       [42, 46, 50]])"
      ]
     },
     "execution_count": 55,
     "metadata": {},
     "output_type": "execute_result"
    }
   ],
   "source": [
    "a[1:4, 1::2]"
   ]
  },
  {
   "cell_type": "code",
   "execution_count": 56,
   "metadata": {},
   "outputs": [
    {
     "data": {
      "text/plain": [
       "[[50, 45, 40, 35, 30, 25],\n",
       " [60, 55, 50, 45, 40, 35],\n",
       " [70, 65, 60, 55, 50, 45],\n",
       " [80, 75, 70, 65, 60, 55],\n",
       " [90, 85, 80, 75, 70, 65]]"
      ]
     },
     "execution_count": 56,
     "metadata": {},
     "output_type": "execute_result"
    }
   ],
   "source": [
    "[[j for j in range(i, i-26, -5)] for i in range(50, 91, 10)]"
   ]
  },
  {
   "cell_type": "code",
   "execution_count": null,
   "metadata": {},
   "outputs": [],
   "source": []
  },
  {
   "cell_type": "code",
   "execution_count": 57,
   "metadata": {},
   "outputs": [],
   "source": [
    "ls = [1,2,3]"
   ]
  },
  {
   "cell_type": "code",
   "execution_count": 58,
   "metadata": {},
   "outputs": [],
   "source": [
    "ls.extend([4,5,6])"
   ]
  },
  {
   "cell_type": "code",
   "execution_count": 59,
   "metadata": {},
   "outputs": [
    {
     "data": {
      "text/plain": [
       "[1, 2, 3, 4, 5, 6]"
      ]
     },
     "execution_count": 59,
     "metadata": {},
     "output_type": "execute_result"
    }
   ],
   "source": [
    "ls"
   ]
  },
  {
   "cell_type": "code",
   "execution_count": 60,
   "metadata": {},
   "outputs": [
    {
     "data": {
      "text/plain": [
       "4"
      ]
     },
     "execution_count": 60,
     "metadata": {},
     "output_type": "execute_result"
    }
   ],
   "source": [
    "ls.index(5)"
   ]
  },
  {
   "cell_type": "code",
   "execution_count": 61,
   "metadata": {},
   "outputs": [
    {
     "data": {
      "text/plain": [
       "5"
      ]
     },
     "execution_count": 61,
     "metadata": {},
     "output_type": "execute_result"
    }
   ],
   "source": [
    "ls.pop(4)"
   ]
  },
  {
   "cell_type": "code",
   "execution_count": 62,
   "metadata": {},
   "outputs": [
    {
     "data": {
      "text/plain": [
       "[1, 2, 3, 4, 6]"
      ]
     },
     "execution_count": 62,
     "metadata": {},
     "output_type": "execute_result"
    }
   ],
   "source": [
    "ls"
   ]
  },
  {
   "cell_type": "code",
   "execution_count": 63,
   "metadata": {},
   "outputs": [
    {
     "data": {
      "text/plain": [
       "6"
      ]
     },
     "execution_count": 63,
     "metadata": {},
     "output_type": "execute_result"
    }
   ],
   "source": [
    "ls.pop()"
   ]
  },
  {
   "cell_type": "code",
   "execution_count": 64,
   "metadata": {},
   "outputs": [
    {
     "data": {
      "text/plain": [
       "[1, 2, 3, 4]"
      ]
     },
     "execution_count": 64,
     "metadata": {},
     "output_type": "execute_result"
    }
   ],
   "source": [
    "ls"
   ]
  },
  {
   "cell_type": "code",
   "execution_count": 65,
   "metadata": {},
   "outputs": [],
   "source": [
    "ls.remove(1)"
   ]
  },
  {
   "cell_type": "code",
   "execution_count": 66,
   "metadata": {},
   "outputs": [
    {
     "data": {
      "text/plain": [
       "[2, 3, 4]"
      ]
     },
     "execution_count": 66,
     "metadata": {},
     "output_type": "execute_result"
    }
   ],
   "source": [
    "ls"
   ]
  },
  {
   "cell_type": "code",
   "execution_count": 67,
   "metadata": {},
   "outputs": [],
   "source": [
    "my_dict = {'a': 'item1', 'b':'item2', 'c':'item3'}"
   ]
  },
  {
   "cell_type": "code",
   "execution_count": 68,
   "metadata": {},
   "outputs": [
    {
     "data": {
      "text/plain": [
       "dict_items([('a', 'item1'), ('b', 'item2'), ('c', 'item3')])"
      ]
     },
     "execution_count": 68,
     "metadata": {},
     "output_type": "execute_result"
    }
   ],
   "source": [
    "my_dict.items()"
   ]
  },
  {
   "cell_type": "code",
   "execution_count": 69,
   "metadata": {},
   "outputs": [
    {
     "name": "stdout",
     "output_type": "stream",
     "text": [
      "key: a ---- value: item1\n",
      "key: b ---- value: item2\n",
      "key: c ---- value: item3\n"
     ]
    }
   ],
   "source": [
    "for key, value in my_dict.items():\n",
    "    print(f'key: {key} ---- value: {value}')"
   ]
  },
  {
   "cell_type": "code",
   "execution_count": 70,
   "metadata": {},
   "outputs": [
    {
     "data": {
      "text/plain": [
       "'item2'"
      ]
     },
     "execution_count": 70,
     "metadata": {},
     "output_type": "execute_result"
    }
   ],
   "source": [
    "my_dict.get('b')"
   ]
  },
  {
   "cell_type": "code",
   "execution_count": 71,
   "metadata": {},
   "outputs": [
    {
     "data": {
      "text/plain": [
       "'item2'"
      ]
     },
     "execution_count": 71,
     "metadata": {},
     "output_type": "execute_result"
    }
   ],
   "source": [
    "my_dict['b']"
   ]
  },
  {
   "cell_type": "code",
   "execution_count": 72,
   "metadata": {},
   "outputs": [
    {
     "name": "stdout",
     "output_type": "stream",
     "text": [
      "a\n",
      "b\n",
      "c\n"
     ]
    }
   ],
   "source": [
    "for i in my_dict.keys():\n",
    "    print(i)"
   ]
  },
  {
   "cell_type": "code",
   "execution_count": 73,
   "metadata": {},
   "outputs": [
    {
     "data": {
      "text/plain": [
       "3"
      ]
     },
     "execution_count": 73,
     "metadata": {},
     "output_type": "execute_result"
    }
   ],
   "source": [
    "len(my_dict)"
   ]
  },
  {
   "cell_type": "code",
   "execution_count": 74,
   "metadata": {},
   "outputs": [],
   "source": [
    "my_dict['d'] = 'item4'"
   ]
  },
  {
   "cell_type": "code",
   "execution_count": 75,
   "metadata": {},
   "outputs": [
    {
     "data": {
      "text/plain": [
       "{'a': 'item1', 'b': 'item2', 'c': 'item3', 'd': 'item4'}"
      ]
     },
     "execution_count": 75,
     "metadata": {},
     "output_type": "execute_result"
    }
   ],
   "source": [
    "my_dict"
   ]
  },
  {
   "cell_type": "code",
   "execution_count": 76,
   "metadata": {},
   "outputs": [
    {
     "data": {
      "text/plain": [
       "100"
      ]
     },
     "execution_count": 76,
     "metadata": {},
     "output_type": "execute_result"
    }
   ],
   "source": [
    "x = np.linspace(-np.pi, np.pi, 100)\n",
    "len(x)"
   ]
  },
  {
   "cell_type": "code",
   "execution_count": 77,
   "metadata": {},
   "outputs": [
    {
     "data": {
      "text/plain": [
       "array([ 2.44929360e-16,  1.26592454e-01,  2.51147987e-01,  3.71662456e-01,\n",
       "        4.86196736e-01,  5.92907929e-01,  6.90079011e-01,  7.76146464e-01,\n",
       "        8.49725430e-01,  9.09631995e-01,  9.54902241e-01,  9.84807753e-01,\n",
       "        9.98867339e-01,  9.96854776e-01,  9.78802446e-01,  9.45000819e-01,\n",
       "        8.95993774e-01,  8.32569855e-01,  7.55749574e-01,  6.66769001e-01,\n",
       "        5.67059864e-01,  4.58226522e-01,  3.42020143e-01,  2.20310533e-01,\n",
       "        9.50560433e-02, -3.17279335e-02, -1.58001396e-01, -2.81732557e-01,\n",
       "       -4.00930535e-01, -5.13677392e-01, -6.18158986e-01, -7.12694171e-01,\n",
       "       -7.95761841e-01, -8.66025404e-01, -9.22354294e-01, -9.63842159e-01,\n",
       "       -9.89821442e-01, -9.99874128e-01, -9.93838464e-01, -9.71811568e-01,\n",
       "       -9.34147860e-01, -8.81453363e-01, -8.14575952e-01, -7.34591709e-01,\n",
       "       -6.42787610e-01, -5.40640817e-01, -4.29794912e-01, -3.12033446e-01,\n",
       "       -1.89251244e-01, -6.34239197e-02,  6.34239197e-02,  1.89251244e-01,\n",
       "        3.12033446e-01,  4.29794912e-01,  5.40640817e-01,  6.42787610e-01,\n",
       "        7.34591709e-01,  8.14575952e-01,  8.81453363e-01,  9.34147860e-01,\n",
       "        9.71811568e-01,  9.93838464e-01,  9.99874128e-01,  9.89821442e-01,\n",
       "        9.63842159e-01,  9.22354294e-01,  8.66025404e-01,  7.95761841e-01,\n",
       "        7.12694171e-01,  6.18158986e-01,  5.13677392e-01,  4.00930535e-01,\n",
       "        2.81732557e-01,  1.58001396e-01,  3.17279335e-02, -9.50560433e-02,\n",
       "       -2.20310533e-01, -3.42020143e-01, -4.58226522e-01, -5.67059864e-01,\n",
       "       -6.66769001e-01, -7.55749574e-01, -8.32569855e-01, -8.95993774e-01,\n",
       "       -9.45000819e-01, -9.78802446e-01, -9.96854776e-01, -9.98867339e-01,\n",
       "       -9.84807753e-01, -9.54902241e-01, -9.09631995e-01, -8.49725430e-01,\n",
       "       -7.76146464e-01, -6.90079011e-01, -5.92907929e-01, -4.86196736e-01,\n",
       "       -3.71662456e-01, -2.51147987e-01, -1.26592454e-01, -2.44929360e-16])"
      ]
     },
     "execution_count": 77,
     "metadata": {},
     "output_type": "execute_result"
    }
   ],
   "source": [
    "y1 = np.array(np.sin(2*x))\n",
    "y1"
   ]
  },
  {
   "cell_type": "code",
   "execution_count": 78,
   "metadata": {},
   "outputs": [],
   "source": [
    "y2 = np.cos(2*x)"
   ]
  },
  {
   "cell_type": "code",
   "execution_count": 79,
   "metadata": {},
   "outputs": [
    {
     "data": {
      "image/png": "[encoded data removed]",
      "text/plain": [
       "<Figure size 800x500 with 1 Axes>"
      ]
     },
     "metadata": {},
     "output_type": "display_data"
    }
   ],
   "source": [
    "fig, ax = plt.subplots(figsize = (8,5))\n",
    "ax.plot(x, y1, lw=2, color = 'blue', label = '$sin(2x)$')\n",
    "ax.plot( y2,x , lw=4, color='red', ls=\"--\", label= '$cos(2x)$')\n",
    "ax.set_xlabel('X axiis')\n",
    "ax.set_ylabel('Y axiis')\n",
    "ax.set_title(\"Plot of $f(x)$ and $g(x)$0\")\n",
    "ax.legend()\n",
    "plt.show()"
   ]
  },
  {
   "cell_type": "code",
   "execution_count": null,
   "metadata": {},
   "outputs": [],
   "source": []
  }
 ],
 "metadata": {
  "kernelspec": {
   "display_name": ".venv",
   "language": "python",
   "name": "python3"
  },
  "language_info": {
   "codemirror_mode": {
    "name": "ipython",
    "version": 3
   },
   "file_extension": ".py",
   "mimetype": "text/x-python",
   "name": "python",
   "nbconvert_exporter": "python",
   "pygments_lexer": "ipython3",
   "version": "3.12.7"
  }
 },
 "nbformat": 4,
 "nbformat_minor": 2
}
