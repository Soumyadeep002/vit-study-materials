{
 "cells": [
  {
   "cell_type": "code",
   "execution_count": 2,
   "metadata": {},
   "outputs": [
    {
     "name": "stdout",
     "output_type": "stream",
     "text": [
      "1 is a proper devisor of 12\n",
      "2 is a proper devisor of 12\n",
      "3 is a proper devisor of 12\n",
      "4 is a proper devisor of 12\n",
      "6 is a proper devisor of 12\n"
     ]
    }
   ],
   "source": [
    "n = 12\n",
    "\n",
    "for i in range(1, (n//2)+1):\n",
    "    if (n%i) == 0:\n",
    "        print(f'{i} is a proper devisor of {n}')\n",
    "    # print(i)\n",
    "    \n"
   ]
  },
  {
   "cell_type": "code",
   "execution_count": 3,
   "metadata": {},
   "outputs": [
    {
     "data": {
      "text/plain": [
       "7"
      ]
     },
     "execution_count": 3,
     "metadata": {},
     "output_type": "execute_result"
    }
   ],
   "source": [
    "(n//2)+1"
   ]
  },
  {
   "cell_type": "code",
   "execution_count": 8,
   "metadata": {},
   "outputs": [
    {
     "name": "stdout",
     "output_type": "stream",
     "text": [
      "This is a Perfect Number\n"
     ]
    }
   ],
   "source": [
    "n = 6\n",
    "summ = 0\n",
    "for i in range(1, (n//2)+1):\n",
    "    if n%i ==0:\n",
    "        summ = summ + i\n",
    "else:\n",
    "    if summ == n:\n",
    "        print(\"This is a Perfect Number\")\n",
    "    else:\n",
    "        print(\"This is not a Perfect Number\")"
   ]
  },
  {
   "cell_type": "code",
   "execution_count": 6,
   "metadata": {},
   "outputs": [
    {
     "data": {
      "text/plain": [
       "16"
      ]
     },
     "execution_count": 6,
     "metadata": {},
     "output_type": "execute_result"
    }
   ],
   "source": [
    "summ"
   ]
  },
  {
   "cell_type": "code",
   "execution_count": 12,
   "metadata": {},
   "outputs": [
    {
     "name": "stdout",
     "output_type": "stream",
     "text": [
      "Loop terminated !\n"
     ]
    }
   ],
   "source": [
    "for i in range(0, 14):\n",
    "    if i == 11:\n",
    "        print(\"Loop terminated !\")\n",
    "        break\n",
    "else:\n",
    "    print(\"Loop executed successfully!\")"
   ]
  },
  {
   "cell_type": "code",
   "execution_count": null,
   "metadata": {},
   "outputs": [],
   "source": []
  }
 ],
 "metadata": {
  "kernelspec": {
   "display_name": "Python 3",
   "language": "python",
   "name": "python3"
  },
  "language_info": {
   "codemirror_mode": {
    "name": "ipython",
    "version": 3
   },
   "file_extension": ".py",
   "mimetype": "text/x-python",
   "name": "python",
   "nbconvert_exporter": "python",
   "pygments_lexer": "ipython3",
   "version": "3.12.5"
  }
 },
 "nbformat": 4,
 "nbformat_minor": 2
}
