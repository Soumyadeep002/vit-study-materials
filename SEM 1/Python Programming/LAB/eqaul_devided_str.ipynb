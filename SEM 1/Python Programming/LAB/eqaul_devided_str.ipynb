{
 "cells": [
  {
   "cell_type": "code",
   "execution_count": 12,
   "metadata": {},
   "outputs": [
    {
     "name": "stdout",
     "output_type": "stream",
     "text": [
      "Part 1: This is a samp\n",
      "Part 2: le sentence to\n",
      "Part 3:  divide into f\n",
      "Part 4: our equal parts.\n"
     ]
    }
   ],
   "source": [
    "sentence = \"This is a sample sentence to divide into four equal parts.\"\n",
    "\n",
    "\n",
    "# Calculate the length of each part\n",
    "length = len(sentence)\n",
    "part_length = length // 4\n",
    "\n",
    "# Split the sentence into four parts\n",
    "part1 = sentence[:part_length]\n",
    "part2 = sentence[part_length:2 * part_length]\n",
    "part3 = sentence[2 * part_length:3 * part_length]\n",
    "part4 = sentence[3 * part_length:]\n",
    "\n",
    "# Print the parts\n",
    "print(\"Part 1:\", part1)\n",
    "print(\"Part 2:\", part2)\n",
    "print(\"Part 3:\", part3)\n",
    "print(\"Part 4:\", part4)"
   ]
  },
  {
   "cell_type": "code",
   "execution_count": 13,
   "metadata": {},
   "outputs": [
    {
     "data": {
      "text/plain": [
       "14"
      ]
     },
     "execution_count": 13,
     "metadata": {},
     "output_type": "execute_result"
    }
   ],
   "source": [
    "part_length"
   ]
  },
  {
   "cell_type": "code",
   "execution_count": 5,
   "metadata": {},
   "outputs": [
    {
     "data": {
      "text/plain": [
       "False"
      ]
     },
     "execution_count": 5,
     "metadata": {},
     "output_type": "execute_result"
    }
   ],
   "source": [
    "sentence.isdigit()"
   ]
  },
  {
   "cell_type": "code",
   "execution_count": 17,
   "metadata": {},
   "outputs": [
    {
     "data": {
      "text/plain": [
       "False"
      ]
     },
     "execution_count": 17,
     "metadata": {},
     "output_type": "execute_result"
    }
   ],
   "source": [
    "num = '323324324a'\n",
    "num.isdigit()"
   ]
  },
  {
   "cell_type": "code",
   "execution_count": 18,
   "metadata": {},
   "outputs": [
    {
     "data": {
      "text/plain": [
       "True"
      ]
     },
     "execution_count": 18,
     "metadata": {},
     "output_type": "execute_result"
    }
   ],
   "source": [
    "num.isalnum()"
   ]
  },
  {
   "cell_type": "code",
   "execution_count": 19,
   "metadata": {},
   "outputs": [
    {
     "data": {
      "text/plain": [
       "['fdsf ',\n",
       " 'fdsfdsf',\n",
       " 'dfsdf',\n",
       " '',\n",
       " 'sdfdsfsdf',\n",
       " '',\n",
       " 'dfssdfsdfsdf',\n",
       " 'sdfsdfsdf',\n",
       " 'dffdsf']"
      ]
     },
     "execution_count": 19,
     "metadata": {},
     "output_type": "execute_result"
    }
   ],
   "source": [
    "strr = \"fdsf ,fdsfdsf,dfsdf,,sdfdsfsdf,,dfssdfsdfsdf,sdfsdfsdf,dffdsf\"\n",
    "strr.split(\",\")"
   ]
  },
  {
   "cell_type": "code",
   "execution_count": 20,
   "metadata": {},
   "outputs": [
    {
     "data": {
      "text/plain": [
       "['Soumy', 'deep']"
      ]
     },
     "execution_count": 20,
     "metadata": {},
     "output_type": "execute_result"
    }
   ],
   "source": [
    "name = \"Soumyadeep\"\n",
    "name.split('a')"
   ]
  },
  {
   "cell_type": "code",
   "execution_count": 21,
   "metadata": {},
   "outputs": [
    {
     "data": {
      "text/plain": [
       "16"
      ]
     },
     "execution_count": 21,
     "metadata": {},
     "output_type": "execute_result"
    }
   ],
   "source": [
    "stttt= \"it is a amezing idea, this is a idea\"\n",
    "stttt.find(\"idea\")"
   ]
  },
  {
   "cell_type": "code",
   "execution_count": 22,
   "metadata": {},
   "outputs": [
    {
     "data": {
      "text/plain": [
       "2"
      ]
     },
     "execution_count": 22,
     "metadata": {},
     "output_type": "execute_result"
    }
   ],
   "source": [
    "stttt.count('idea')"
   ]
  },
  {
   "cell_type": "code",
   "execution_count": 23,
   "metadata": {},
   "outputs": [
    {
     "data": {
      "text/plain": [
       "'it is a amazing idea, this is a idea'"
      ]
     },
     "execution_count": 23,
     "metadata": {},
     "output_type": "execute_result"
    }
   ],
   "source": [
    "stttt.replace('amezing', 'amazing')"
   ]
  },
  {
   "cell_type": "code",
   "execution_count": null,
   "metadata": {},
   "outputs": [],
   "source": []
  }
 ],
 "metadata": {
  "kernelspec": {
   "display_name": "Python 3",
   "language": "python",
   "name": "python3"
  },
  "language_info": {
   "codemirror_mode": {
    "name": "ipython",
    "version": 3
   },
   "file_extension": ".py",
   "mimetype": "text/x-python",
   "name": "python",
   "nbconvert_exporter": "python",
   "pygments_lexer": "ipython3",
   "version": "3.12.7"
  }
 },
 "nbformat": 4,
 "nbformat_minor": 2
}
