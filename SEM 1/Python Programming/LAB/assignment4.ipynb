{
 "cells": [
  {
   "cell_type": "markdown",
   "metadata": {},
   "source": [
    "<h1 style=\"text-align:center;font-size:45px\"><strong>Assignment 4 - NumPy and Plotting</strong></h1>\n",
    "<h1 style=\"text-align:center;font-size:30px\"><strong>Python Programming Lab</strong></h1>\n",
    "<div style=\"text-align:center; font-size:25px\">\n",
    "    <strong>Name:</strong> Soumyadeep Ganguly<br>\n",
    "    <strong>Reg No.:</strong> 24MDT0082\n",
    "<div>\n",
    "\n"
   ]
  },
  {
   "cell_type": "code",
   "execution_count": 1,
   "metadata": {},
   "outputs": [],
   "source": [
    "import numpy as np"
   ]
  },
  {
   "cell_type": "markdown",
   "metadata": {},
   "source": [
    "# **Exercise 1.**"
   ]
  },
  {
   "cell_type": "markdown",
   "metadata": {},
   "source": [
    "## **a) Using the list comprehension technique generate the NumPy array**"
   ]
  },
  {
   "cell_type": "code",
   "execution_count": 2,
   "metadata": {},
   "outputs": [
    {
     "name": "stdout",
     "output_type": "stream",
     "text": [
      "[[15 25 35 55 65 75]\n",
      " [16 26 36 56 66 76]\n",
      " [18 28 38 58 68 78]\n",
      " [19 29 39 59 69 79]\n",
      " [20 30 40 60 70 80]\n",
      " [21 31 41 61 71 81]]\n"
     ]
    }
   ],
   "source": [
    "A = np.array([[j for j in range(i, 82,10) if j != i+30] for i in range(15,22) if i != 17 ])\n",
    "print(A)"
   ]
  },
  {
   "cell_type": "markdown",
   "metadata": {},
   "source": [
    "## **b) Extract a sub matrices of order 4 × 3 and 4 × 5 from the above matrix A and name them as B and C.**"
   ]
  },
  {
   "cell_type": "code",
   "execution_count": 3,
   "metadata": {},
   "outputs": [
    {
     "data": {
      "text/plain": [
       "array([[55, 65, 75],\n",
       "       [56, 66, 76],\n",
       "       [58, 68, 78],\n",
       "       [59, 69, 79]])"
      ]
     },
     "execution_count": 3,
     "metadata": {},
     "output_type": "execute_result"
    }
   ],
   "source": [
    "B = A[:4, 3:]\n",
    "B"
   ]
  },
  {
   "cell_type": "code",
   "execution_count": 4,
   "metadata": {},
   "outputs": [
    {
     "data": {
      "text/plain": [
       "array([[25, 35, 55, 65, 75],\n",
       "       [26, 36, 56, 66, 76],\n",
       "       [28, 38, 58, 68, 78],\n",
       "       [29, 39, 59, 69, 79]])"
      ]
     },
     "execution_count": 4,
     "metadata": {},
     "output_type": "execute_result"
    }
   ],
   "source": [
    "C = A[:4, 1:]\n",
    "C"
   ]
  },
  {
   "cell_type": "markdown",
   "metadata": {},
   "source": [
    "## **c) Extract the submatrix**"
   ]
  },
  {
   "cell_type": "code",
   "execution_count": 5,
   "metadata": {},
   "outputs": [
    {
     "data": {
      "text/plain": [
       "array([[20, 40, 70],\n",
       "       [15, 35, 65]])"
      ]
     },
     "execution_count": 5,
     "metadata": {},
     "output_type": "execute_result"
    }
   ],
   "source": [
    "D = A[-2::-4, ::2]\n",
    "D"
   ]
  },
  {
   "cell_type": "markdown",
   "metadata": {},
   "source": [
    "## **d) Generate random integer matrices $E_{3×3}$, $F_{5×3}$ with entries between 10 and 60 and G a random matrix containing 5 elements.**"
   ]
  },
  {
   "cell_type": "code",
   "execution_count": 6,
   "metadata": {},
   "outputs": [
    {
     "name": "stdout",
     "output_type": "stream",
     "text": [
      "[[27 43 55]\n",
      " [18 25 20]\n",
      " [21 20 18]]\n"
     ]
    }
   ],
   "source": [
    "E = np.random.randint(10, 60, size=(3,3))\n",
    "print(E)"
   ]
  },
  {
   "cell_type": "code",
   "execution_count": 7,
   "metadata": {},
   "outputs": [
    {
     "name": "stdout",
     "output_type": "stream",
     "text": [
      "[[22 23 28]\n",
      " [21 43 44]\n",
      " [36 46 55]\n",
      " [51 39 57]\n",
      " [24 12 40]]\n"
     ]
    }
   ],
   "source": [
    "F = np.random.randint(10, 60, size=(5,3))\n",
    "print(F)"
   ]
  },
  {
   "cell_type": "code",
   "execution_count": 8,
   "metadata": {},
   "outputs": [
    {
     "name": "stdout",
     "output_type": "stream",
     "text": [
      "[0.90470424 0.9508562  0.2895469  0.4248902  0.7518062 ]\n"
     ]
    }
   ],
   "source": [
    "G = np.random.rand(5)\n",
    "print(G)\n"
   ]
  },
  {
   "cell_type": "markdown",
   "metadata": {},
   "source": [
    "## **e) Compute the matrix $H = BF^{T}C+G$. Whileevaluatingtheproductuse appropriate product such as matrix product and dot product wherever applicable.**"
   ]
  },
  {
   "cell_type": "code",
   "execution_count": 9,
   "metadata": {},
   "outputs": [
    {
     "name": "stdout",
     "output_type": "stream",
     "text": [
      "[[120125.90470424 253750.9508562  500225.2895469  624975.4248902\n",
      "  382500.7518062 ]\n",
      " [126828.90470424 264888.9508562  516992.2895469  644292.4248902\n",
      "  393376.7518062 ]\n",
      " [140672.90470424 287812.9508562  551348.2895469  683808.4248902\n",
      "  415584.7518062 ]\n",
      " [147813.90470424 299598.9508562  568937.2895469  704007.4248902\n",
      "  426916.7518062 ]]\n"
     ]
    }
   ],
   "source": [
    "H = B@(F.T)*C + G\n",
    "print(H)"
   ]
  },
  {
   "cell_type": "markdown",
   "metadata": {},
   "source": [
    "## **f) Round the entries of $H$ to two decimal points and then find the square root of these elements and store the resultant into $HS$.**"
   ]
  },
  {
   "cell_type": "code",
   "execution_count": 10,
   "metadata": {},
   "outputs": [
    {
     "name": "stdout",
     "output_type": "stream",
     "text": [
      "[[346.59183487 503.73698494 707.26606733 790.55386913 618.46645018]\n",
      " [356.13045363 514.67363445 719.02175906 802.67827926 627.19753667]\n",
      " [375.06386123 536.48201275 742.52830922 826.92709473 644.65863059]\n",
      " [384.46573319 547.35632818 754.27931829 839.05150021 653.38866687]]\n"
     ]
    }
   ],
   "source": [
    "HS = np.sqrt(np.round(H, 2))\n",
    "print(HS)"
   ]
  },
  {
   "cell_type": "markdown",
   "metadata": {},
   "source": [
    "## **g) Find the inverse of the matrix, eigenvalues and eigenvectors of the matrix $E$.**"
   ]
  },
  {
   "cell_type": "code",
   "execution_count": 11,
   "metadata": {},
   "outputs": [
    {
     "name": "stdout",
     "output_type": "stream",
     "text": [
      "Inverse Matrix :[[-0.01390047 -0.09063108  0.14317487]\n",
      " [-0.02668891  0.18598832 -0.12510425]\n",
      " [ 0.04587156 -0.10091743  0.02752294]]\n",
      "\n",
      "\n",
      "Eigen Values :[ 78.5569924  -12.28436546   3.72737306]\n",
      "\n",
      "\n",
      "Eigen Vectors :[[-0.80199577 -0.85561875  0.46260176]\n",
      " [-0.42593307  0.14682335 -0.7827771 ]\n",
      " [-0.41878851  0.4963461   0.41624467]]\n"
     ]
    }
   ],
   "source": [
    "E_inv = np.linalg.inv(E)\n",
    "E_evalues, E_evectors = np.linalg.eig(E)\n",
    "\n",
    "print(f'Inverse Matrix :{E_inv}')\n",
    "print(f'\\n\\nEigen Values :{E_evalues}')\n",
    "print(f'\\n\\nEigen Vectors :{E_evectors}')"
   ]
  },
  {
   "cell_type": "markdown",
   "metadata": {},
   "source": [
    "## **h) Find the row-wise and column-wise sum and product of the elements of the matrix $(ED^{T})^{T}F^{T}$.**"
   ]
  },
  {
   "cell_type": "code",
   "execution_count": 12,
   "metadata": {},
   "outputs": [
    {
     "name": "stdout",
     "output_type": "stream",
     "text": [
      "Row wise sum: [1946340 1732665]\n",
      "Column wise sum: [ 505425  672570  913425 1060245  527340]\n",
      "Row wise product: [ 6248581955794192384 -6535017923902046672]\n",
      "Column wise product: [ 63649643900 112694570600 207878348600 280100377350  69288084800]\n"
     ]
    }
   ],
   "source": [
    "matrix = ((E@D.T).T)@F.T\n",
    "\n",
    "col_sum = np.sum(matrix, axis=0)\n",
    "row_sum = np.sum(matrix, axis=1)\n",
    "\n",
    "col_prod = np.prod(matrix, axis=0)\n",
    "row_prod = np.prod(matrix, axis=1)\n",
    "\n",
    "print(f'Row wise sum: {row_sum}')\n",
    "print(f'Column wise sum: {col_sum}')\n",
    "print(f'Row wise product: {row_prod}')\n",
    "print(f'Column wise product: {col_prod}')"
   ]
  },
  {
   "cell_type": "markdown",
   "metadata": {},
   "source": [
    "## **i) Is the matrices E, F are broadcastable? If Yes, what is the shape of the resultant matrix? If No, give the reason.**"
   ]
  },
  {
   "cell_type": "code",
   "execution_count": 13,
   "metadata": {},
   "outputs": [
    {
     "ename": "ValueError",
     "evalue": "operands could not be broadcast together with shapes (3,3) (5,3) ",
     "output_type": "error",
     "traceback": [
      "\u001b[1;31m---------------------------------------------------------------------------\u001b[0m",
      "\u001b[1;31mValueError\u001b[0m                                Traceback (most recent call last)",
      "Cell \u001b[1;32mIn[13], line 1\u001b[0m\n\u001b[1;32m----> 1\u001b[0m \u001b[43mE\u001b[49m\u001b[38;5;241;43m*\u001b[39;49m\u001b[43mF\u001b[49m\n",
      "\u001b[1;31mValueError\u001b[0m: operands could not be broadcast together with shapes (3,3) (5,3) "
     ]
    }
   ],
   "source": [
    "E*F"
   ]
  },
  {
   "cell_type": "markdown",
   "metadata": {},
   "source": [
    "### E and F are not broadcastable\n",
    "#### Because the shapes of the matrices are different"
   ]
  },
  {
   "cell_type": "markdown",
   "metadata": {},
   "source": [
    "## **j) Provide the Python command to generate a matrix of order 4 × 3 × 5 × 3 by appropriately reshaping the matrices C,E,F and adding them.**"
   ]
  },
  {
   "cell_type": "code",
   "execution_count": 14,
   "metadata": {},
   "outputs": [
    {
     "name": "stdout",
     "output_type": "stream",
     "text": [
      "(4, 3, 5, 3)\n",
      "[[[[ 74  91 108]\n",
      "   [ 83 121 134]\n",
      "   [118 144 165]\n",
      "   [143 147 177]\n",
      "   [126 130 170]]\n",
      "\n",
      "  [[ 65  73  73]\n",
      "   [ 74 103  99]\n",
      "   [109 126 130]\n",
      "   [134 129 142]\n",
      "   [117 112 135]]\n",
      "\n",
      "  [[ 68  68  71]\n",
      "   [ 77  98  97]\n",
      "   [112 121 128]\n",
      "   [137 124 140]\n",
      "   [120 107 133]]]\n",
      "\n",
      "\n",
      " [[[ 75  92 109]\n",
      "   [ 84 122 135]\n",
      "   [119 145 166]\n",
      "   [144 148 178]\n",
      "   [127 131 171]]\n",
      "\n",
      "  [[ 66  74  74]\n",
      "   [ 75 104 100]\n",
      "   [110 127 131]\n",
      "   [135 130 143]\n",
      "   [118 113 136]]\n",
      "\n",
      "  [[ 69  69  72]\n",
      "   [ 78  99  98]\n",
      "   [113 122 129]\n",
      "   [138 125 141]\n",
      "   [121 108 134]]]\n",
      "\n",
      "\n",
      " [[[ 77  94 111]\n",
      "   [ 86 124 137]\n",
      "   [121 147 168]\n",
      "   [146 150 180]\n",
      "   [129 133 173]]\n",
      "\n",
      "  [[ 68  76  76]\n",
      "   [ 77 106 102]\n",
      "   [112 129 133]\n",
      "   [137 132 145]\n",
      "   [120 115 138]]\n",
      "\n",
      "  [[ 71  71  74]\n",
      "   [ 80 101 100]\n",
      "   [115 124 131]\n",
      "   [140 127 143]\n",
      "   [123 110 136]]]\n",
      "\n",
      "\n",
      " [[[ 78  95 112]\n",
      "   [ 87 125 138]\n",
      "   [122 148 169]\n",
      "   [147 151 181]\n",
      "   [130 134 174]]\n",
      "\n",
      "  [[ 69  77  77]\n",
      "   [ 78 107 103]\n",
      "   [113 130 134]\n",
      "   [138 133 146]\n",
      "   [121 116 139]]\n",
      "\n",
      "  [[ 72  72  75]\n",
      "   [ 81 102 101]\n",
      "   [116 125 132]\n",
      "   [141 128 144]\n",
      "   [124 111 137]]]]\n"
     ]
    }
   ],
   "source": [
    "C_reshaped = np.reshape(C,(4,1,5,1))\n",
    "E_reshaped = np.reshape(E,(1,3,1,3))\n",
    "F_reshaped = np.reshape(F,(1,1,5,3))\n",
    "result = C_reshaped + E_reshaped + F_reshaped\n",
    "print(result.shape)\n",
    "print(result)"
   ]
  },
  {
   "cell_type": "code",
   "execution_count": 15,
   "metadata": {},
   "outputs": [],
   "source": [
    "import matplotlib.pyplot as plt"
   ]
  },
  {
   "cell_type": "markdown",
   "metadata": {},
   "source": [
    "# **Exercise 2.**"
   ]
  },
  {
   "cell_type": "code",
   "execution_count": 19,
   "metadata": {},
   "outputs": [
    {
     "data": {
      "text/plain": [
       "<matplotlib.legend.Legend at 0x28f3547e390>"
      ]
     },
     "execution_count": 19,
     "metadata": {},
     "output_type": "execute_result"
    },
    {
     "data": {
      "image/png": "[encoded data removed]",
      "text/plain": [
       "<Figure size 640x480 with 1 Axes>"
      ]
     },
     "metadata": {},
     "output_type": "display_data"
    }
   ],
   "source": [
    "x = [j for j in range(11)]\n",
    "f = [np.sqrt(((np.exp(i)+np.cos(i))*i)/3) for i in range(11)]\n",
    "g = [ ((0.5*k)/(2 + np.sin(k)))  for k in range(11)]\n",
    "\n",
    "\n",
    "fig, ax = plt.subplots()\n",
    "ax.plot(x, f, \"red\", linewidth = '2', label=r'$\\sqrt{(exp(x)+cosh(x))\\frac{x}{3}}$')\n",
    "ax.plot(x, g, \"green\", linewidth = '2',linestyle = 'dashed', label=r'$\\frac{0.5x}{2+sinh(x)}$')\n",
    "plt.legend()"
   ]
  },
  {
   "cell_type": "markdown",
   "metadata": {},
   "source": [
    "# **Exercise 3.**"
   ]
  },
  {
   "cell_type": "code",
   "execution_count": null,
   "metadata": {},
   "outputs": [
    {
     "data": {
      "image/png": "[encoded data removed]",
      "text/plain": [
       "<Figure size 1800x800 with 2 Axes>"
      ]
     },
     "metadata": {},
     "output_type": "display_data"
    }
   ],
   "source": [
    "students = [\"S1\", \"S2\", \"S3\", \"S4\", \"S5\", \"S6\", \"S7\", \"S8\", \"S9\", \"S10\"]\n",
    "marks_in_maths = [35, 79, 79, 48, 100, 88, 32, 45, 20, 30]\n",
    "marks_in_physics = [88, 92, 80, 89, 100, 80, 60, 100, 80, 34]\n",
    "\n",
    "bar_width = 0.2\n",
    "index = np.arange(len(students))\n",
    "\n",
    "fig, (ax1, ax2) = plt.subplots(ncols=2, figsize=(18, 8))\n",
    "\n",
    "ax1.bar(index - bar_width, marks_in_maths, width=0.5, label='Marks in Mathematics')\n",
    "ax1.bar(index + bar_width, marks_in_physics, width=0.5, label='Marks in Physics')\n",
    "ax1.set_xticks(index)\n",
    "ax1.set_xticklabels(students)\n",
    "ax1.set_xlabel(\"Student ID\")\n",
    "ax1.set_ylabel(\"Marks in Maths & Physics\")\n",
    "ax1.set_title(\"Bar Plot of Marks\")\n",
    "ax1.legend()\n",
    "ax2.set_title(\"Scatter Plot of Marks\")\n",
    "ax2.legend()\n",
    "\n",
    "fig.suptitle(\"Comparison of Marks in Maths and Physics Subjects\", fontsize=16)\n",
    "plt.tight_layout()\n",
    "plt.show()"
   ]
  },
  {
   "cell_type": "code",
   "execution_count": 18,
   "metadata": {},
   "outputs": [],
   "source": [
    "lst = []"
   ]
  }
 ],
 "metadata": {
  "kernelspec": {
   "display_name": ".venv",
   "language": "python",
   "name": "python3"
  },
  "language_info": {
   "codemirror_mode": {
    "name": "ipython",
    "version": 3
   },
   "file_extension": ".py",
   "mimetype": "text/x-python",
   "name": "python",
   "nbconvert_exporter": "python",
   "pygments_lexer": "ipython3",
   "version": "3.12.7"
  }
 },
 "nbformat": 4,
 "nbformat_minor": 2
}
