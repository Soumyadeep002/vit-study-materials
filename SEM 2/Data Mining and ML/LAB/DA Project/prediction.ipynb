{
 "cells": [
  {
   "cell_type": "markdown",
   "id": "23f5c779",
   "metadata": {},
   "source": [
    "<div style=\"background-color:yellow; border: 4px solid blue; border-radius: 2rem; text-align:center; padding-top:1rem; padding-bottom:1rem; \">\n",
    "    <strong style=\"font-size: 1.5rem; color:blue;\">Digital Assignment</strong><br><br>\n",
    "    <strong style=\"font-size: 2rem; color:red;\">Autism Prediction Using Different Algorithms</strong><br><br>\n",
    "    <strong style=\"font-size: 1.5rem; color:blue;\">Name: Soumyadeep Ganguly</strong><br>\n",
    "    <strong style=\"font-size: 1.5rem; color:blue;\">Reg No: 24MDT0082</strong><br>\n",
    "</div>\n",
    "\n",
    "\n"
   ]
  },
  {
   "cell_type": "markdown",
   "id": "9f68f091",
   "metadata": {},
   "source": [
    "## **Importing Libraries**"
   ]
  },
  {
   "cell_type": "code",
   "execution_count": 1,
   "id": "9f68d94f",
   "metadata": {},
   "outputs": [],
   "source": [
    "import numpy as np\n",
    "import pandas as pd\n",
    "import matplotlib.pyplot as plt\n",
    "import seaborn as sns\n",
    "\n",
    "from sklearn.linear_model import LogisticRegression\n",
    "from sklearn.tree import DecisionTreeClassifier, plot_tree\n",
    "from sklearn.ensemble import BaggingClassifier, RandomForestClassifier, GradientBoostingClassifier, AdaBoostClassifier\n",
    "\n",
    "from sklearn.preprocessing import LabelEncoder, MinMaxScaler\n",
    "from sklearn.model_selection import train_test_split, GridSearchCV\n",
    "from sklearn.metrics import accuracy_score, confusion_matrix, classification_report\n"
   ]
  },
  {
   "cell_type": "code",
   "execution_count": 2,
   "id": "461dc709",
   "metadata": {},
   "outputs": [
    {
     "data": {
      "text/html": [
       "<div>\n",
       "<style scoped>\n",
       "    .dataframe tbody tr th:only-of-type {\n",
       "        vertical-align: middle;\n",
       "    }\n",
       "\n",
       "    .dataframe tbody tr th {\n",
       "        vertical-align: top;\n",
       "    }\n",
       "\n",
       "    .dataframe thead th {\n",
       "        text-align: right;\n",
       "    }\n",
       "</style>\n",
       "<table border=\"1\" class=\"dataframe\">\n",
       "  <thead>\n",
       "    <tr style=\"text-align: right;\">\n",
       "      <th></th>\n",
       "      <th>ID</th>\n",
       "      <th>A1_Score</th>\n",
       "      <th>A2_Score</th>\n",
       "      <th>A3_Score</th>\n",
       "      <th>A4_Score</th>\n",
       "      <th>A5_Score</th>\n",
       "      <th>A6_Score</th>\n",
       "      <th>A7_Score</th>\n",
       "      <th>A8_Score</th>\n",
       "      <th>A9_Score</th>\n",
       "      <th>...</th>\n",
       "      <th>gender</th>\n",
       "      <th>ethnicity</th>\n",
       "      <th>jaundice</th>\n",
       "      <th>austim</th>\n",
       "      <th>contry_of_res</th>\n",
       "      <th>used_app_before</th>\n",
       "      <th>result</th>\n",
       "      <th>age_desc</th>\n",
       "      <th>relation</th>\n",
       "      <th>Class/ASD</th>\n",
       "    </tr>\n",
       "  </thead>\n",
       "  <tbody>\n",
       "    <tr>\n",
       "      <th>0</th>\n",
       "      <td>1</td>\n",
       "      <td>1</td>\n",
       "      <td>0</td>\n",
       "      <td>1</td>\n",
       "      <td>0</td>\n",
       "      <td>1</td>\n",
       "      <td>0</td>\n",
       "      <td>1</td>\n",
       "      <td>0</td>\n",
       "      <td>1</td>\n",
       "      <td>...</td>\n",
       "      <td>f</td>\n",
       "      <td>?</td>\n",
       "      <td>no</td>\n",
       "      <td>no</td>\n",
       "      <td>Austria</td>\n",
       "      <td>no</td>\n",
       "      <td>6.351166</td>\n",
       "      <td>18 and more</td>\n",
       "      <td>Self</td>\n",
       "      <td>0</td>\n",
       "    </tr>\n",
       "    <tr>\n",
       "      <th>1</th>\n",
       "      <td>2</td>\n",
       "      <td>0</td>\n",
       "      <td>0</td>\n",
       "      <td>0</td>\n",
       "      <td>0</td>\n",
       "      <td>0</td>\n",
       "      <td>0</td>\n",
       "      <td>0</td>\n",
       "      <td>0</td>\n",
       "      <td>0</td>\n",
       "      <td>...</td>\n",
       "      <td>m</td>\n",
       "      <td>?</td>\n",
       "      <td>no</td>\n",
       "      <td>no</td>\n",
       "      <td>India</td>\n",
       "      <td>no</td>\n",
       "      <td>2.255185</td>\n",
       "      <td>18 and more</td>\n",
       "      <td>Self</td>\n",
       "      <td>0</td>\n",
       "    </tr>\n",
       "    <tr>\n",
       "      <th>2</th>\n",
       "      <td>3</td>\n",
       "      <td>1</td>\n",
       "      <td>1</td>\n",
       "      <td>1</td>\n",
       "      <td>1</td>\n",
       "      <td>1</td>\n",
       "      <td>1</td>\n",
       "      <td>1</td>\n",
       "      <td>1</td>\n",
       "      <td>1</td>\n",
       "      <td>...</td>\n",
       "      <td>m</td>\n",
       "      <td>White-European</td>\n",
       "      <td>no</td>\n",
       "      <td>yes</td>\n",
       "      <td>United States</td>\n",
       "      <td>no</td>\n",
       "      <td>14.851484</td>\n",
       "      <td>18 and more</td>\n",
       "      <td>Self</td>\n",
       "      <td>1</td>\n",
       "    </tr>\n",
       "    <tr>\n",
       "      <th>3</th>\n",
       "      <td>4</td>\n",
       "      <td>0</td>\n",
       "      <td>0</td>\n",
       "      <td>0</td>\n",
       "      <td>0</td>\n",
       "      <td>0</td>\n",
       "      <td>0</td>\n",
       "      <td>0</td>\n",
       "      <td>0</td>\n",
       "      <td>0</td>\n",
       "      <td>...</td>\n",
       "      <td>f</td>\n",
       "      <td>?</td>\n",
       "      <td>no</td>\n",
       "      <td>no</td>\n",
       "      <td>United States</td>\n",
       "      <td>no</td>\n",
       "      <td>2.276617</td>\n",
       "      <td>18 and more</td>\n",
       "      <td>Self</td>\n",
       "      <td>0</td>\n",
       "    </tr>\n",
       "    <tr>\n",
       "      <th>4</th>\n",
       "      <td>5</td>\n",
       "      <td>0</td>\n",
       "      <td>0</td>\n",
       "      <td>0</td>\n",
       "      <td>0</td>\n",
       "      <td>0</td>\n",
       "      <td>0</td>\n",
       "      <td>0</td>\n",
       "      <td>0</td>\n",
       "      <td>0</td>\n",
       "      <td>...</td>\n",
       "      <td>m</td>\n",
       "      <td>?</td>\n",
       "      <td>no</td>\n",
       "      <td>no</td>\n",
       "      <td>South Africa</td>\n",
       "      <td>no</td>\n",
       "      <td>-4.777286</td>\n",
       "      <td>18 and more</td>\n",
       "      <td>Self</td>\n",
       "      <td>0</td>\n",
       "    </tr>\n",
       "  </tbody>\n",
       "</table>\n",
       "<p>5 rows × 22 columns</p>\n",
       "</div>"
      ],
      "text/plain": [
       "   ID  A1_Score  A2_Score  A3_Score  A4_Score  A5_Score  A6_Score  A7_Score  \\\n",
       "0   1         1         0         1         0         1         0         1   \n",
       "1   2         0         0         0         0         0         0         0   \n",
       "2   3         1         1         1         1         1         1         1   \n",
       "3   4         0         0         0         0         0         0         0   \n",
       "4   5         0         0         0         0         0         0         0   \n",
       "\n",
       "   A8_Score  A9_Score  ...  gender       ethnicity jaundice austim  \\\n",
       "0         0         1  ...       f               ?       no     no   \n",
       "1         0         0  ...       m               ?       no     no   \n",
       "2         1         1  ...       m  White-European       no    yes   \n",
       "3         0         0  ...       f               ?       no     no   \n",
       "4         0         0  ...       m               ?       no     no   \n",
       "\n",
       "   contry_of_res used_app_before     result     age_desc  relation Class/ASD  \n",
       "0        Austria              no   6.351166  18 and more      Self         0  \n",
       "1          India              no   2.255185  18 and more      Self         0  \n",
       "2  United States              no  14.851484  18 and more      Self         1  \n",
       "3  United States              no   2.276617  18 and more      Self         0  \n",
       "4   South Africa              no  -4.777286  18 and more      Self         0  \n",
       "\n",
       "[5 rows x 22 columns]"
      ]
     },
     "execution_count": 2,
     "metadata": {},
     "output_type": "execute_result"
    }
   ],
   "source": [
    "data = pd.read_csv('autism_train.csv')\n",
    "data.head()"
   ]
  },
  {
   "cell_type": "code",
   "execution_count": 3,
   "id": "4b179007",
   "metadata": {},
   "outputs": [
    {
     "name": "stdout",
     "output_type": "stream",
     "text": [
      "<class 'pandas.core.frame.DataFrame'>\n",
      "RangeIndex: 800 entries, 0 to 799\n",
      "Data columns (total 22 columns):\n",
      " #   Column           Non-Null Count  Dtype  \n",
      "---  ------           --------------  -----  \n",
      " 0   ID               800 non-null    int64  \n",
      " 1   A1_Score         800 non-null    int64  \n",
      " 2   A2_Score         800 non-null    int64  \n",
      " 3   A3_Score         800 non-null    int64  \n",
      " 4   A4_Score         800 non-null    int64  \n",
      " 5   A5_Score         800 non-null    int64  \n",
      " 6   A6_Score         800 non-null    int64  \n",
      " 7   A7_Score         800 non-null    int64  \n",
      " 8   A8_Score         800 non-null    int64  \n",
      " 9   A9_Score         800 non-null    int64  \n",
      " 10  A10_Score        800 non-null    int64  \n",
      " 11  age              800 non-null    float64\n",
      " 12  gender           800 non-null    object \n",
      " 13  ethnicity        800 non-null    object \n",
      " 14  jaundice         800 non-null    object \n",
      " 15  austim           800 non-null    object \n",
      " 16  contry_of_res    800 non-null    object \n",
      " 17  used_app_before  800 non-null    object \n",
      " 18  result           800 non-null    float64\n",
      " 19  age_desc         800 non-null    object \n",
      " 20  relation         800 non-null    object \n",
      " 21  Class/ASD        800 non-null    int64  \n",
      "dtypes: float64(2), int64(12), object(8)\n",
      "memory usage: 137.6+ KB\n"
     ]
    }
   ],
   "source": [
    "data.info()"
   ]
  },
  {
   "cell_type": "markdown",
   "id": "7593d37d",
   "metadata": {},
   "source": [
    "## **Data Preprocessing**"
   ]
  },
  {
   "cell_type": "code",
   "execution_count": 4,
   "id": "958c1479",
   "metadata": {},
   "outputs": [
    {
     "name": "stdout",
     "output_type": "stream",
     "text": [
      "<class 'pandas.core.series.Series'>\n",
      "RangeIndex: 800 entries, 0 to 799\n",
      "Series name: age\n",
      "Non-Null Count  Dtype\n",
      "--------------  -----\n",
      "800 non-null    int64\n",
      "dtypes: int64(1)\n",
      "memory usage: 6.4 KB\n"
     ]
    }
   ],
   "source": [
    "data['age'] = data['age'].astype('int64') \n",
    "data['age'].info()"
   ]
  },
  {
   "cell_type": "code",
   "execution_count": 5,
   "id": "c17dd2b5",
   "metadata": {},
   "outputs": [
    {
     "data": {
      "text/plain": [
       "Index(['ID', 'A1_Score', 'A2_Score', 'A3_Score', 'A4_Score', 'A5_Score',\n",
       "       'A6_Score', 'A7_Score', 'A8_Score', 'A9_Score', 'A10_Score', 'age',\n",
       "       'gender', 'ethnicity', 'jaundice', 'austim', 'contry_of_res',\n",
       "       'used_app_before', 'result', 'age_desc', 'relation', 'Class/ASD'],\n",
       "      dtype='object')"
      ]
     },
     "execution_count": 5,
     "metadata": {},
     "output_type": "execute_result"
    }
   ],
   "source": [
    "data.columns"
   ]
  },
  {
   "cell_type": "markdown",
   "id": "f69a286d",
   "metadata": {},
   "source": [
    "### **Binary Type Columns**"
   ]
  },
  {
   "cell_type": "code",
   "execution_count": 6,
   "id": "e777afd1",
   "metadata": {},
   "outputs": [
    {
     "name": "stdout",
     "output_type": "stream",
     "text": [
      "gender --- has 2 unique values.\n",
      "\n",
      "f\n",
      "\n",
      "m\n",
      "----------------------------------------\n",
      "jaundice --- has 2 unique values.\n",
      "\n",
      "no\n",
      "\n",
      "yes\n",
      "----------------------------------------\n",
      "austim --- has 2 unique values.\n",
      "\n",
      "no\n",
      "\n",
      "yes\n",
      "----------------------------------------\n",
      "used_app_before --- has 2 unique values.\n",
      "\n",
      "no\n",
      "\n",
      "yes\n",
      "----------------------------------------\n"
     ]
    }
   ],
   "source": [
    "for col in ['gender', 'jaundice', 'austim', 'used_app_before']:\n",
    "    print(f\"{col} --- has {len(data[col].unique())} unique values.\")\n",
    "    for i in data[col].unique():\n",
    "        print(f\"\\n{i}\")\n",
    "    \n",
    "    print(\"-\"*40)"
   ]
  },
  {
   "cell_type": "code",
   "execution_count": 7,
   "id": "8e9f43a8",
   "metadata": {},
   "outputs": [
    {
     "name": "stdout",
     "output_type": "stream",
     "text": [
      "gender ---- label encoding --- Done\n",
      "jaundice ---- label encoding --- Done\n",
      "austim ---- label encoding --- Done\n",
      "used_app_before ---- label encoding --- Done\n"
     ]
    }
   ],
   "source": [
    "encoder = LabelEncoder()\n",
    "for col in ['gender', 'jaundice', 'austim', 'used_app_before']:\n",
    "    data[col] = encoder.fit_transform(data[col])\n",
    "    print(f\"{col} ---- label encoding --- Done\")\n"
   ]
  },
  {
   "cell_type": "code",
   "execution_count": 8,
   "id": "d3dc95dc",
   "metadata": {},
   "outputs": [
    {
     "data": {
      "text/html": [
       "<div>\n",
       "<style scoped>\n",
       "    .dataframe tbody tr th:only-of-type {\n",
       "        vertical-align: middle;\n",
       "    }\n",
       "\n",
       "    .dataframe tbody tr th {\n",
       "        vertical-align: top;\n",
       "    }\n",
       "\n",
       "    .dataframe thead th {\n",
       "        text-align: right;\n",
       "    }\n",
       "</style>\n",
       "<table border=\"1\" class=\"dataframe\">\n",
       "  <thead>\n",
       "    <tr style=\"text-align: right;\">\n",
       "      <th></th>\n",
       "      <th>gender</th>\n",
       "      <th>jaundice</th>\n",
       "      <th>austim</th>\n",
       "      <th>used_app_before</th>\n",
       "    </tr>\n",
       "  </thead>\n",
       "  <tbody>\n",
       "    <tr>\n",
       "      <th>0</th>\n",
       "      <td>0</td>\n",
       "      <td>0</td>\n",
       "      <td>0</td>\n",
       "      <td>0</td>\n",
       "    </tr>\n",
       "    <tr>\n",
       "      <th>1</th>\n",
       "      <td>1</td>\n",
       "      <td>0</td>\n",
       "      <td>0</td>\n",
       "      <td>0</td>\n",
       "    </tr>\n",
       "    <tr>\n",
       "      <th>2</th>\n",
       "      <td>1</td>\n",
       "      <td>0</td>\n",
       "      <td>1</td>\n",
       "      <td>0</td>\n",
       "    </tr>\n",
       "    <tr>\n",
       "      <th>3</th>\n",
       "      <td>0</td>\n",
       "      <td>0</td>\n",
       "      <td>0</td>\n",
       "      <td>0</td>\n",
       "    </tr>\n",
       "    <tr>\n",
       "      <th>4</th>\n",
       "      <td>1</td>\n",
       "      <td>0</td>\n",
       "      <td>0</td>\n",
       "      <td>0</td>\n",
       "    </tr>\n",
       "  </tbody>\n",
       "</table>\n",
       "</div>"
      ],
      "text/plain": [
       "   gender  jaundice  austim  used_app_before\n",
       "0       0         0       0                0\n",
       "1       1         0       0                0\n",
       "2       1         0       1                0\n",
       "3       0         0       0                0\n",
       "4       1         0       0                0"
      ]
     },
     "execution_count": 8,
     "metadata": {},
     "output_type": "execute_result"
    }
   ],
   "source": [
    "data[['gender', 'jaundice', 'austim', 'used_app_before']].head()"
   ]
  },
  {
   "cell_type": "markdown",
   "id": "7c89e7ca",
   "metadata": {},
   "source": [
    "### **Countries**"
   ]
  },
  {
   "cell_type": "code",
   "execution_count": 9,
   "id": "c2085f9a",
   "metadata": {},
   "outputs": [
    {
     "data": {
      "text/plain": [
       "array(['Austria', 'India', 'United States', 'South Africa', 'Jordan',\n",
       "       'United Kingdom', 'Brazil', 'New Zealand', 'Canada', 'Kazakhstan',\n",
       "       'United Arab Emirates', 'Australia', 'Ukraine', 'Iraq', 'France',\n",
       "       'Malaysia', 'Viet Nam', 'Egypt', 'Netherlands', 'Afghanistan',\n",
       "       'Oman', 'Italy', 'AmericanSamoa', 'Bahamas', 'Saudi Arabia',\n",
       "       'Ireland', 'Aruba', 'Sri Lanka', 'Russia', 'Bolivia', 'Azerbaijan',\n",
       "       'Armenia', 'Serbia', 'Ethiopia', 'Sweden', 'Iceland', 'Hong Kong',\n",
       "       'Angola', 'China', 'Germany', 'Spain', 'Tonga', 'Pakistan', 'Iran',\n",
       "       'Argentina', 'Japan', 'Mexico', 'Nicaragua', 'Sierra Leone',\n",
       "       'Czech Republic', 'Niger', 'Romania', 'Cyprus', 'Belgium',\n",
       "       'Burundi', 'Bangladesh'], dtype=object)"
      ]
     },
     "execution_count": 9,
     "metadata": {},
     "output_type": "execute_result"
    }
   ],
   "source": [
    "data[\"contry_of_res\"].unique()"
   ]
  },
  {
   "cell_type": "code",
   "execution_count": 10,
   "id": "0aaa97c7",
   "metadata": {},
   "outputs": [],
   "source": [
    "# replace redundant countries\n",
    "mapping = {\n",
    "    \"Viet Nam\": \"Vietnam\",\n",
    "    \"AmericanSamoa\":\"United States\",\n",
    "    \"Hong Kong\": \"China\"\n",
    "}\n",
    "\n",
    "data[\"contry_of_res\"] = data[\"contry_of_res\"].replace(mapping)"
   ]
  },
  {
   "cell_type": "code",
   "execution_count": 11,
   "id": "242bbd97",
   "metadata": {},
   "outputs": [
    {
     "name": "stdout",
     "output_type": "stream",
     "text": [
      "contry_of_res ---- label encoding --- Done\n"
     ]
    },
    {
     "data": {
      "text/plain": [
       "0       6\n",
       "1      23\n",
       "2      52\n",
       "3      52\n",
       "4      44\n",
       "       ..\n",
       "795    34\n",
       "796    16\n",
       "797    34\n",
       "798    14\n",
       "799    50\n",
       "Name: contry_of_res, Length: 800, dtype: int64"
      ]
     },
     "execution_count": 11,
     "metadata": {},
     "output_type": "execute_result"
    }
   ],
   "source": [
    "data[\"contry_of_res\"] = encoder.fit_transform(data[\"contry_of_res\"])\n",
    "print(f\"{\"contry_of_res\"} ---- label encoding --- Done\")\n",
    "\n",
    "data[\"contry_of_res\"]"
   ]
  },
  {
   "cell_type": "markdown",
   "id": "4d945380",
   "metadata": {},
   "source": [
    "### **Dropping columns**"
   ]
  },
  {
   "cell_type": "code",
   "execution_count": 12,
   "id": "774eebd2",
   "metadata": {},
   "outputs": [
    {
     "data": {
      "text/plain": [
       "(800, 19)"
      ]
     },
     "execution_count": 12,
     "metadata": {},
     "output_type": "execute_result"
    }
   ],
   "source": [
    "data = data.drop([\"ID\", \"age_desc\", \"ethnicity\"], axis = 1)\n",
    "data.shape"
   ]
  },
  {
   "cell_type": "code",
   "execution_count": 13,
   "id": "6c033b2a",
   "metadata": {},
   "outputs": [],
   "source": [
    "data.relation = data.relation.replace(\n",
    "    {\"?\": \"Others\",\n",
    "     \"Relative\": \"Others\",\n",
    "     \"Parent\": \"Others\",\n",
    "     \"Health care professional\": \"Others\"}\n",
    ")"
   ]
  },
  {
   "cell_type": "code",
   "execution_count": 14,
   "id": "66a83f8f",
   "metadata": {},
   "outputs": [
    {
     "name": "stdout",
     "output_type": "stream",
     "text": [
      "relation ---- label encoding --- Done\n"
     ]
    },
    {
     "data": {
      "text/plain": [
       "array([1, 0])"
      ]
     },
     "execution_count": 14,
     "metadata": {},
     "output_type": "execute_result"
    }
   ],
   "source": [
    "data[\"relation\"] = encoder.fit_transform(data[\"relation\"])\n",
    "print(f\"{\"relation\"} ---- label encoding --- Done\")\n",
    "\n",
    "data[\"relation\"].unique()"
   ]
  },
  {
   "cell_type": "code",
   "execution_count": 15,
   "id": "07b2c157",
   "metadata": {},
   "outputs": [
    {
     "name": "stdout",
     "output_type": "stream",
     "text": [
      "<class 'pandas.core.frame.DataFrame'>\n",
      "RangeIndex: 800 entries, 0 to 799\n",
      "Data columns (total 19 columns):\n",
      " #   Column           Non-Null Count  Dtype  \n",
      "---  ------           --------------  -----  \n",
      " 0   A1_Score         800 non-null    int64  \n",
      " 1   A2_Score         800 non-null    int64  \n",
      " 2   A3_Score         800 non-null    int64  \n",
      " 3   A4_Score         800 non-null    int64  \n",
      " 4   A5_Score         800 non-null    int64  \n",
      " 5   A6_Score         800 non-null    int64  \n",
      " 6   A7_Score         800 non-null    int64  \n",
      " 7   A8_Score         800 non-null    int64  \n",
      " 8   A9_Score         800 non-null    int64  \n",
      " 9   A10_Score        800 non-null    int64  \n",
      " 10  age              800 non-null    int64  \n",
      " 11  gender           800 non-null    int64  \n",
      " 12  jaundice         800 non-null    int64  \n",
      " 13  austim           800 non-null    int64  \n",
      " 14  contry_of_res    800 non-null    int64  \n",
      " 15  used_app_before  800 non-null    int64  \n",
      " 16  result           800 non-null    float64\n",
      " 17  relation         800 non-null    int64  \n",
      " 18  Class/ASD        800 non-null    int64  \n",
      "dtypes: float64(1), int64(18)\n",
      "memory usage: 118.9 KB\n"
     ]
    }
   ],
   "source": [
    "data.info()"
   ]
  },
  {
   "cell_type": "markdown",
   "id": "098ea9c9",
   "metadata": {},
   "source": [
    "## **Data Visualizations**"
   ]
  },
  {
   "cell_type": "code",
   "execution_count": 16,
   "id": "b423c7ba",
   "metadata": {},
   "outputs": [],
   "source": [
    "sns.set_theme(style=\"darkgrid\")"
   ]
  },
  {
   "cell_type": "code",
   "execution_count": 17,
   "id": "7044a364",
   "metadata": {},
   "outputs": [
    {
     "data": {
      "text/plain": [
       "Index(['A1_Score', 'A2_Score', 'A3_Score', 'A4_Score', 'A5_Score', 'A6_Score',\n",
       "       'A7_Score', 'A8_Score', 'A9_Score', 'A10_Score', 'age', 'gender',\n",
       "       'jaundice', 'austim', 'contry_of_res', 'used_app_before', 'result',\n",
       "       'relation', 'Class/ASD'],\n",
       "      dtype='object')"
      ]
     },
     "execution_count": 17,
     "metadata": {},
     "output_type": "execute_result"
    }
   ],
   "source": [
    "data.columns"
   ]
  },
  {
   "cell_type": "code",
   "execution_count": 18,
   "id": "7dcf842b",
   "metadata": {},
   "outputs": [
    {
     "data": {
      "text/html": [
       "<div>\n",
       "<style scoped>\n",
       "    .dataframe tbody tr th:only-of-type {\n",
       "        vertical-align: middle;\n",
       "    }\n",
       "\n",
       "    .dataframe tbody tr th {\n",
       "        vertical-align: top;\n",
       "    }\n",
       "\n",
       "    .dataframe thead th {\n",
       "        text-align: right;\n",
       "    }\n",
       "</style>\n",
       "<table border=\"1\" class=\"dataframe\">\n",
       "  <thead>\n",
       "    <tr style=\"text-align: right;\">\n",
       "      <th></th>\n",
       "      <th>A1_Score</th>\n",
       "      <th>A2_Score</th>\n",
       "      <th>A3_Score</th>\n",
       "      <th>A4_Score</th>\n",
       "      <th>A5_Score</th>\n",
       "      <th>A6_Score</th>\n",
       "      <th>A7_Score</th>\n",
       "      <th>A8_Score</th>\n",
       "      <th>A9_Score</th>\n",
       "      <th>A10_Score</th>\n",
       "      <th>age</th>\n",
       "      <th>gender</th>\n",
       "      <th>jaundice</th>\n",
       "      <th>austim</th>\n",
       "      <th>contry_of_res</th>\n",
       "      <th>used_app_before</th>\n",
       "      <th>result</th>\n",
       "      <th>relation</th>\n",
       "      <th>Class/ASD</th>\n",
       "    </tr>\n",
       "  </thead>\n",
       "  <tbody>\n",
       "    <tr>\n",
       "      <th>count</th>\n",
       "      <td>800.000000</td>\n",
       "      <td>800.000000</td>\n",
       "      <td>800.000000</td>\n",
       "      <td>800.00000</td>\n",
       "      <td>800.000000</td>\n",
       "      <td>800.000000</td>\n",
       "      <td>800.000000</td>\n",
       "      <td>800.000000</td>\n",
       "      <td>800.000000</td>\n",
       "      <td>800.000000</td>\n",
       "      <td>800.000000</td>\n",
       "      <td>800.000000</td>\n",
       "      <td>800.000000</td>\n",
       "      <td>800.00000</td>\n",
       "      <td>800.000000</td>\n",
       "      <td>800.000000</td>\n",
       "      <td>800.000000</td>\n",
       "      <td>800.000000</td>\n",
       "      <td>800.000000</td>\n",
       "    </tr>\n",
       "    <tr>\n",
       "      <th>mean</th>\n",
       "      <td>0.560000</td>\n",
       "      <td>0.530000</td>\n",
       "      <td>0.450000</td>\n",
       "      <td>0.41500</td>\n",
       "      <td>0.395000</td>\n",
       "      <td>0.303750</td>\n",
       "      <td>0.397500</td>\n",
       "      <td>0.508750</td>\n",
       "      <td>0.495000</td>\n",
       "      <td>0.617500</td>\n",
       "      <td>27.963750</td>\n",
       "      <td>0.662500</td>\n",
       "      <td>0.231250</td>\n",
       "      <td>0.16375</td>\n",
       "      <td>32.558750</td>\n",
       "      <td>0.062500</td>\n",
       "      <td>8.537303</td>\n",
       "      <td>0.886250</td>\n",
       "      <td>0.201250</td>\n",
       "    </tr>\n",
       "    <tr>\n",
       "      <th>std</th>\n",
       "      <td>0.496697</td>\n",
       "      <td>0.499411</td>\n",
       "      <td>0.497805</td>\n",
       "      <td>0.49303</td>\n",
       "      <td>0.489157</td>\n",
       "      <td>0.460164</td>\n",
       "      <td>0.489687</td>\n",
       "      <td>0.500236</td>\n",
       "      <td>0.500288</td>\n",
       "      <td>0.486302</td>\n",
       "      <td>16.329827</td>\n",
       "      <td>0.473153</td>\n",
       "      <td>0.421896</td>\n",
       "      <td>0.37028</td>\n",
       "      <td>16.300189</td>\n",
       "      <td>0.242213</td>\n",
       "      <td>4.807676</td>\n",
       "      <td>0.317706</td>\n",
       "      <td>0.401185</td>\n",
       "    </tr>\n",
       "    <tr>\n",
       "      <th>min</th>\n",
       "      <td>0.000000</td>\n",
       "      <td>0.000000</td>\n",
       "      <td>0.000000</td>\n",
       "      <td>0.00000</td>\n",
       "      <td>0.000000</td>\n",
       "      <td>0.000000</td>\n",
       "      <td>0.000000</td>\n",
       "      <td>0.000000</td>\n",
       "      <td>0.000000</td>\n",
       "      <td>0.000000</td>\n",
       "      <td>2.000000</td>\n",
       "      <td>0.000000</td>\n",
       "      <td>0.000000</td>\n",
       "      <td>0.00000</td>\n",
       "      <td>0.000000</td>\n",
       "      <td>0.000000</td>\n",
       "      <td>-6.137748</td>\n",
       "      <td>0.000000</td>\n",
       "      <td>0.000000</td>\n",
       "    </tr>\n",
       "    <tr>\n",
       "      <th>25%</th>\n",
       "      <td>0.000000</td>\n",
       "      <td>0.000000</td>\n",
       "      <td>0.000000</td>\n",
       "      <td>0.00000</td>\n",
       "      <td>0.000000</td>\n",
       "      <td>0.000000</td>\n",
       "      <td>0.000000</td>\n",
       "      <td>0.000000</td>\n",
       "      <td>0.000000</td>\n",
       "      <td>0.000000</td>\n",
       "      <td>17.000000</td>\n",
       "      <td>0.000000</td>\n",
       "      <td>0.000000</td>\n",
       "      <td>0.00000</td>\n",
       "      <td>23.000000</td>\n",
       "      <td>0.000000</td>\n",
       "      <td>5.306575</td>\n",
       "      <td>1.000000</td>\n",
       "      <td>0.000000</td>\n",
       "    </tr>\n",
       "    <tr>\n",
       "      <th>50%</th>\n",
       "      <td>1.000000</td>\n",
       "      <td>1.000000</td>\n",
       "      <td>0.000000</td>\n",
       "      <td>0.00000</td>\n",
       "      <td>0.000000</td>\n",
       "      <td>0.000000</td>\n",
       "      <td>0.000000</td>\n",
       "      <td>1.000000</td>\n",
       "      <td>0.000000</td>\n",
       "      <td>1.000000</td>\n",
       "      <td>24.000000</td>\n",
       "      <td>1.000000</td>\n",
       "      <td>0.000000</td>\n",
       "      <td>0.00000</td>\n",
       "      <td>33.000000</td>\n",
       "      <td>0.000000</td>\n",
       "      <td>9.605299</td>\n",
       "      <td>1.000000</td>\n",
       "      <td>0.000000</td>\n",
       "    </tr>\n",
       "    <tr>\n",
       "      <th>75%</th>\n",
       "      <td>1.000000</td>\n",
       "      <td>1.000000</td>\n",
       "      <td>1.000000</td>\n",
       "      <td>1.00000</td>\n",
       "      <td>1.000000</td>\n",
       "      <td>1.000000</td>\n",
       "      <td>1.000000</td>\n",
       "      <td>1.000000</td>\n",
       "      <td>1.000000</td>\n",
       "      <td>1.000000</td>\n",
       "      <td>35.250000</td>\n",
       "      <td>1.000000</td>\n",
       "      <td>0.000000</td>\n",
       "      <td>0.00000</td>\n",
       "      <td>51.000000</td>\n",
       "      <td>0.000000</td>\n",
       "      <td>12.514484</td>\n",
       "      <td>1.000000</td>\n",
       "      <td>0.000000</td>\n",
       "    </tr>\n",
       "    <tr>\n",
       "      <th>max</th>\n",
       "      <td>1.000000</td>\n",
       "      <td>1.000000</td>\n",
       "      <td>1.000000</td>\n",
       "      <td>1.00000</td>\n",
       "      <td>1.000000</td>\n",
       "      <td>1.000000</td>\n",
       "      <td>1.000000</td>\n",
       "      <td>1.000000</td>\n",
       "      <td>1.000000</td>\n",
       "      <td>1.000000</td>\n",
       "      <td>89.000000</td>\n",
       "      <td>1.000000</td>\n",
       "      <td>1.000000</td>\n",
       "      <td>1.00000</td>\n",
       "      <td>53.000000</td>\n",
       "      <td>1.000000</td>\n",
       "      <td>15.853126</td>\n",
       "      <td>1.000000</td>\n",
       "      <td>1.000000</td>\n",
       "    </tr>\n",
       "  </tbody>\n",
       "</table>\n",
       "</div>"
      ],
      "text/plain": [
       "         A1_Score    A2_Score    A3_Score   A4_Score    A5_Score    A6_Score  \\\n",
       "count  800.000000  800.000000  800.000000  800.00000  800.000000  800.000000   \n",
       "mean     0.560000    0.530000    0.450000    0.41500    0.395000    0.303750   \n",
       "std      0.496697    0.499411    0.497805    0.49303    0.489157    0.460164   \n",
       "min      0.000000    0.000000    0.000000    0.00000    0.000000    0.000000   \n",
       "25%      0.000000    0.000000    0.000000    0.00000    0.000000    0.000000   \n",
       "50%      1.000000    1.000000    0.000000    0.00000    0.000000    0.000000   \n",
       "75%      1.000000    1.000000    1.000000    1.00000    1.000000    1.000000   \n",
       "max      1.000000    1.000000    1.000000    1.00000    1.000000    1.000000   \n",
       "\n",
       "         A7_Score    A8_Score    A9_Score   A10_Score         age      gender  \\\n",
       "count  800.000000  800.000000  800.000000  800.000000  800.000000  800.000000   \n",
       "mean     0.397500    0.508750    0.495000    0.617500   27.963750    0.662500   \n",
       "std      0.489687    0.500236    0.500288    0.486302   16.329827    0.473153   \n",
       "min      0.000000    0.000000    0.000000    0.000000    2.000000    0.000000   \n",
       "25%      0.000000    0.000000    0.000000    0.000000   17.000000    0.000000   \n",
       "50%      0.000000    1.000000    0.000000    1.000000   24.000000    1.000000   \n",
       "75%      1.000000    1.000000    1.000000    1.000000   35.250000    1.000000   \n",
       "max      1.000000    1.000000    1.000000    1.000000   89.000000    1.000000   \n",
       "\n",
       "         jaundice     austim  contry_of_res  used_app_before      result  \\\n",
       "count  800.000000  800.00000     800.000000       800.000000  800.000000   \n",
       "mean     0.231250    0.16375      32.558750         0.062500    8.537303   \n",
       "std      0.421896    0.37028      16.300189         0.242213    4.807676   \n",
       "min      0.000000    0.00000       0.000000         0.000000   -6.137748   \n",
       "25%      0.000000    0.00000      23.000000         0.000000    5.306575   \n",
       "50%      0.000000    0.00000      33.000000         0.000000    9.605299   \n",
       "75%      0.000000    0.00000      51.000000         0.000000   12.514484   \n",
       "max      1.000000    1.00000      53.000000         1.000000   15.853126   \n",
       "\n",
       "         relation   Class/ASD  \n",
       "count  800.000000  800.000000  \n",
       "mean     0.886250    0.201250  \n",
       "std      0.317706    0.401185  \n",
       "min      0.000000    0.000000  \n",
       "25%      1.000000    0.000000  \n",
       "50%      1.000000    0.000000  \n",
       "75%      1.000000    0.000000  \n",
       "max      1.000000    1.000000  "
      ]
     },
     "execution_count": 18,
     "metadata": {},
     "output_type": "execute_result"
    }
   ],
   "source": [
    "data.describe()"
   ]
  },
  {
   "cell_type": "code",
   "execution_count": 19,
   "id": "8838ab43",
   "metadata": {},
   "outputs": [
    {
     "data": {
      "image/png": "[encoded data removed]",
      "text/plain": [
       "<Figure size 1200x500 with 2 Axes>"
      ]
     },
     "metadata": {},
     "output_type": "display_data"
    }
   ],
   "source": [
    "fig, ax = plt.subplots(1, 2, figsize=(12, 5))\n",
    "\n",
    "for i, col in enumerate(['age', 'result']):\n",
    "    sns.histplot(data[col], kde=True, ax=ax[i])\n",
    "    ax[i].axvline(data[col].mean(), color=\"red\", linestyle=\"--\", label=\"Mean\")\n",
    "    ax[i].axvline(data[col].median(), color=\"green\", linestyle=\"--\", label=\"Median\")\n",
    "    ax[i].set_title(f\"Distribution of {col}\")\n",
    "    ax[i].legend()  # Put legend in each subplot\n",
    "\n",
    "plt.tight_layout()\n",
    "plt.show()"
   ]
  },
  {
   "cell_type": "markdown",
   "id": "f28d3279",
   "metadata": {},
   "source": [
    "### **Outliers Detection**"
   ]
  },
  {
   "cell_type": "code",
   "execution_count": 20,
   "id": "e3aeb873",
   "metadata": {},
   "outputs": [
    {
     "data": {
      "image/png": "[encoded data removed]",
      "text/plain": [
       "<Figure size 1500x500 with 2 Axes>"
      ]
     },
     "metadata": {},
     "output_type": "display_data"
    }
   ],
   "source": [
    "fig, axs = plt.subplots(1,2, figsize=(15, 5))\n",
    "sns.boxplot(x=data.age, ax=axs[0])\n",
    "axs[0].set_title(\"With outliers in age\")\n",
    "\n",
    "sns.boxplot(x=data.result, ax=axs[1])\n",
    "axs[1].set_title(\"With outliers in result\")\n",
    "\n",
    "plt.show()"
   ]
  },
  {
   "cell_type": "code",
   "execution_count": 21,
   "id": "feb25f44",
   "metadata": {},
   "outputs": [
    {
     "data": {
      "text/plain": [
       "39"
      ]
     },
     "execution_count": 21,
     "metadata": {},
     "output_type": "execute_result"
    }
   ],
   "source": [
    "Q1 = data.age.quantile(0.25)\n",
    "Q3 = data.age.quantile(0.75)\n",
    "\n",
    "IQR = Q3 - Q1\n",
    "\n",
    "lb = Q1 - 1.5*IQR\n",
    "ub = Q3 + 1.5*IQR\n",
    "\n",
    "age_outliers = data[(data.age < lb) | (data.age > ub)]\n",
    "len(age_outliers)"
   ]
  },
  {
   "cell_type": "code",
   "execution_count": 22,
   "id": "76b788c7",
   "metadata": {},
   "outputs": [
    {
     "data": {
      "image/png": "[encoded data removed]",
      "text/plain": [
       "<Figure size 1500x500 with 2 Axes>"
      ]
     },
     "metadata": {},
     "output_type": "display_data"
    }
   ],
   "source": [
    "def replace_outliers(df, col):\n",
    "    Q1 = df[col].quantile(0.25)\n",
    "    Q3 = df[col].quantile(0.75)\n",
    "    IQR = Q3 - Q1\n",
    "\n",
    "    lower_bound = Q1 - 1.5 * IQR\n",
    "    upper_bound = Q3 + 1.5 * IQR\n",
    "\n",
    "    median = df[col].median()\n",
    "\n",
    "    # replace outliers with median\n",
    "    df[col] = df[col].apply(lambda x: median if x < lower_bound or x > upper_bound else x)\n",
    "\n",
    "    return df\n",
    "\n",
    "for i in ['age', 'result']:\n",
    "    data = replace_outliers(data, i)\n",
    "\n",
    "fig, axs = plt.subplots(1,2, figsize=(15, 5))\n",
    "sns.boxplot(x=data.age, ax=axs[0])\n",
    "axs[0].set_title(\"Without outliers in age\")\n",
    "\n",
    "sns.boxplot(x=data.result, ax=axs[1])\n",
    "axs[1].set_title(\"Without outliers in result\")\n",
    "\n",
    "plt.show()"
   ]
  },
  {
   "cell_type": "markdown",
   "id": "bd0b53ce",
   "metadata": {},
   "source": [
    "### **Normalize Data**"
   ]
  },
  {
   "cell_type": "code",
   "execution_count": 23,
   "id": "828055e8",
   "metadata": {},
   "outputs": [
    {
     "data": {
      "text/html": [
       "<div>\n",
       "<style scoped>\n",
       "    .dataframe tbody tr th:only-of-type {\n",
       "        vertical-align: middle;\n",
       "    }\n",
       "\n",
       "    .dataframe tbody tr th {\n",
       "        vertical-align: top;\n",
       "    }\n",
       "\n",
       "    .dataframe thead th {\n",
       "        text-align: right;\n",
       "    }\n",
       "</style>\n",
       "<table border=\"1\" class=\"dataframe\">\n",
       "  <thead>\n",
       "    <tr style=\"text-align: right;\">\n",
       "      <th></th>\n",
       "      <th>A1_Score</th>\n",
       "      <th>A2_Score</th>\n",
       "      <th>A3_Score</th>\n",
       "      <th>A4_Score</th>\n",
       "      <th>A5_Score</th>\n",
       "      <th>A6_Score</th>\n",
       "      <th>A7_Score</th>\n",
       "      <th>A8_Score</th>\n",
       "      <th>A9_Score</th>\n",
       "      <th>A10_Score</th>\n",
       "      <th>age</th>\n",
       "      <th>gender</th>\n",
       "      <th>jaundice</th>\n",
       "      <th>austim</th>\n",
       "      <th>contry_of_res</th>\n",
       "      <th>used_app_before</th>\n",
       "      <th>result</th>\n",
       "      <th>relation</th>\n",
       "      <th>Class/ASD</th>\n",
       "    </tr>\n",
       "  </thead>\n",
       "  <tbody>\n",
       "    <tr>\n",
       "      <th>0</th>\n",
       "      <td>1.0</td>\n",
       "      <td>0.0</td>\n",
       "      <td>1.0</td>\n",
       "      <td>0.0</td>\n",
       "      <td>1.0</td>\n",
       "      <td>0.0</td>\n",
       "      <td>1.0</td>\n",
       "      <td>0.0</td>\n",
       "      <td>1.0</td>\n",
       "      <td>1.0</td>\n",
       "      <td>0.600000</td>\n",
       "      <td>0.0</td>\n",
       "      <td>0.0</td>\n",
       "      <td>0.0</td>\n",
       "      <td>0.113208</td>\n",
       "      <td>0.0</td>\n",
       "      <td>0.550053</td>\n",
       "      <td>1.0</td>\n",
       "      <td>0.0</td>\n",
       "    </tr>\n",
       "    <tr>\n",
       "      <th>1</th>\n",
       "      <td>0.0</td>\n",
       "      <td>0.0</td>\n",
       "      <td>0.0</td>\n",
       "      <td>0.0</td>\n",
       "      <td>0.0</td>\n",
       "      <td>0.0</td>\n",
       "      <td>0.0</td>\n",
       "      <td>0.0</td>\n",
       "      <td>0.0</td>\n",
       "      <td>0.0</td>\n",
       "      <td>0.750000</td>\n",
       "      <td>1.0</td>\n",
       "      <td>0.0</td>\n",
       "      <td>0.0</td>\n",
       "      <td>0.433962</td>\n",
       "      <td>0.0</td>\n",
       "      <td>0.356096</td>\n",
       "      <td>1.0</td>\n",
       "      <td>0.0</td>\n",
       "    </tr>\n",
       "    <tr>\n",
       "      <th>2</th>\n",
       "      <td>1.0</td>\n",
       "      <td>1.0</td>\n",
       "      <td>1.0</td>\n",
       "      <td>1.0</td>\n",
       "      <td>1.0</td>\n",
       "      <td>1.0</td>\n",
       "      <td>1.0</td>\n",
       "      <td>1.0</td>\n",
       "      <td>1.0</td>\n",
       "      <td>1.0</td>\n",
       "      <td>0.083333</td>\n",
       "      <td>1.0</td>\n",
       "      <td>0.0</td>\n",
       "      <td>1.0</td>\n",
       "      <td>0.981132</td>\n",
       "      <td>0.0</td>\n",
       "      <td>0.952569</td>\n",
       "      <td>1.0</td>\n",
       "      <td>1.0</td>\n",
       "    </tr>\n",
       "    <tr>\n",
       "      <th>3</th>\n",
       "      <td>0.0</td>\n",
       "      <td>0.0</td>\n",
       "      <td>0.0</td>\n",
       "      <td>0.0</td>\n",
       "      <td>0.0</td>\n",
       "      <td>0.0</td>\n",
       "      <td>0.0</td>\n",
       "      <td>0.0</td>\n",
       "      <td>0.0</td>\n",
       "      <td>0.0</td>\n",
       "      <td>0.350000</td>\n",
       "      <td>0.0</td>\n",
       "      <td>0.0</td>\n",
       "      <td>0.0</td>\n",
       "      <td>0.981132</td>\n",
       "      <td>0.0</td>\n",
       "      <td>0.357111</td>\n",
       "      <td>1.0</td>\n",
       "      <td>0.0</td>\n",
       "    </tr>\n",
       "    <tr>\n",
       "      <th>4</th>\n",
       "      <td>0.0</td>\n",
       "      <td>0.0</td>\n",
       "      <td>0.0</td>\n",
       "      <td>0.0</td>\n",
       "      <td>0.0</td>\n",
       "      <td>0.0</td>\n",
       "      <td>0.0</td>\n",
       "      <td>0.0</td>\n",
       "      <td>0.0</td>\n",
       "      <td>0.0</td>\n",
       "      <td>0.683333</td>\n",
       "      <td>1.0</td>\n",
       "      <td>0.0</td>\n",
       "      <td>0.0</td>\n",
       "      <td>0.830189</td>\n",
       "      <td>0.0</td>\n",
       "      <td>0.023087</td>\n",
       "      <td>1.0</td>\n",
       "      <td>0.0</td>\n",
       "    </tr>\n",
       "  </tbody>\n",
       "</table>\n",
       "</div>"
      ],
      "text/plain": [
       "   A1_Score  A2_Score  A3_Score  A4_Score  A5_Score  A6_Score  A7_Score  \\\n",
       "0       1.0       0.0       1.0       0.0       1.0       0.0       1.0   \n",
       "1       0.0       0.0       0.0       0.0       0.0       0.0       0.0   \n",
       "2       1.0       1.0       1.0       1.0       1.0       1.0       1.0   \n",
       "3       0.0       0.0       0.0       0.0       0.0       0.0       0.0   \n",
       "4       0.0       0.0       0.0       0.0       0.0       0.0       0.0   \n",
       "\n",
       "   A8_Score  A9_Score  A10_Score       age  gender  jaundice  austim  \\\n",
       "0       0.0       1.0        1.0  0.600000     0.0       0.0     0.0   \n",
       "1       0.0       0.0        0.0  0.750000     1.0       0.0     0.0   \n",
       "2       1.0       1.0        1.0  0.083333     1.0       0.0     1.0   \n",
       "3       0.0       0.0        0.0  0.350000     0.0       0.0     0.0   \n",
       "4       0.0       0.0        0.0  0.683333     1.0       0.0     0.0   \n",
       "\n",
       "   contry_of_res  used_app_before    result  relation  Class/ASD  \n",
       "0       0.113208              0.0  0.550053       1.0        0.0  \n",
       "1       0.433962              0.0  0.356096       1.0        0.0  \n",
       "2       0.981132              0.0  0.952569       1.0        1.0  \n",
       "3       0.981132              0.0  0.357111       1.0        0.0  \n",
       "4       0.830189              0.0  0.023087       1.0        0.0  "
      ]
     },
     "execution_count": 23,
     "metadata": {},
     "output_type": "execute_result"
    }
   ],
   "source": [
    "scaler = MinMaxScaler()\n",
    "scaled_data = scaler.fit_transform(data)\n",
    "data = pd.DataFrame(scaled_data, columns=data.columns)\n",
    "data.head()"
   ]
  },
  {
   "cell_type": "markdown",
   "id": "e42e1f9b",
   "metadata": {},
   "source": [
    "## **Split the Dataset**"
   ]
  },
  {
   "cell_type": "code",
   "execution_count": 24,
   "id": "0cac8bb9",
   "metadata": {},
   "outputs": [],
   "source": [
    "X = data.drop(['Class/ASD'], axis=1)\n",
    "y = data['Class/ASD']\n",
    "X_train, X_test, y_train, y_test = train_test_split(X, y, test_size=0.2, random_state=42)"
   ]
  },
  {
   "cell_type": "code",
   "execution_count": 25,
   "id": "20cee3a1",
   "metadata": {},
   "outputs": [
    {
     "name": "stdout",
     "output_type": "stream",
     "text": [
      "X_train shape: (640, 18)\n",
      "X_test shape: (160, 18)\n",
      "y_train shape: (640,)\n",
      "y_test shape: (160,)\n"
     ]
    }
   ],
   "source": [
    "print(f\"X_train shape: {X_train.shape}\")\n",
    "print(f\"X_test shape: {X_test.shape}\")\n",
    "print(f\"y_train shape: {y_train.shape}\")\n",
    "print(f\"y_test shape: {y_test.shape}\")"
   ]
  },
  {
   "cell_type": "markdown",
   "id": "3759207c",
   "metadata": {},
   "source": [
    "### **Logistic Regression**"
   ]
  },
  {
   "cell_type": "code",
   "execution_count": 26,
   "id": "e6e621d0",
   "metadata": {},
   "outputs": [
    {
     "name": "stdout",
     "output_type": "stream",
     "text": [
      "Logistic Regression accuracy: 0.875\n"
     ]
    }
   ],
   "source": [
    "LR = LogisticRegression()\n",
    "LR.fit(X_train, y_train)\n",
    "LR_predict = LR.predict(X_test)\n",
    "print(f\"Logistic Regression accuracy: {accuracy_score(y_test,LR_predict)}\")"
   ]
  },
  {
   "cell_type": "code",
   "execution_count": 27,
   "id": "017b8fca",
   "metadata": {},
   "outputs": [
    {
     "name": "stdout",
     "output_type": "stream",
     "text": [
      "              precision    recall  f1-score   support\n",
      "\n",
      "         0.0       0.91      0.94      0.92       124\n",
      "         1.0       0.75      0.67      0.71        36\n",
      "\n",
      "    accuracy                           0.88       160\n",
      "   macro avg       0.83      0.80      0.81       160\n",
      "weighted avg       0.87      0.88      0.87       160\n",
      "\n"
     ]
    }
   ],
   "source": [
    "print(classification_report(y_test, LR_predict))"
   ]
  },
  {
   "cell_type": "code",
   "execution_count": 28,
   "id": "dcb342de",
   "metadata": {},
   "outputs": [
    {
     "data": {
      "image/png": "[encoded data removed]",
      "text/plain": [
       "<Figure size 640x480 with 2 Axes>"
      ]
     },
     "metadata": {},
     "output_type": "display_data"
    }
   ],
   "source": [
    "LR_cfm = confusion_matrix(y_test, LR_predict)\n",
    "sns.heatmap(LR_cfm, annot=True)\n",
    "plt.xlabel('Acctual')\n",
    "plt.ylabel('Predicted')\n",
    "plt.title(\"Confusion Matrix: Logistic Regression\")\n",
    "plt.show()"
   ]
  },
  {
   "cell_type": "markdown",
   "id": "04ab37b8",
   "metadata": {},
   "source": [
    "### **Decision Tree Classifier**"
   ]
  },
  {
   "cell_type": "code",
   "execution_count": 29,
   "id": "e6be205a",
   "metadata": {},
   "outputs": [
    {
     "name": "stdout",
     "output_type": "stream",
     "text": [
      "Decison Tree Classifier accuracy: 0.76875\n"
     ]
    }
   ],
   "source": [
    "DT = DecisionTreeClassifier()\n",
    "DT.fit(X_train, y_train)\n",
    "DT_predict = DT.predict(X_test)\n",
    "print(f\"Decison Tree Classifier accuracy: {accuracy_score(y_test,DT_predict)}\")"
   ]
  },
  {
   "cell_type": "code",
   "execution_count": 30,
   "id": "f57a1f25",
   "metadata": {},
   "outputs": [
    {
     "name": "stdout",
     "output_type": "stream",
     "text": [
      "              precision    recall  f1-score   support\n",
      "\n",
      "         0.0       0.86      0.84      0.85       124\n",
      "         1.0       0.49      0.53      0.51        36\n",
      "\n",
      "    accuracy                           0.77       160\n",
      "   macro avg       0.67      0.68      0.68       160\n",
      "weighted avg       0.78      0.77      0.77       160\n",
      "\n"
     ]
    }
   ],
   "source": [
    "print(classification_report(y_test, DT_predict))"
   ]
  },
  {
   "cell_type": "code",
   "execution_count": 31,
   "id": "ba21fd49",
   "metadata": {},
   "outputs": [
    {
     "data": {
      "image/png": "[encoded data removed]",
      "text/plain": [
       "<Figure size 640x480 with 2 Axes>"
      ]
     },
     "metadata": {},
     "output_type": "display_data"
    }
   ],
   "source": [
    "DT_cfm = confusion_matrix(y_test, DT_predict)\n",
    "sns.heatmap(DT_cfm, annot=True)\n",
    "plt.xlabel('Acctual')\n",
    "plt.ylabel('Predicted')\n",
    "plt.title(\"Confusion Matrix: Decision Tree Classifier\")\n",
    "plt.show()"
   ]
  },
  {
   "cell_type": "code",
   "execution_count": 32,
   "id": "89ac8503",
   "metadata": {},
   "outputs": [
    {
     "data": {
      "image/png": "[encoded data removed]",
      "text/plain": [
       "<Figure size 1200x1200 with 1 Axes>"
      ]
     },
     "metadata": {},
     "output_type": "display_data"
    }
   ],
   "source": [
    "plt.figure(figsize=(12, 12))\n",
    "plot_tree(DT)\n",
    "plt.show()"
   ]
  },
  {
   "cell_type": "markdown",
   "id": "4cb6d83b",
   "metadata": {},
   "source": [
    "### **Bagging Classifier**"
   ]
  },
  {
   "cell_type": "code",
   "execution_count": 33,
   "id": "ad9c746f",
   "metadata": {},
   "outputs": [
    {
     "name": "stdout",
     "output_type": "stream",
     "text": [
      "Best parameters for \"Bagging Classifier\": {'n_estimators': 10}\n",
      "Best Accuracy: 0.8609375\n"
     ]
    }
   ],
   "source": [
    "bc_param_grid = {\n",
    " 'n_estimators':[ 10, 50, 80 ,100, 150, 200, 250, 300]\n",
    " }\n",
    "\n",
    "bc_base_model = BaggingClassifier(random_state=0)\n",
    "bc_gs = GridSearchCV(estimator = bc_base_model, param_grid = bc_param_grid,cv=5, n_jobs = -1)\n",
    "bc_gs.fit(X_train, y_train)\n",
    "print(f'Best parameters for \"Bagging Classifier\": {bc_gs.best_params_}')\n",
    "print(f'Best Accuracy: {bc_gs.best_score_}')"
   ]
  },
  {
   "cell_type": "markdown",
   "id": "a8703b73",
   "metadata": {},
   "source": [
    "### Training with Optimized parameters"
   ]
  },
  {
   "cell_type": "code",
   "execution_count": 34,
   "id": "2e663988",
   "metadata": {},
   "outputs": [
    {
     "name": "stdout",
     "output_type": "stream",
     "text": [
      "Bagging Classifier accuracy: 0.825\n"
     ]
    }
   ],
   "source": [
    "BC = BaggingClassifier(n_estimators = 10, random_state=0)\n",
    "BC.fit(X_train, y_train)\n",
    "BC_predict = BC.predict(X_test)\n",
    "print(f\"Bagging Classifier accuracy: {accuracy_score(y_test,BC_predict)}\")\n",
    "\n"
   ]
  },
  {
   "cell_type": "code",
   "execution_count": 35,
   "id": "cc084c5e",
   "metadata": {},
   "outputs": [
    {
     "name": "stdout",
     "output_type": "stream",
     "text": [
      "              precision    recall  f1-score   support\n",
      "\n",
      "         0.0       0.87      0.91      0.89       124\n",
      "         1.0       0.63      0.53      0.58        36\n",
      "\n",
      "    accuracy                           0.82       160\n",
      "   macro avg       0.75      0.72      0.73       160\n",
      "weighted avg       0.82      0.82      0.82       160\n",
      "\n"
     ]
    }
   ],
   "source": [
    "print(classification_report(y_test, BC_predict))"
   ]
  },
  {
   "cell_type": "code",
   "execution_count": 36,
   "id": "da53f56f",
   "metadata": {},
   "outputs": [
    {
     "data": {
      "image/png": "[encoded data removed]",
      "text/plain": [
       "<Figure size 640x480 with 2 Axes>"
      ]
     },
     "metadata": {},
     "output_type": "display_data"
    }
   ],
   "source": [
    "BC_cfm = confusion_matrix(y_test, BC_predict)\n",
    "sns.heatmap(BC_cfm, annot=True)\n",
    "plt.xlabel('Acctual')\n",
    "plt.ylabel('Predicted')\n",
    "plt.title(\"Confusion Matrix: Bagging Classifier\")\n",
    "plt.show()"
   ]
  },
  {
   "cell_type": "markdown",
   "id": "8a16f41f",
   "metadata": {},
   "source": [
    "### **RandomForest Classifier**"
   ]
  },
  {
   "cell_type": "code",
   "execution_count": 37,
   "id": "b43be0af",
   "metadata": {},
   "outputs": [
    {
     "name": "stdout",
     "output_type": "stream",
     "text": [
      "Best parameters for \"Random Forest Classifier\": {'max_depth': 15, 'n_estimators': 100}\n",
      "Best Accuracy: 0.8703125\n"
     ]
    }
   ],
   "source": [
    "rfc_base_model = RandomForestClassifier(max_features='sqrt')\n",
    "rfc_param_grid = {\n",
    "        'n_estimators':[ 10, 50, 80 ,100, 150, 200, 250, 300],\n",
    "        'max_depth': [1,2,3,4,10,15,20]\n",
    "    }\n",
    "rfc_gs = GridSearchCV(estimator = rfc_base_model, param_grid = rfc_param_grid,cv=5, n_jobs = -1)\n",
    "rfc_gs.fit(X_train, y_train)\n",
    "\n",
    "print(f'Best parameters for \"Random Forest Classifier\": {rfc_gs.best_params_}')\n",
    "print(f'Best Accuracy: {rfc_gs.best_score_}')"
   ]
  },
  {
   "cell_type": "code",
   "execution_count": 38,
   "id": "48b7fd6d",
   "metadata": {},
   "outputs": [
    {
     "name": "stdout",
     "output_type": "stream",
     "text": [
      "RandomForest Classifier accuracy: 0.8625\n"
     ]
    }
   ],
   "source": [
    "RF = RandomForestClassifier(max_features='sqrt', n_estimators=100, max_depth=15)\n",
    "RF.fit(X_train, y_train)\n",
    "RF_predict = RF.predict(X_test)\n",
    "print(f\"RandomForest Classifier accuracy: {accuracy_score(y_test,RF_predict)}\")"
   ]
  },
  {
   "cell_type": "code",
   "execution_count": 39,
   "id": "a4dacd1d",
   "metadata": {},
   "outputs": [
    {
     "name": "stdout",
     "output_type": "stream",
     "text": [
      "              precision    recall  f1-score   support\n",
      "\n",
      "         0.0       0.89      0.94      0.91       124\n",
      "         1.0       0.73      0.61      0.67        36\n",
      "\n",
      "    accuracy                           0.86       160\n",
      "   macro avg       0.81      0.77      0.79       160\n",
      "weighted avg       0.86      0.86      0.86       160\n",
      "\n"
     ]
    }
   ],
   "source": [
    "print(classification_report(y_test, RF_predict))"
   ]
  },
  {
   "cell_type": "code",
   "execution_count": 40,
   "id": "14464f72",
   "metadata": {},
   "outputs": [
    {
     "data": {
      "image/png": "[encoded data removed]",
      "text/plain": [
       "<Figure size 640x480 with 2 Axes>"
      ]
     },
     "metadata": {},
     "output_type": "display_data"
    }
   ],
   "source": [
    "RF_cfm = confusion_matrix(y_test, RF_predict)\n",
    "sns.heatmap(RF_cfm, annot=True)\n",
    "plt.xlabel('Acctual')\n",
    "plt.ylabel('Predicted')\n",
    "plt.title(\"Confusion Matrix: RandomForest Classifier\")\n",
    "plt.show()"
   ]
  },
  {
   "cell_type": "markdown",
   "id": "d3142544",
   "metadata": {},
   "source": [
    "### **GradientBoosting Classifier**"
   ]
  },
  {
   "cell_type": "code",
   "execution_count": 41,
   "id": "e692f185",
   "metadata": {},
   "outputs": [
    {
     "name": "stdout",
     "output_type": "stream",
     "text": [
      "Best parameters for \"Gradient Boosting Classifier\": {'learning_rate': 0.1, 'max_depth': 1, 'n_estimators': 200}\n",
      "Best Accuracy: 0.8609375\n"
     ]
    }
   ],
   "source": [
    "gbr_base_model =  GradientBoostingClassifier(random_state=0)\n",
    "gbr_param_grid = {\n",
    "        'n_estimators':[ 10, 50, 80 ,100, 150, 200, 250, 300],\n",
    "        'max_depth': [1,2,3,4,10,15,20],\n",
    "        'learning_rate': [0.01,0.02,0.1,0.05,0.5,0.07,0.9]\n",
    "    }\n",
    "gbr_gs = GridSearchCV(estimator = gbr_base_model, param_grid = gbr_param_grid,cv=5, n_jobs = -1)\n",
    "gbr_gs.fit(X_train, y_train)\n",
    "\n",
    "print(f'Best parameters for \"Gradient Boosting Classifier\": {gbr_gs.best_params_}')\n",
    "print(f'Best Accuracy: {gbr_gs.best_score_}')"
   ]
  },
  {
   "cell_type": "code",
   "execution_count": 42,
   "id": "55780fa2",
   "metadata": {},
   "outputs": [
    {
     "name": "stdout",
     "output_type": "stream",
     "text": [
      "GradientBoosting Classifier accuracy: 0.84375\n"
     ]
    }
   ],
   "source": [
    "GB = GradientBoostingClassifier(learning_rate= 0.1, max_depth=1, n_estimators= 200, random_state=0)\n",
    "GB.fit(X_train, y_train)\n",
    "GB_predict = GB.predict(X_test)\n",
    "print(f\"GradientBoosting Classifier accuracy: {accuracy_score(y_test,GB_predict)}\")\n"
   ]
  },
  {
   "cell_type": "code",
   "execution_count": 43,
   "id": "b0c03b4a",
   "metadata": {},
   "outputs": [
    {
     "name": "stdout",
     "output_type": "stream",
     "text": [
      "              precision    recall  f1-score   support\n",
      "\n",
      "         0.0       0.88      0.92      0.90       124\n",
      "         1.0       0.68      0.58      0.63        36\n",
      "\n",
      "    accuracy                           0.84       160\n",
      "   macro avg       0.78      0.75      0.76       160\n",
      "weighted avg       0.84      0.84      0.84       160\n",
      "\n"
     ]
    }
   ],
   "source": [
    "print(classification_report(y_test, GB_predict))"
   ]
  },
  {
   "cell_type": "code",
   "execution_count": 44,
   "id": "5c872b80",
   "metadata": {},
   "outputs": [
    {
     "data": {
      "image/png": "[encoded data removed]",
      "text/plain": [
       "<Figure size 640x480 with 2 Axes>"
      ]
     },
     "metadata": {},
     "output_type": "display_data"
    }
   ],
   "source": [
    "GB_cfm = confusion_matrix(y_test, GB_predict)\n",
    "sns.heatmap(GB_cfm, annot=True)\n",
    "plt.xlabel('Acctual')\n",
    "plt.ylabel('Predicted')\n",
    "plt.title(\"Confusion Matrix: GradientBoosting Classifier\")\n",
    "plt.show()"
   ]
  },
  {
   "cell_type": "markdown",
   "id": "269c21d4",
   "metadata": {},
   "source": [
    "### **AdaBoost Classifier**"
   ]
  },
  {
   "cell_type": "code",
   "execution_count": 45,
   "id": "d23de988",
   "metadata": {},
   "outputs": [
    {
     "name": "stdout",
     "output_type": "stream",
     "text": [
      "Best parameters for \"AdaBoost Classifier\": {'learning_rate': 0.1, 'n_estimators': 250}\n",
      "Best Accuracy: 0.865625\n"
     ]
    }
   ],
   "source": [
    "ad_base_model =  AdaBoostClassifier(random_state=0)\n",
    "ad_param_grid = {\n",
    "        'n_estimators':[ 10, 50, 80 ,100, 150, 200, 250, 300],\n",
    "        'learning_rate': [0.01,0.02,0.1,0.05,0.5,0.07,0.9]\n",
    "    }\n",
    "ad_gs = GridSearchCV(estimator = ad_base_model, param_grid = ad_param_grid,cv=5, n_jobs = -1)\n",
    "ad_gs.fit(X_train, y_train)\n",
    "\n",
    "print(f'Best parameters for \"AdaBoost Classifier\": {ad_gs.best_params_}')\n",
    "print(f'Best Accuracy: {ad_gs.best_score_}')"
   ]
  },
  {
   "cell_type": "code",
   "execution_count": 46,
   "id": "fc3c68ec",
   "metadata": {},
   "outputs": [
    {
     "name": "stdout",
     "output_type": "stream",
     "text": [
      "AdaBoost Classifier accuracy: 0.8625\n"
     ]
    }
   ],
   "source": [
    "AB = AdaBoostClassifier(learning_rate= 0.1, n_estimators= 250, random_state=0)\n",
    "AB.fit(X_train, y_train)\n",
    "AB_predict = AB.predict(X_test)\n",
    "print(f\"AdaBoost Classifier accuracy: {accuracy_score(y_test,AB_predict)}\")"
   ]
  },
  {
   "cell_type": "code",
   "execution_count": 47,
   "id": "e9482db2",
   "metadata": {},
   "outputs": [
    {
     "name": "stdout",
     "output_type": "stream",
     "text": [
      "              precision    recall  f1-score   support\n",
      "\n",
      "         0.0       0.89      0.94      0.91       124\n",
      "         1.0       0.75      0.58      0.66        36\n",
      "\n",
      "    accuracy                           0.86       160\n",
      "   macro avg       0.82      0.76      0.79       160\n",
      "weighted avg       0.86      0.86      0.86       160\n",
      "\n"
     ]
    }
   ],
   "source": [
    "print(classification_report(y_test, AB_predict))"
   ]
  },
  {
   "cell_type": "code",
   "execution_count": 48,
   "id": "1b0a939d",
   "metadata": {},
   "outputs": [
    {
     "data": {
      "image/png": "[encoded data removed]",
      "text/plain": [
       "<Figure size 640x480 with 2 Axes>"
      ]
     },
     "metadata": {},
     "output_type": "display_data"
    }
   ],
   "source": [
    "AB_cfm = confusion_matrix(y_test, AB_predict)\n",
    "sns.heatmap(AB_cfm, annot=True)\n",
    "plt.xlabel('Acctual')\n",
    "plt.ylabel('Predicted')\n",
    "plt.title(\"Confusion Matrix: AdaBoost Classifier\")\n",
    "plt.show()"
   ]
  },
  {
   "cell_type": "markdown",
   "id": "0c6e2e2f",
   "metadata": {},
   "source": [
    "## **Result Summery**"
   ]
  },
  {
   "cell_type": "code",
   "execution_count": 49,
   "id": "ca590f6a",
   "metadata": {},
   "outputs": [
    {
     "name": "stdout",
     "output_type": "stream",
     "text": [
      "\n",
      "Accuracy of Logistic Regression classifier: 0.875\n",
      "\n",
      "--------------------------------------------------\n",
      "\n",
      "Accuracy of Decision Tree classifier: 0.76875\n",
      "\n",
      "--------------------------------------------------\n",
      "\n",
      "Accuracy of RandomForest classifier: 0.8625\n",
      "\n",
      "--------------------------------------------------\n",
      "\n",
      "Accuracy of Bagging classifier: 0.825\n",
      "\n",
      "--------------------------------------------------\n",
      "\n",
      "Accuracy of GradientBoosting classifier: 0.84375\n",
      "\n",
      "--------------------------------------------------\n",
      "\n",
      "Accuracy of AdaBoostClassifier classifier: 0.8625\n",
      "\n",
      "--------------------------------------------------\n"
     ]
    }
   ],
   "source": [
    "results = {\n",
    "    'Logistic Regression': LR_predict,\n",
    "    'Decision Tree': DT_predict,\n",
    "    'RandomForest': RF_predict,\n",
    "    'Bagging': BC_predict,\n",
    "    'GradientBoosting': GB_predict,\n",
    "    'AdaBoostClassifier': AB_predict\n",
    "}\n",
    "\n",
    "for classifier, result in results.items():\n",
    "    print(f\"\\nAccuracy of {classifier} classifier: {accuracy_score(y_test, result)}\\n\")\n",
    "    print('-'*50)\n"
   ]
  },
  {
   "cell_type": "markdown",
   "id": "f1ac101d",
   "metadata": {},
   "source": [
    "## **Conclusion: Logistic Regression is giving better result with accuracy score of 0.875**"
   ]
  },
  {
   "cell_type": "code",
   "execution_count": null,
   "id": "986ebbd6",
   "metadata": {},
   "outputs": [],
   "source": []
  }
 ],
 "metadata": {
  "kernelspec": {
   "display_name": ".venv",
   "language": "python",
   "name": "python3"
  },
  "language_info": {
   "codemirror_mode": {
    "name": "ipython",
    "version": 3
   },
   "file_extension": ".py",
   "mimetype": "text/x-python",
   "name": "python",
   "nbconvert_exporter": "python",
   "pygments_lexer": "ipython3",
   "version": "3.12.9"
  }
 },
 "nbformat": 4,
 "nbformat_minor": 5
}
