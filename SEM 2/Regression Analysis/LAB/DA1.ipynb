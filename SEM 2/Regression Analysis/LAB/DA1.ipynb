{
 "cells": [
  {
   "cell_type": "markdown",
   "metadata": {},
   "source": [
    "# **Digital Assessment 1**\n",
    "# **PMDS504P - Regression Analysis and Predictive Models Lab**\n",
    "## **Name:** Soumyadeep Ganguly\n",
    "## **Register no.:** 24MDT0082\n",
    "## **MSc DATA SCIENCE**"
   ]
  },
  {
   "cell_type": "code",
   "execution_count": null,
   "metadata": {},
   "outputs": [],
   "source": []
  },
  {
   "cell_type": "markdown",
   "metadata": {},
   "source": [
    "## **1. Greatest of Three Numbers**"
   ]
  },
  {
   "cell_type": "code",
   "execution_count": 10,
   "metadata": {},
   "outputs": [
    {
     "name": "stdout",
     "output_type": "stream",
     "text": [
      "Maximum or these 3 numbers is: 6.0\n"
     ]
    }
   ],
   "source": [
    "ns = input(\"Enter 3 numbers seperated by ',': \")\n",
    "nums = ns.split(',')\n",
    "nums = list(map(lambda x: float(x), nums))\n",
    "print(f'Maximum or these 3 numbers is: {max(nums)}')"
   ]
  },
  {
   "cell_type": "markdown",
   "metadata": {},
   "source": [
    "## **2. Multiplication Table**"
   ]
  },
  {
   "cell_type": "code",
   "execution_count": 14,
   "metadata": {},
   "outputs": [
    {
     "name": "stdout",
     "output_type": "stream",
     "text": [
      "Table of 18.0 is: \n",
      "\n",
      "1 times of 18.0 is 18.0\n",
      "2 times of 18.0 is 36.0\n",
      "3 times of 18.0 is 54.0\n",
      "4 times of 18.0 is 72.0\n",
      "5 times of 18.0 is 90.0\n",
      "6 times of 18.0 is 108.0\n",
      "7 times of 18.0 is 126.0\n",
      "8 times of 18.0 is 144.0\n",
      "9 times of 18.0 is 162.0\n",
      "10 times of 18.0 is 180.0\n"
     ]
    }
   ],
   "source": [
    "n = float(input(\"Enter a number:\"))\n",
    "print(f'Table of {n} is: \\n')\n",
    "for i in range(1, 11):\n",
    "    print(f'{i} times of {n} is {i*n}')"
   ]
  },
  {
   "cell_type": "markdown",
   "metadata": {},
   "source": [
    "## **3. Print Numbers from 1 to 10 Using a For Loop**"
   ]
  },
  {
   "cell_type": "code",
   "execution_count": 15,
   "metadata": {},
   "outputs": [
    {
     "name": "stdout",
     "output_type": "stream",
     "text": [
      "1\n",
      "2\n",
      "3\n",
      "4\n",
      "5\n",
      "6\n",
      "7\n",
      "8\n",
      "9\n",
      "10\n"
     ]
    }
   ],
   "source": [
    "for i in range(1, 11):\n",
    "    print(i)"
   ]
  },
  {
   "cell_type": "markdown",
   "metadata": {},
   "source": [
    "## **4. Single-line if-else statement**"
   ]
  },
  {
   "cell_type": "code",
   "execution_count": 18,
   "metadata": {},
   "outputs": [
    {
     "name": "stdout",
     "output_type": "stream",
     "text": [
      "-5.0 is Negative Number\n"
     ]
    }
   ],
   "source": [
    "n = float(input(\"Enter a number:\"))\n",
    "print(f'{n} is Negative Number') if(n<0) else print(f'{n} is Posative Number')"
   ]
  },
  {
   "cell_type": "markdown",
   "metadata": {},
   "source": [
    "## **5. Mark Range (Pass or Fail)**"
   ]
  },
  {
   "cell_type": "code",
   "execution_count": 21,
   "metadata": {},
   "outputs": [
    {
     "name": "stdout",
     "output_type": "stream",
     "text": [
      "Sorry! You failed in examination !\n"
     ]
    }
   ],
   "source": [
    "n = float(input(\"Enter your marks:\"))\n",
    "print(f'Sorry! You failed in examination !') if(n<40) else print(f'Congratulations! You passed in examination. ')"
   ]
  },
  {
   "cell_type": "markdown",
   "metadata": {},
   "source": [
    "## **6. Checking Vowels**"
   ]
  },
  {
   "cell_type": "code",
   "execution_count": 25,
   "metadata": {},
   "outputs": [
    {
     "name": "stdout",
     "output_type": "stream",
     "text": [
      "G is a consonent\n"
     ]
    }
   ],
   "source": [
    "char = input('Enter a alphabet:')\n",
    "v = ['A', 'E', 'I', 'O', 'U', 'a', 'e', 'i', 'o', 'u']\n",
    "if char in v:\n",
    "    print(f'{char} is a vowel')\n",
    "else:\n",
    "    print(f'{char} is a consonent')\n"
   ]
  },
  {
   "cell_type": "markdown",
   "metadata": {},
   "source": [
    "## **7. Sum and Average Using While Loop**"
   ]
  },
  {
   "cell_type": "code",
   "execution_count": 28,
   "metadata": {},
   "outputs": [
    {
     "name": "stdout",
     "output_type": "stream",
     "text": [
      "Average is: 3.0\n"
     ]
    }
   ],
   "source": [
    "ns = input(\"Enter 3 numbers seperated by ',': \")\n",
    "nums = ns.split(',')\n",
    "nums = list(map(lambda x: float(x), nums))\n",
    "summ = 0\n",
    "i=0\n",
    "while(i<len(nums)):\n",
    "    summ = summ + nums[i]\n",
    "    i = i+1 \n",
    "\n",
    "print(f'Average is: {summ/len(nums)}')"
   ]
  },
  {
   "cell_type": "markdown",
   "metadata": {},
   "source": [
    "## **8. Program to Print Fibonacci Sequence up to a Given Limit**"
   ]
  },
  {
   "cell_type": "code",
   "execution_count": 36,
   "metadata": {},
   "outputs": [
    {
     "name": "stdout",
     "output_type": "stream",
     "text": [
      "Fibonnaci series till 20 is:\n",
      "0 1 1 2 3 5 8 13 "
     ]
    }
   ],
   "source": [
    "n = int(input(\"Enter the maximum range:\"))\n",
    "print(f'Fibonnaci series till {n} is:')\n",
    "if n>=0:\n",
    "    a=0\n",
    "    b=1\n",
    "    print(a, end=\" \")\n",
    "    print(b, end=\" \")\n",
    "    for i in range(2, n):\n",
    "        c = a+b\n",
    "        a = b\n",
    "        b = c\n",
    "        if c <= n:\n",
    "            print(c, end=\" \")\n",
    "        else:\n",
    "            break\n",
    "else:\n",
    "    print(\"Please enter a posative number !\")"
   ]
  },
  {
   "cell_type": "code",
   "execution_count": null,
   "metadata": {},
   "outputs": [],
   "source": []
  }
 ],
 "metadata": {
  "kernelspec": {
   "display_name": ".venv",
   "language": "python",
   "name": "python3"
  },
  "language_info": {
   "codemirror_mode": {
    "name": "ipython",
    "version": 3
   },
   "file_extension": ".py",
   "mimetype": "text/x-python",
   "name": "python",
   "nbconvert_exporter": "python",
   "pygments_lexer": "ipython3",
   "version": "3.12.8"
  }
 },
 "nbformat": 4,
 "nbformat_minor": 2
}
