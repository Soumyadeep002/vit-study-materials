{
 "cells": [
  {
   "cell_type": "markdown",
   "id": "88e3e612",
   "metadata": {},
   "source": [
    "# **DL Lab 6**\n",
    "## **Name: Soumyadeep Ganguly**\n",
    "## **Reg No: 24MDT0082**"
   ]
  },
  {
   "cell_type": "code",
   "execution_count": 71,
   "id": "f85296c6",
   "metadata": {},
   "outputs": [],
   "source": [
    "from tensorflow.keras.datasets import boston_housing\n",
    "from tensorflow.keras.models import Sequential\n",
    "from tensorflow.keras.layers import Dense, Dropout, Flatten\n",
    "from tensorflow.keras.utils import to_categorical\n",
    "from tensorflow.keras.optimizers import SGD, RMSprop, Adam\n",
    "from tensorflow.keras.callbacks import EarlyStopping\n",
    "from sklearn.preprocessing import MinMaxScaler, StandardScaler\n",
    "import tensorflow as tf\n",
    "import keras_tuner as kt"
   ]
  },
  {
   "cell_type": "markdown",
   "id": "9d541f2b",
   "metadata": {},
   "source": [
    "## **Question 1**"
   ]
  },
  {
   "cell_type": "code",
   "execution_count": 72,
   "id": "616faa77",
   "metadata": {},
   "outputs": [
    {
     "data": {
      "text/plain": [
       "(404, 13)"
      ]
     },
     "execution_count": 72,
     "metadata": {},
     "output_type": "execute_result"
    }
   ],
   "source": [
    "(x_train, y_train), (x_test, y_test) = boston_housing.load_data()\n",
    "x_train.shape"
   ]
  },
  {
   "cell_type": "code",
   "execution_count": 73,
   "id": "373dd08e",
   "metadata": {},
   "outputs": [],
   "source": [
    "scaler = StandardScaler()\n",
    "x_train = scaler.fit_transform(x_train)\n",
    "x_test = scaler.fit_transform(x_test)"
   ]
  },
  {
   "cell_type": "code",
   "execution_count": 74,
   "id": "8376ffc7",
   "metadata": {},
   "outputs": [
    {
     "name": "stderr",
     "output_type": "stream",
     "text": [
      "e:\\VIT Study Materials\\SEM 3\\Deep Learning\\LAB\\.venv\\Lib\\site-packages\\keras\\src\\layers\\reshaping\\flatten.py:37: UserWarning: Do not pass an `input_shape`/`input_dim` argument to a layer. When using Sequential models, prefer using an `Input(shape)` object as the first layer in the model instead.\n",
      "  super().__init__(**kwargs)\n"
     ]
    },
    {
     "data": {
      "text/html": [
       "<pre style=\"white-space:pre;overflow-x:auto;line-height:normal;font-family:Menlo,'DejaVu Sans Mono',consolas,'Courier New',monospace\"><span style=\"font-weight: bold\">Model: \"sequential_1\"</span>\n",
       "</pre>\n"
      ],
      "text/plain": [
       "\u001b[1mModel: \"sequential_1\"\u001b[0m\n"
      ]
     },
     "metadata": {},
     "output_type": "display_data"
    },
    {
     "data": {
      "text/html": [
       "<pre style=\"white-space:pre;overflow-x:auto;line-height:normal;font-family:Menlo,'DejaVu Sans Mono',consolas,'Courier New',monospace\">┏━━━━━━━━━━━━━━━━━━━━━━━━━━━━━━━━━┳━━━━━━━━━━━━━━━━━━━━━━━━┳━━━━━━━━━━━━━━━┓\n",
       "┃<span style=\"font-weight: bold\"> Layer (type)                    </span>┃<span style=\"font-weight: bold\"> Output Shape           </span>┃<span style=\"font-weight: bold\">       Param # </span>┃\n",
       "┡━━━━━━━━━━━━━━━━━━━━━━━━━━━━━━━━━╇━━━━━━━━━━━━━━━━━━━━━━━━╇━━━━━━━━━━━━━━━┩\n",
       "│ flatten_1 (<span style=\"color: #0087ff; text-decoration-color: #0087ff\">Flatten</span>)             │ (<span style=\"color: #00d7ff; text-decoration-color: #00d7ff\">None</span>, <span style=\"color: #00af00; text-decoration-color: #00af00\">13</span>)             │             <span style=\"color: #00af00; text-decoration-color: #00af00\">0</span> │\n",
       "├─────────────────────────────────┼────────────────────────┼───────────────┤\n",
       "│ dense_2 (<span style=\"color: #0087ff; text-decoration-color: #0087ff\">Dense</span>)                 │ (<span style=\"color: #00d7ff; text-decoration-color: #00d7ff\">None</span>, <span style=\"color: #00af00; text-decoration-color: #00af00\">256</span>)            │         <span style=\"color: #00af00; text-decoration-color: #00af00\">3,584</span> │\n",
       "├─────────────────────────────────┼────────────────────────┼───────────────┤\n",
       "│ dense_3 (<span style=\"color: #0087ff; text-decoration-color: #0087ff\">Dense</span>)                 │ (<span style=\"color: #00d7ff; text-decoration-color: #00d7ff\">None</span>, <span style=\"color: #00af00; text-decoration-color: #00af00\">128</span>)            │        <span style=\"color: #00af00; text-decoration-color: #00af00\">32,896</span> │\n",
       "├─────────────────────────────────┼────────────────────────┼───────────────┤\n",
       "│ dense_4 (<span style=\"color: #0087ff; text-decoration-color: #0087ff\">Dense</span>)                 │ (<span style=\"color: #00d7ff; text-decoration-color: #00d7ff\">None</span>, <span style=\"color: #00af00; text-decoration-color: #00af00\">1</span>)              │           <span style=\"color: #00af00; text-decoration-color: #00af00\">129</span> │\n",
       "└─────────────────────────────────┴────────────────────────┴───────────────┘\n",
       "</pre>\n"
      ],
      "text/plain": [
       "┏━━━━━━━━━━━━━━━━━━━━━━━━━━━━━━━━━┳━━━━━━━━━━━━━━━━━━━━━━━━┳━━━━━━━━━━━━━━━┓\n",
       "┃\u001b[1m \u001b[0m\u001b[1mLayer (type)                   \u001b[0m\u001b[1m \u001b[0m┃\u001b[1m \u001b[0m\u001b[1mOutput Shape          \u001b[0m\u001b[1m \u001b[0m┃\u001b[1m \u001b[0m\u001b[1m      Param #\u001b[0m\u001b[1m \u001b[0m┃\n",
       "┡━━━━━━━━━━━━━━━━━━━━━━━━━━━━━━━━━╇━━━━━━━━━━━━━━━━━━━━━━━━╇━━━━━━━━━━━━━━━┩\n",
       "│ flatten_1 (\u001b[38;5;33mFlatten\u001b[0m)             │ (\u001b[38;5;45mNone\u001b[0m, \u001b[38;5;34m13\u001b[0m)             │             \u001b[38;5;34m0\u001b[0m │\n",
       "├─────────────────────────────────┼────────────────────────┼───────────────┤\n",
       "│ dense_2 (\u001b[38;5;33mDense\u001b[0m)                 │ (\u001b[38;5;45mNone\u001b[0m, \u001b[38;5;34m256\u001b[0m)            │         \u001b[38;5;34m3,584\u001b[0m │\n",
       "├─────────────────────────────────┼────────────────────────┼───────────────┤\n",
       "│ dense_3 (\u001b[38;5;33mDense\u001b[0m)                 │ (\u001b[38;5;45mNone\u001b[0m, \u001b[38;5;34m128\u001b[0m)            │        \u001b[38;5;34m32,896\u001b[0m │\n",
       "├─────────────────────────────────┼────────────────────────┼───────────────┤\n",
       "│ dense_4 (\u001b[38;5;33mDense\u001b[0m)                 │ (\u001b[38;5;45mNone\u001b[0m, \u001b[38;5;34m1\u001b[0m)              │           \u001b[38;5;34m129\u001b[0m │\n",
       "└─────────────────────────────────┴────────────────────────┴───────────────┘\n"
      ]
     },
     "metadata": {},
     "output_type": "display_data"
    },
    {
     "data": {
      "text/html": [
       "<pre style=\"white-space:pre;overflow-x:auto;line-height:normal;font-family:Menlo,'DejaVu Sans Mono',consolas,'Courier New',monospace\"><span style=\"font-weight: bold\"> Total params: </span><span style=\"color: #00af00; text-decoration-color: #00af00\">36,609</span> (143.00 KB)\n",
       "</pre>\n"
      ],
      "text/plain": [
       "\u001b[1m Total params: \u001b[0m\u001b[38;5;34m36,609\u001b[0m (143.00 KB)\n"
      ]
     },
     "metadata": {},
     "output_type": "display_data"
    },
    {
     "data": {
      "text/html": [
       "<pre style=\"white-space:pre;overflow-x:auto;line-height:normal;font-family:Menlo,'DejaVu Sans Mono',consolas,'Courier New',monospace\"><span style=\"font-weight: bold\"> Trainable params: </span><span style=\"color: #00af00; text-decoration-color: #00af00\">36,609</span> (143.00 KB)\n",
       "</pre>\n"
      ],
      "text/plain": [
       "\u001b[1m Trainable params: \u001b[0m\u001b[38;5;34m36,609\u001b[0m (143.00 KB)\n"
      ]
     },
     "metadata": {},
     "output_type": "display_data"
    },
    {
     "data": {
      "text/html": [
       "<pre style=\"white-space:pre;overflow-x:auto;line-height:normal;font-family:Menlo,'DejaVu Sans Mono',consolas,'Courier New',monospace\"><span style=\"font-weight: bold\"> Non-trainable params: </span><span style=\"color: #00af00; text-decoration-color: #00af00\">0</span> (0.00 B)\n",
       "</pre>\n"
      ],
      "text/plain": [
       "\u001b[1m Non-trainable params: \u001b[0m\u001b[38;5;34m0\u001b[0m (0.00 B)\n"
      ]
     },
     "metadata": {},
     "output_type": "display_data"
    }
   ],
   "source": [
    "model = Sequential()\n",
    "model.add(Flatten(input_shape =(13,)))\n",
    "model.add(Dense(256, activation=\"sigmoid\"))\n",
    "model.add(Dense(128, activation=\"sigmoid\"))\n",
    "model.add(Dense(1, activation=\"linear\"))\n",
    "model.summary()\n"
   ]
  },
  {
   "cell_type": "code",
   "execution_count": 75,
   "id": "b91ac988",
   "metadata": {},
   "outputs": [],
   "source": [
    "optimizer = SGD(learning_rate = 0.01, momentum=0.9)\n",
    "estop = EarlyStopping(monitor = 'val_loss', min_delta = 1e-5, mode= 'min', patience=10, verbose = 1, restore_best_weights=True)"
   ]
  },
  {
   "cell_type": "code",
   "execution_count": 76,
   "id": "71ac2e5e",
   "metadata": {},
   "outputs": [
    {
     "name": "stdout",
     "output_type": "stream",
     "text": [
      "Epoch 1/500\n",
      "\u001b[1m7/7\u001b[0m \u001b[32m━━━━━━━━━━━━━━━━━━━━\u001b[0m\u001b[37m\u001b[0m \u001b[1m1s\u001b[0m 31ms/step - loss: 298.8238 - r2_score: -2.7639 - val_loss: 83.0537 - val_r2_score: 0.0023\n",
      "Epoch 2/500\n",
      "\u001b[1m7/7\u001b[0m \u001b[32m━━━━━━━━━━━━━━━━━━━━\u001b[0m\u001b[37m\u001b[0m \u001b[1m0s\u001b[0m 11ms/step - loss: 87.7417 - r2_score: -0.0767 - val_loss: 105.8587 - val_r2_score: -0.2717\n",
      "Epoch 3/500\n",
      "\u001b[1m7/7\u001b[0m \u001b[32m━━━━━━━━━━━━━━━━━━━━\u001b[0m\u001b[37m\u001b[0m \u001b[1m0s\u001b[0m 13ms/step - loss: 99.9092 - r2_score: -0.0556 - val_loss: 76.2419 - val_r2_score: 0.0841\n",
      "Epoch 4/500\n",
      "\u001b[1m7/7\u001b[0m \u001b[32m━━━━━━━━━━━━━━━━━━━━\u001b[0m\u001b[37m\u001b[0m \u001b[1m0s\u001b[0m 11ms/step - loss: 66.4051 - r2_score: 0.2359 - val_loss: 75.8833 - val_r2_score: 0.0884\n",
      "Epoch 5/500\n",
      "\u001b[1m7/7\u001b[0m \u001b[32m━━━━━━━━━━━━━━━━━━━━\u001b[0m\u001b[37m\u001b[0m \u001b[1m0s\u001b[0m 12ms/step - loss: 63.3647 - r2_score: 0.2563 - val_loss: 34.1310 - val_r2_score: 0.5900\n",
      "Epoch 6/500\n",
      "\u001b[1m7/7\u001b[0m \u001b[32m━━━━━━━━━━━━━━━━━━━━\u001b[0m\u001b[37m\u001b[0m \u001b[1m0s\u001b[0m 13ms/step - loss: 36.0213 - r2_score: 0.5973 - val_loss: 23.9991 - val_r2_score: 0.7117\n",
      "Epoch 7/500\n",
      "\u001b[1m7/7\u001b[0m \u001b[32m━━━━━━━━━━━━━━━━━━━━\u001b[0m\u001b[37m\u001b[0m \u001b[1m0s\u001b[0m 13ms/step - loss: 17.8503 - r2_score: 0.7882 - val_loss: 23.1536 - val_r2_score: 0.7219\n",
      "Epoch 8/500\n",
      "\u001b[1m7/7\u001b[0m \u001b[32m━━━━━━━━━━━━━━━━━━━━\u001b[0m\u001b[37m\u001b[0m \u001b[1m0s\u001b[0m 14ms/step - loss: 18.6799 - r2_score: 0.7870 - val_loss: 21.1677 - val_r2_score: 0.7457\n",
      "Epoch 9/500\n",
      "\u001b[1m7/7\u001b[0m \u001b[32m━━━━━━━━━━━━━━━━━━━━\u001b[0m\u001b[37m\u001b[0m \u001b[1m0s\u001b[0m 15ms/step - loss: 18.4805 - r2_score: 0.7909 - val_loss: 19.7844 - val_r2_score: 0.7623\n",
      "Epoch 10/500\n",
      "\u001b[1m7/7\u001b[0m \u001b[32m━━━━━━━━━━━━━━━━━━━━\u001b[0m\u001b[37m\u001b[0m \u001b[1m0s\u001b[0m 14ms/step - loss: 16.2552 - r2_score: 0.8051 - val_loss: 23.6110 - val_r2_score: 0.7164\n",
      "Epoch 11/500\n",
      "\u001b[1m7/7\u001b[0m \u001b[32m━━━━━━━━━━━━━━━━━━━━\u001b[0m\u001b[37m\u001b[0m \u001b[1m0s\u001b[0m 12ms/step - loss: 14.5215 - r2_score: 0.8036 - val_loss: 21.4929 - val_r2_score: 0.7418\n",
      "Epoch 12/500\n",
      "\u001b[1m7/7\u001b[0m \u001b[32m━━━━━━━━━━━━━━━━━━━━\u001b[0m\u001b[37m\u001b[0m \u001b[1m0s\u001b[0m 11ms/step - loss: 14.3077 - r2_score: 0.8266 - val_loss: 21.8749 - val_r2_score: 0.7372\n",
      "Epoch 13/500\n",
      "\u001b[1m7/7\u001b[0m \u001b[32m━━━━━━━━━━━━━━━━━━━━\u001b[0m\u001b[37m\u001b[0m \u001b[1m0s\u001b[0m 13ms/step - loss: 15.9619 - r2_score: 0.8140 - val_loss: 23.8275 - val_r2_score: 0.7138\n",
      "Epoch 14/500\n",
      "\u001b[1m7/7\u001b[0m \u001b[32m━━━━━━━━━━━━━━━━━━━━\u001b[0m\u001b[37m\u001b[0m \u001b[1m0s\u001b[0m 13ms/step - loss: 13.5408 - r2_score: 0.8445 - val_loss: 22.3081 - val_r2_score: 0.7320\n",
      "Epoch 15/500\n",
      "\u001b[1m7/7\u001b[0m \u001b[32m━━━━━━━━━━━━━━━━━━━━\u001b[0m\u001b[37m\u001b[0m \u001b[1m0s\u001b[0m 13ms/step - loss: 16.0846 - r2_score: 0.8258 - val_loss: 23.5883 - val_r2_score: 0.7166\n",
      "Epoch 16/500\n",
      "\u001b[1m7/7\u001b[0m \u001b[32m━━━━━━━━━━━━━━━━━━━━\u001b[0m\u001b[37m\u001b[0m \u001b[1m0s\u001b[0m 12ms/step - loss: 11.0963 - r2_score: 0.8568 - val_loss: 24.5343 - val_r2_score: 0.7053\n",
      "Epoch 17/500\n",
      "\u001b[1m7/7\u001b[0m \u001b[32m━━━━━━━━━━━━━━━━━━━━\u001b[0m\u001b[37m\u001b[0m \u001b[1m0s\u001b[0m 11ms/step - loss: 12.6561 - r2_score: 0.8449 - val_loss: 29.2619 - val_r2_score: 0.6485\n",
      "Epoch 18/500\n",
      "\u001b[1m7/7\u001b[0m \u001b[32m━━━━━━━━━━━━━━━━━━━━\u001b[0m\u001b[37m\u001b[0m \u001b[1m0s\u001b[0m 11ms/step - loss: 14.3069 - r2_score: 0.8247 - val_loss: 27.9446 - val_r2_score: 0.6643\n",
      "Epoch 19/500\n",
      "\u001b[1m7/7\u001b[0m \u001b[32m━━━━━━━━━━━━━━━━━━━━\u001b[0m\u001b[37m\u001b[0m \u001b[1m0s\u001b[0m 11ms/step - loss: 12.1137 - r2_score: 0.8508 - val_loss: 26.1443 - val_r2_score: 0.6859\n",
      "Epoch 19: early stopping\n",
      "Restoring model weights from the end of the best epoch: 9.\n"
     ]
    }
   ],
   "source": [
    "model.compile(loss=\"mean_squared_error\", optimizer=optimizer, metrics=[tf.keras.metrics.R2Score])\n",
    "hist = model.fit(x_train, y_train, batch_size=64, epochs=500, validation_data=(x_test, y_test), verbose=1, callbacks = [estop])"
   ]
  },
  {
   "cell_type": "code",
   "execution_count": 77,
   "id": "8037eb8f",
   "metadata": {},
   "outputs": [
    {
     "name": "stdout",
     "output_type": "stream",
     "text": [
      "Loss: 19.78437042236328\n",
      "Accuracy: 0.7623322010040283\n"
     ]
    }
   ],
   "source": [
    "score = model.evaluate(x_test, y_test, verbose=0)\n",
    "print(f\"Loss: {score[0]}\")\n",
    "print(f\"Accuracy: {score[1]}\")\n"
   ]
  },
  {
   "cell_type": "code",
   "execution_count": 78,
   "id": "e765cad6",
   "metadata": {},
   "outputs": [
    {
     "data": {
      "text/plain": [
       "<matplotlib.legend.Legend at 0x1976fc88530>"
      ]
     },
     "execution_count": 78,
     "metadata": {},
     "output_type": "execute_result"
    },
    {
     "data": {
      "image/png": "[encoded data removed]",
      "text/plain": [
       "<Figure size 600x600 with 1 Axes>"
      ]
     },
     "metadata": {},
     "output_type": "display_data"
    }
   ],
   "source": [
    "import matplotlib.pyplot as plt\n",
    "fig, ax = plt.subplots(figsize=(6,6))\n",
    "ax.plot(hist.history['val_loss'], label=\"Validation Loss\")\n",
    "ax.plot(hist.history['loss'], label=\"Validation Loss\")\n",
    "ax.legend()"
   ]
  },
  {
   "cell_type": "markdown",
   "id": "25b094d1",
   "metadata": {},
   "source": [
    "## **Question 2**"
   ]
  },
  {
   "cell_type": "code",
   "execution_count": 79,
   "id": "bcf6f2e0",
   "metadata": {},
   "outputs": [
    {
     "name": "stdout",
     "output_type": "stream",
     "text": [
      "Trial 10 Complete [00h 00m 02s]\n",
      "val_r2: -1140.5057373046875\n",
      "\n",
      "Best val_r2 So Far: 0.8170754909515381\n",
      "Total elapsed time: 00h 00m 22s\n"
     ]
    }
   ],
   "source": [
    "def build_model(hp):\n",
    "\n",
    "    learning_rate = hp.Choice('learning_rate', values=[0.001, 0.01, 0.05])\n",
    "    momentum = hp.Choice('momentum', values=[0.0, 0.5, 0.9])\n",
    "    optimizer = SGD(learning_rate=learning_rate, momentum=momentum)\n",
    "\n",
    "    model = Sequential()\n",
    "    model.add(Flatten(input_shape=(13, )))\n",
    "    units = hp.Int('units', min_value=64, max_value=512, step=64)\n",
    "    model.add(Dense(units, activation='sigmoid'))\n",
    "    dropout_rate = hp.Float('dropout', min_value=0.0, max_value=0.5, step=0.1)\n",
    "    model.add(Dropout(dropout_rate))\n",
    "    model.add(Dense(1, activation='linear'))\n",
    "    model.compile(\n",
    "        optimizer=optimizer,\n",
    "        loss='mean_squared_error',\n",
    "        metrics=[tf.keras.metrics.R2Score(name=\"r2\")]   \n",
    "    )\n",
    "    return model\n",
    "\n",
    "\n",
    "tuner = kt.RandomSearch(\n",
    "    build_model,\n",
    "    objective=kt.Objective(\"val_r2\", direction=\"max\"),  \n",
    "    max_trials=10,\n",
    "    executions_per_trial=1,\n",
    "    directory='boston_housing_tuning',\n",
    "    project_name=\"learning_rate_momentum_comparison\"\n",
    ")\n",
    "\n",
    "tuner.search(\n",
    "    x_train, y_train,\n",
    "    epochs=10,\n",
    "    validation_split=0.2,\n",
    "    batch_size=128,\n",
    "    callbacks=[tf.keras.callbacks.EarlyStopping(monitor='val_loss', patience=5)]\n",
    ")\n"
   ]
  },
  {
   "cell_type": "markdown",
   "id": "e4e2085e",
   "metadata": {},
   "source": [
    "### **Best Parameters**"
   ]
  },
  {
   "cell_type": "code",
   "execution_count": 89,
   "id": "ca98a37c",
   "metadata": {},
   "outputs": [
    {
     "name": "stdout",
     "output_type": "stream",
     "text": [
      "\n",
      "Best Hyperparameters found:\n",
      "Learning Rate: 0.05\n",
      "Momentum: 0.5\n",
      "Units: 128\n",
      "Dropout: 0.2\n",
      "\n",
      "Best Model Performance on Test Data:\n",
      "Test MSE: 17.8898\n",
      "Test R2 Score: 0.7851\n"
     ]
    }
   ],
   "source": [
    "# Get the best hyperparameters\n",
    "best_hp = tuner.get_best_hyperparameters(num_trials=10)[0]\n",
    "\n",
    "print(\"\\nBest Hyperparameters found:\")\n",
    "print(\"Learning Rate:\", best_hp.get('learning_rate'))\n",
    "print(\"Momentum:\", best_hp.get('momentum'))\n",
    "print(\"Units:\", best_hp.get('units'))\n",
    "print(\"Dropout:\", best_hp.get('dropout'))\n",
    "\n",
    "# Get the best model\n",
    "best_model = tuner.get_best_models(num_models=1)[0]\n",
    "\n",
    "# Evaluate on test set\n",
    "test_loss, test_r2 = best_model.evaluate(x_test, y_test, verbose=0)\n",
    "\n",
    "print(f\"\\nBest Model Performance on Test Data:\")\n",
    "print(f\"Test MSE: {test_loss:.4f}\")\n",
    "print(f\"Test R2 Score: {test_r2:.4f}\")"
   ]
  },
  {
   "cell_type": "markdown",
   "id": "f7f0662d",
   "metadata": {},
   "source": [
    "## **Question 3**"
   ]
  },
  {
   "cell_type": "code",
   "execution_count": 81,
   "id": "4d38d892",
   "metadata": {},
   "outputs": [
    {
     "name": "stdout",
     "output_type": "stream",
     "text": [
      "Trial 10 Complete [00h 00m 02s]\n",
      "val_r2: 0.64320969581604\n",
      "\n",
      "Best val_r2 So Far: 0.64320969581604\n",
      "Total elapsed time: 00h 00m 23s\n"
     ]
    }
   ],
   "source": [
    "def build_model_opt(hp):\n",
    "    optimizer_choice = hp.Choice('optimizer', ['SGD', 'RMSprop', 'Adam'])\n",
    "    if optimizer_choice == 'SGD':\n",
    "        optimizer = SGD(\n",
    "            learning_rate = hp.Choice('lr', [1e-2, 1e-3, 1e-4]),\n",
    "            momentum = hp.Choice('momentum', [0.8, 0.9, 0.95, 0.99])\n",
    "        )\n",
    "    elif optimizer_choice == \"RMSprop\":\n",
    "        optimizer = RMSprop(\n",
    "            learning_rate = hp.Choice('lr_rms', [1e-2, 1e-3, 1e-4])\n",
    "        )\n",
    "    else:\n",
    "        optimizer = Adam(\n",
    "            learning_rate = hp.Choice('lr_adam', [1e-2, 1e-3, 1e-4])\n",
    "        )\n",
    "    \n",
    "\n",
    "    model = Sequential()\n",
    "    model.add(Flatten(input_shape=(13, )))\n",
    "    units = hp.Int('units', min_value=64, max_value=512, step=64)\n",
    "    model.add(Dense(units, activation='sigmoid'))\n",
    "    dropout_rate = hp.Float('dropout', min_value=0.0, max_value=0.5, step=0.1)\n",
    "    model.add(Dropout(dropout_rate))\n",
    "    model.add(Dense(1, activation='linear'))\n",
    "    model.compile(\n",
    "        optimizer=optimizer,\n",
    "        loss='mean_squared_error',\n",
    "        metrics=[tf.keras.metrics.R2Score(name=\"r2\")]   \n",
    "    )\n",
    "    return model\n",
    "\n",
    "\n",
    "tuner2 = kt.RandomSearch(\n",
    "    build_model_opt,\n",
    "    objective=kt.Objective(\"val_r2\", direction=\"max\"),  \n",
    "    max_trials=10,\n",
    "    executions_per_trial=1,\n",
    "    directory='boston_housing_tuning',\n",
    "    project_name=\"optimizer_comparison\"\n",
    ")\n",
    "\n",
    "tuner2.search(\n",
    "    x_train, y_train,\n",
    "    epochs=10,\n",
    "    validation_split=0.2,\n",
    "    batch_size=128,\n",
    "    callbacks=[tf.keras.callbacks.EarlyStopping(monitor='val_loss', patience=5)]\n",
    ")"
   ]
  },
  {
   "cell_type": "markdown",
   "id": "5ddd596c",
   "metadata": {},
   "source": [
    "### **Best Optimizer**"
   ]
  },
  {
   "cell_type": "code",
   "execution_count": 90,
   "id": "107ddd35",
   "metadata": {},
   "outputs": [
    {
     "name": "stdout",
     "output_type": "stream",
     "text": [
      "\n",
      "Best Hyperparameters found:\n",
      "Optimizer: Adam\n",
      "Units: 320\n",
      "Dropout: 0.0\n",
      "Learning Rate: 0.01\n",
      "\n",
      "Best Model Performance on Test Data:\n",
      "Test MSE: 25.6011\n",
      "Test R2 Score: 0.6925\n"
     ]
    }
   ],
   "source": [
    "best_hp = tuner2.get_best_hyperparameters(num_trials=10)[0]\n",
    "\n",
    "print(\"\\nBest Hyperparameters found:\")\n",
    "print(\"Optimizer:\", best_hp.get('optimizer'))\n",
    "print(\"Units:\", best_hp.get('units'))\n",
    "print(\"Dropout:\", best_hp.get('dropout'))\n",
    "\n",
    "if best_hp.get('optimizer') == 'SGD':\n",
    "    print(\"Learning Rate:\", best_hp.get('lr'))\n",
    "    print(\"Momentum:\", best_hp.get('momentum'))\n",
    "elif best_hp.get('optimizer') == 'RMSprop':\n",
    "    print(\"Learning Rate:\", best_hp.get('lr_rms'))\n",
    "elif best_hp.get('optimizer') == 'Adam':\n",
    "    print(\"Learning Rate:\", best_hp.get('lr_adam'))\n",
    "\n",
    "best_model = tuner2.get_best_models(num_models=1)[0]\n",
    "test_loss, test_r2 = best_model.evaluate(x_test, y_test, verbose=0)\n",
    "\n",
    "print(f\"\\nBest Model Performance on Test Data:\")\n",
    "print(f\"Test MSE: {test_loss:.4f}\")\n",
    "print(f\"Test R2 Score: {test_r2:.4f}\")"
   ]
  }
 ],
 "metadata": {
  "kernelspec": {
   "display_name": ".venv",
   "language": "python",
   "name": "python3"
  },
  "language_info": {
   "codemirror_mode": {
    "name": "ipython",
    "version": 3
   },
   "file_extension": ".py",
   "mimetype": "text/x-python",
   "name": "python",
   "nbconvert_exporter": "python",
   "pygments_lexer": "ipython3",
   "version": "3.12.10"
  }
 },
 "nbformat": 4,
 "nbformat_minor": 5
}
