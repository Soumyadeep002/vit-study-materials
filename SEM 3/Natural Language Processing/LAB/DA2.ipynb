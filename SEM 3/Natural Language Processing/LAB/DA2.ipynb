{
 "cells": [
  {
   "cell_type": "markdown",
   "id": "64116b97",
   "metadata": {},
   "source": [
    "# **LAB DIGITAL ASSIGNMENT 2**\n",
    "# **SUBJECT: NATURAL LANGUAGE PROCESSING LAB (PMDS606P)**\n",
    "# **CLASS ID - VL2025260105170**\n",
    "<br>\n",
    "<br>\n",
    "\n",
    "## **Name: Soumyadeep Ganguly**\n",
    "## **Reg No: 24MDT0082**\n",
    "## **Course: M.Sc Data Science**\n",
    "\n",
    "\n"
   ]
  },
  {
   "cell_type": "markdown",
   "id": "5071bb59",
   "metadata": {},
   "source": [
    "# **Problem Statement:**\n",
    "## Write a program to classify contexts involving the word 'must' according to the tag of the following word."
   ]
  },
  {
   "cell_type": "code",
   "execution_count": 3,
   "id": "63b245c3",
   "metadata": {},
   "outputs": [],
   "source": [
    "import spacy\n",
    "nlp = spacy.load(\"en_core_web_sm\")"
   ]
  },
  {
   "cell_type": "code",
   "execution_count": 7,
   "id": "20a4f833",
   "metadata": {},
   "outputs": [],
   "source": [
    "def must_usage(sentence):\n",
    "    doc = nlp(sentence)\n",
    "    for i, token in enumerate(doc):\n",
    "        if token.text.lower() == \"must\" and i + 1 < len(doc):\n",
    "            next_token = doc[i + 1]\n",
    "            next_pos = next_token.pos_\n",
    "            if next_token.lemma_ == \"have\" and i + 2 < len(doc) and doc[i+2].tag_ in [\"VBN\"]:\n",
    "                return f\"Sentence: '{sentence}'\\n-> 'must' used as Modal Perfect (must have + past participle).\"\n",
    "\n",
    "            elif next_pos == \"VERB\":\n",
    "                return f\"Sentence: '{sentence}'\\n-> 'must' expresses Obligation (followed by a verb).\"\n",
    "\n",
    "            elif next_pos == \"NOUN\":\n",
    "                return f\"Sentence: '{sentence}'\\n-> 'must' used as Adjective-like (describing a noun).\"\n",
    "\n",
    "            else:\n",
    "                return f\"Sentence: '{sentence}'\\n-> 'must' usage unclear, next word is {next_pos}.\"\n",
    "    \n",
    "    return f\"Sentence: '{sentence}'\\n-> No 'must' found.\""
   ]
  },
  {
   "cell_type": "markdown",
   "id": "276ae374",
   "metadata": {},
   "source": [
    "## **Output**"
   ]
  },
  {
   "cell_type": "code",
   "execution_count": 8,
   "id": "11326846",
   "metadata": {},
   "outputs": [
    {
     "name": "stdout",
     "output_type": "stream",
     "text": [
      "Sentence: 'You must go now.'\n",
      "-> 'must' expresses Obligation (followed by a verb).\n",
      "Sentence: 'She must have finished her work.'\n",
      "-> 'must' used as Modal Perfect (must have + past participle).\n",
      "Sentence: 'These are must things to carry.'\n",
      "-> 'must' used as Adjective-like (describing a noun).\n"
     ]
    }
   ],
   "source": [
    "sentences = [\n",
    "    \"You must go now.\",\n",
    "    \"She must have finished her work.\",\n",
    "    \"These are must things to carry.\"\n",
    "]\n",
    "\n",
    "for s in sentences:\n",
    "    print(must_usage(s))"
   ]
  },
  {
   "cell_type": "code",
   "execution_count": null,
   "id": "c0d8515f",
   "metadata": {},
   "outputs": [],
   "source": []
  }
 ],
 "metadata": {
  "kernelspec": {
   "display_name": ".venv",
   "language": "python",
   "name": "python3"
  },
  "language_info": {
   "codemirror_mode": {
    "name": "ipython",
    "version": 3
   },
   "file_extension": ".py",
   "mimetype": "text/x-python",
   "name": "python",
   "nbconvert_exporter": "python",
   "pygments_lexer": "ipython3",
   "version": "3.12.10"
  }
 },
 "nbformat": 4,
 "nbformat_minor": 5
}
